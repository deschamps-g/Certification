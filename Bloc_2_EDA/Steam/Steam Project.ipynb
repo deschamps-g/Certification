{
 "cells": [
  {
   "cell_type": "code",
   "execution_count": 0,
   "metadata": {
    "application/vnd.databricks.v1+cell": {
     "cellMetadata": {
      "byteLimit": 2048000,
      "rowLimit": 10000
     },
     "inputWidgets": {},
     "nuid": "3a88e605-56ed-47c1-b89f-31acc6e86ce0",
     "showTitle": false,
     "title": ""
    }
   },
   "outputs": [],
   "source": [
    "from pyspark.sql import functions as F\n",
    "from functools import reduce\n",
    "\n",
    "filepath = 's3://full-stack-bigdata-datasets/Big_Data/Project_Steam/steam_game_output.json'"
   ]
  },
  {
   "cell_type": "markdown",
   "metadata": {
    "application/vnd.databricks.v1+cell": {
     "cellMetadata": {
      "byteLimit": 2048000,
      "rowLimit": 10000
     },
     "inputWidgets": {},
     "nuid": "10f309f4-df38-4500-ad12-a6c33eb812f2",
     "showTitle": false,
     "title": ""
    }
   },
   "source": [
    "Nous chargeons le fichier dans un dataframe pyspark et nous affichons ses 5 premiers éléments pour se faire une idée du contenu.\n",
    "\n",
    "Dans le cas présent il n'y a que 2 colonnes : une colonne \"id\" et une colonne \"data\". Cette dernière semble contenir l'intégralité des données exploitables."
   ]
  },
  {
   "cell_type": "code",
   "execution_count": 0,
   "metadata": {
    "application/vnd.databricks.v1+cell": {
     "cellMetadata": {
      "byteLimit": 2048000,
      "rowLimit": 10000
     },
     "inputWidgets": {},
     "nuid": "3d7784b4-4e50-4b91-8389-8df4332af27e",
     "showTitle": false,
     "title": ""
    }
   },
   "outputs": [
    {
     "output_type": "stream",
     "name": "stdout",
     "output_type": "stream",
     "text": [
      "+--------------------+-------+\n|                data|     id|\n+--------------------+-------+\n|{10, [Multi-playe...|     10|\n|{1000000, [Single...|1000000|\n|{1000010, [Single...|1000010|\n|{1000030, [Multi-...|1000030|\n|{1000040, [Single...|1000040|\n+--------------------+-------+\nonly showing top 5 rows\n\n"
     ]
    }
   ],
   "source": [
    "df = (spark.read.format('json')\\\n",
    "             .option('header', 'true')\\\n",
    "             .load(filepath))\n",
    "\n",
    "df.show(5)"
   ]
  },
  {
   "cell_type": "markdown",
   "metadata": {
    "application/vnd.databricks.v1+cell": {
     "cellMetadata": {
      "byteLimit": 2048000,
      "rowLimit": 10000
     },
     "inputWidgets": {},
     "nuid": "dc1b8548-84aa-4c39-aaf0-bf57e226a3bb",
     "showTitle": false,
     "title": ""
    }
   },
   "source": [
    "Nous nous intéressons maintenant au contenu de la colonne \"data\", en commençant par afficher le schéma du dataframe.\n",
    "\n",
    "Comme pressenti, la colonne \"data\" contient les données qui nous intéressent. Elle contient aussi un champ \"tags\" qui lui-même renferme plus de 400 sous-colonnes.\n",
    "\n",
    "Après renseignement, les champs \"tags\" correspondent aux avis des joueurs (sous la forme de votes) concernant les catégories auxquelles un jeu appartient. Ces champs sont à contraster avec ceux apparaissant dans la colonne \"genre\" qui contient la même information mais du point de vue de l'éditeur du jeu. Source : https://store.steampowered.com/tag/"
   ]
  },
  {
   "cell_type": "code",
   "execution_count": 0,
   "metadata": {
    "application/vnd.databricks.v1+cell": {
     "cellMetadata": {
      "byteLimit": 2048000,
      "rowLimit": 10000
     },
     "inputWidgets": {},
     "nuid": "4df78433-bb8e-4eb0-b414-a1e9085b9750",
     "showTitle": false,
     "title": ""
    }
   },
   "outputs": [
    {
     "output_type": "stream",
     "name": "stdout",
     "output_type": "stream",
     "text": [
      "root\n |-- data: struct (nullable = true)\n |    |-- appid: long (nullable = true)\n |    |-- categories: array (nullable = true)\n |    |    |-- element: string (containsNull = true)\n |    |-- ccu: long (nullable = true)\n |    |-- developer: string (nullable = true)\n |    |-- discount: string (nullable = true)\n |    |-- genre: string (nullable = true)\n |    |-- header_image: string (nullable = true)\n |    |-- initialprice: string (nullable = true)\n |    |-- languages: string (nullable = true)\n |    |-- name: string (nullable = true)\n |    |-- negative: long (nullable = true)\n |    |-- owners: string (nullable = true)\n |    |-- platforms: struct (nullable = true)\n |    |    |-- linux: boolean (nullable = true)\n |    |    |-- mac: boolean (nullable = true)\n |    |    |-- windows: boolean (nullable = true)\n |    |-- positive: long (nullable = true)\n |    |-- price: string (nullable = true)\n |    |-- publisher: string (nullable = true)\n |    |-- release_date: string (nullable = true)\n |    |-- required_age: string (nullable = true)\n |    |-- short_description: string (nullable = true)\n |    |-- tags: struct (nullable = true)\n |    |    |-- 1980s: long (nullable = true)\n |    |    |-- 1990's: long (nullable = true)\n |    |    |-- 2.5D: long (nullable = true)\n |    |    |-- 2D: long (nullable = true)\n |    |    |-- 2D Fighter: long (nullable = true)\n |    |    |-- 2D Platformer: long (nullable = true)\n |    |    |-- 360 Video: long (nullable = true)\n |    |    |-- 3D: long (nullable = true)\n |    |    |-- 3D Fighter: long (nullable = true)\n |    |    |-- 3D Platformer: long (nullable = true)\n |    |    |-- 3D Vision: long (nullable = true)\n |    |    |-- 4 Player Local: long (nullable = true)\n |    |    |-- 4X: long (nullable = true)\n |    |    |-- 6DOF: long (nullable = true)\n |    |    |-- 8-bit Music: long (nullable = true)\n |    |    |-- ATV: long (nullable = true)\n |    |    |-- Abstract: long (nullable = true)\n |    |    |-- Action: long (nullable = true)\n |    |    |-- Action RPG: long (nullable = true)\n |    |    |-- Action RTS: long (nullable = true)\n |    |    |-- Action Roguelike: long (nullable = true)\n |    |    |-- Action-Adventure: long (nullable = true)\n |    |    |-- Addictive: long (nullable = true)\n |    |    |-- Adventure: long (nullable = true)\n |    |    |-- Agriculture: long (nullable = true)\n |    |    |-- Aliens: long (nullable = true)\n |    |    |-- Alternate History: long (nullable = true)\n |    |    |-- Ambient: long (nullable = true)\n |    |    |-- America: long (nullable = true)\n |    |    |-- Animation & Modeling: long (nullable = true)\n |    |    |-- Anime: long (nullable = true)\n |    |    |-- Arcade: long (nullable = true)\n |    |    |-- Archery: long (nullable = true)\n |    |    |-- Arena Shooter: long (nullable = true)\n |    |    |-- Artificial Intelligence: long (nullable = true)\n |    |    |-- Assassin: long (nullable = true)\n |    |    |-- Asymmetric VR: long (nullable = true)\n |    |    |-- Asynchronous Multiplayer: long (nullable = true)\n |    |    |-- Atmospheric: long (nullable = true)\n |    |    |-- Audio Production: long (nullable = true)\n |    |    |-- Auto Battler: long (nullable = true)\n |    |    |-- Automation: long (nullable = true)\n |    |    |-- Automobile Sim: long (nullable = true)\n |    |    |-- BMX: long (nullable = true)\n |    |    |-- Base-Building: long (nullable = true)\n |    |    |-- Baseball: long (nullable = true)\n |    |    |-- Based On A Novel: long (nullable = true)\n |    |    |-- Basketball: long (nullable = true)\n |    |    |-- Battle Royale: long (nullable = true)\n |    |    |-- Beat 'em up: long (nullable = true)\n |    |    |-- Beautiful: long (nullable = true)\n |    |    |-- Benchmark: long (nullable = true)\n |    |    |-- Bikes: long (nullable = true)\n |    |    |-- Blood: long (nullable = true)\n |    |    |-- Board Game: long (nullable = true)\n |    |    |-- Boss Rush: long (nullable = true)\n |    |    |-- Bowling: long (nullable = true)\n |    |    |-- Boxing: long (nullable = true)\n |    |    |-- Building: long (nullable = true)\n |    |    |-- Bullet Hell: long (nullable = true)\n |    |    |-- Bullet Time: long (nullable = true)\n |    |    |-- CRPG: long (nullable = true)\n |    |    |-- Capitalism: long (nullable = true)\n |    |    |-- Card Battler: long (nullable = true)\n |    |    |-- Card Game: long (nullable = true)\n |    |    |-- Cartoon: long (nullable = true)\n |    |    |-- Cartoony: long (nullable = true)\n |    |    |-- Casual: long (nullable = true)\n |    |    |-- Cats: long (nullable = true)\n |    |    |-- Character Action Game: long (nullable = true)\n |    |    |-- Character Customization: long (nullable = true)\n |    |    |-- Chess: long (nullable = true)\n |    |    |-- Choices Matter: long (nullable = true)\n |    |    |-- Choose Your Own Adventure: long (nullable = true)\n |    |    |-- Cinematic: long (nullable = true)\n |    |    |-- City Builder: long (nullable = true)\n |    |    |-- Class-Based: long (nullable = true)\n |    |    |-- Classic: long (nullable = true)\n |    |    |-- Clicker: long (nullable = true)\n |    |    |-- Co-op: long (nullable = true)\n |    |    |-- Co-op Campaign: long (nullable = true)\n |    |    |-- Coding: long (nullable = true)\n |    |    |-- Cold War: long (nullable = true)\n |    |    |-- Collectathon: long (nullable = true)\n |    |    |-- Colony Sim: long (nullable = true)\n |    |    |-- Colorful: long (nullable = true)\n |    |    |-- Combat: long (nullable = true)\n |    |    |-- Combat Racing: long (nullable = true)\n |    |    |-- Comedy: long (nullable = true)\n |    |    |-- Comic Book: long (nullable = true)\n |    |    |-- Competitive: long (nullable = true)\n |    |    |-- Conspiracy: long (nullable = true)\n |    |    |-- Controller: long (nullable = true)\n |    |    |-- Conversation: long (nullable = true)\n |    |    |-- Cooking: long (nullable = true)\n |    |    |-- Cozy: long (nullable = true)\n |    |    |-- Crafting: long (nullable = true)\n |    |    |-- Creature Collector: long (nullable = true)\n |    |    |-- Cricket: long (nullable = true)\n |    |    |-- Crime: long (nullable = true)\n |    |    |-- Crowdfunded: long (nullable = true)\n |    |    |-- Cult Classic: long (nullable = true)\n |    |    |-- Cute: long (nullable = true)\n |    |    |-- Cyberpunk: long (nullable = true)\n |    |    |-- Cycling: long (nullable = true)\n |    |    |-- Dark: long (nullable = true)\n |    |    |-- Dark Comedy: long (nullable = true)\n |    |    |-- Dark Fantasy: long (nullable = true)\n |    |    |-- Dark Humor: long (nullable = true)\n |    |    |-- Dating Sim: long (nullable = true)\n |    |    |-- Deckbuilding: long (nullable = true)\n |    |    |-- Demons: long (nullable = true)\n |    |    |-- Design & Illustration: long (nullable = true)\n |    |    |-- Destruction: long (nullable = true)\n |    |    |-- Detective: long (nullable = true)\n |    |    |-- Difficult: long (nullable = true)\n |    |    |-- Dinosaurs: long (nullable = true)\n |    |    |-- Diplomacy: long (nullable = true)\n |    |    |-- Documentary: long (nullable = true)\n |    |    |-- Dog: long (nullable = true)\n |    |    |-- Dragons: long (nullable = true)\n |    |    |-- Drama: long (nullable = true)\n |    |    |-- Driving: long (nullable = true)\n |    |    |-- Dungeon Crawler: long (nullable = true)\n |    |    |-- Dungeons & Dragons: long (nullable = true)\n |    |    |-- Dynamic Narration: long (nullable = true)\n |    |    |-- Dystopian : long (nullable = true)\n |    |    |-- Early Access: long (nullable = true)\n |    |    |-- Economy: long (nullable = true)\n |    |    |-- Education: long (nullable = true)\n |    |    |-- Electronic: long (nullable = true)\n |    |    |-- Electronic Music: long (nullable = true)\n |    |    |-- Emotional: long (nullable = true)\n |    |    |-- Epic: long (nullable = true)\n |    |    |-- Episodic: long (nullable = true)\n |    |    |-- Escape Room: long (nullable = true)\n |    |    |-- Experience: long (nullable = true)\n |    |    |-- Experimental: long (nullable = true)\n |    |    |-- Exploration: long (nullable = true)\n |    |    |-- FMV: long (nullable = true)\n |    |    |-- FPS: long (nullable = true)\n |    |    |-- Faith: long (nullable = true)\n |    |    |-- Family Friendly: long (nullable = true)\n |    |    |-- Fantasy: long (nullable = true)\n |    |    |-- Farming: long (nullable = true)\n |    |    |-- Farming Sim: long (nullable = true)\n |    |    |-- Fast-Paced: long (nullable = true)\n |    |    |-- Feature Film: long (nullable = true)\n |    |    |-- Female Protagonist: long (nullable = true)\n |    |    |-- Fighting: long (nullable = true)\n |    |    |-- First-Person: long (nullable = true)\n |    |    |-- Fishing: long (nullable = true)\n |    |    |-- Flight: long (nullable = true)\n |    |    |-- Football: long (nullable = true)\n |    |    |-- Foreign: long (nullable = true)\n |    |    |-- Free to Play: long (nullable = true)\n |    |    |-- Funny: long (nullable = true)\n |    |    |-- Futuristic: long (nullable = true)\n |    |    |-- Gambling: long (nullable = true)\n |    |    |-- Game Development: long (nullable = true)\n |    |    |-- GameMaker: long (nullable = true)\n |    |    |-- Games Workshop: long (nullable = true)\n |    |    |-- Gaming: long (nullable = true)\n |    |    |-- God Game: long (nullable = true)\n |    |    |-- Golf: long (nullable = true)\n |    |    |-- Gore: long (nullable = true)\n |    |    |-- Gothic: long (nullable = true)\n |    |    |-- Grand Strategy: long (nullable = true)\n |    |    |-- Great Soundtrack: long (nullable = true)\n |    |    |-- Grid-Based Movement: long (nullable = true)\n |    |    |-- Gun Customization: long (nullable = true)\n |    |    |-- Hack and Slash: long (nullable = true)\n |    |    |-- Hacking: long (nullable = true)\n |    |    |-- Hand-drawn: long (nullable = true)\n |    |    |-- Hardware: long (nullable = true)\n |    |    |-- Heist: long (nullable = true)\n |    |    |-- Hentai: long (nullable = true)\n |    |    |-- Hero Shooter: long (nullable = true)\n |    |    |-- Hex Grid: long (nullable = true)\n |    |    |-- Hidden Object: long (nullable = true)\n |    |    |-- Historical: long (nullable = true)\n |    |    |-- Hockey: long (nullable = true)\n |    |    |-- Horror: long (nullable = true)\n |    |    |-- Horses: long (nullable = true)\n |    |    |-- Hunting: long (nullable = true)\n |    |    |-- Idler: long (nullable = true)\n |    |    |-- Illuminati: long (nullable = true)\n |    |    |-- Immersive: long (nullable = true)\n |    |    |-- Immersive Sim: long (nullable = true)\n |    |    |-- Indie: long (nullable = true)\n |    |    |-- Instrumental Music: long (nullable = true)\n |    |    |-- Intentionally Awkward Controls: long (nullable = true)\n |    |    |-- Interactive Fiction: long (nullable = true)\n |    |    |-- Inventory Management: long (nullable = true)\n |    |    |-- Investigation: long (nullable = true)\n |    |    |-- Isometric: long (nullable = true)\n |    |    |-- JRPG: long (nullable = true)\n |    |    |-- Jet: long (nullable = true)\n |    |    |-- Job Simulator: long (nullable = true)\n |    |    |-- Jump Scare: long (nullable = true)\n |    |    |-- Kickstarter: long (nullable = true)\n |    |    |-- LEGO: long (nullable = true)\n |    |    |-- LGBTQ+: long (nullable = true)\n |    |    |-- Lemmings: long (nullable = true)\n |    |    |-- Level Editor: long (nullable = true)\n |    |    |-- Life Sim: long (nullable = true)\n |    |    |-- Linear: long (nullable = true)\n |    |    |-- Local Co-Op: long (nullable = true)\n |    |    |-- Local Multiplayer: long (nullable = true)\n |    |    |-- Logic: long (nullable = true)\n |    |    |-- Loot: long (nullable = true)\n |    |    |-- Looter Shooter: long (nullable = true)\n |    |    |-- Lore-Rich: long (nullable = true)\n |    |    |-- Lovecraftian: long (nullable = true)\n |    |    |-- MMORPG: long (nullable = true)\n |    |    |-- MOBA: long (nullable = true)\n |    |    |-- Magic: long (nullable = true)\n |    |    |-- Mahjong: long (nullable = true)\n |    |    |-- Management: long (nullable = true)\n |    |    |-- Mars: long (nullable = true)\n |    |    |-- Martial Arts: long (nullable = true)\n |    |    |-- Massively Multiplayer: long (nullable = true)\n |    |    |-- Masterpiece: long (nullable = true)\n |    |    |-- Match 3: long (nullable = true)\n |    |    |-- Mature: long (nullable = true)\n |    |    |-- Mechs: long (nullable = true)\n |    |    |-- Medical Sim: long (nullable = true)\n |    |    |-- Medieval: long (nullable = true)\n |    |    |-- Memes: long (nullable = true)\n |    |    |-- Metroidvania: long (nullable = true)\n |    |    |-- Military: long (nullable = true)\n |    |    |-- Mini Golf: long (nullable = true)\n |    |    |-- Minigames: long (nullable = true)\n |    |    |-- Minimalist: long (nullable = true)\n |    |    |-- Mining: long (nullable = true)\n |    |    |-- Mod: long (nullable = true)\n |    |    |-- Moddable: long (nullable = true)\n |    |    |-- Modern: long (nullable = true)\n |    |    |-- Motocross: long (nullable = true)\n |    |    |-- Motorbike: long (nullable = true)\n |    |    |-- Mouse only: long (nullable = true)\n |    |    |-- Movie: long (nullable = true)\n |    |    |-- Multiplayer: long (nullable = true)\n |    |    |-- Multiple Endings: long (nullable = true)\n |    |    |-- Music: long (nullable = true)\n |    |    |-- Music-Based Procedural Generation: long (nullable = true)\n |    |    |-- Musou: long (nullable = true)\n |    |    |-- Mystery: long (nullable = true)\n |    |    |-- Mystery Dungeon: long (nullable = true)\n |    |    |-- Mythology: long (nullable = true)\n |    |    |-- NSFW: long (nullable = true)\n |    |    |-- Narration: long (nullable = true)\n |    |    |-- Narrative: long (nullable = true)\n |    |    |-- Nature: long (nullable = true)\n |    |    |-- Naval: long (nullable = true)\n |    |    |-- Naval Combat: long (nullable = true)\n |    |    |-- Ninja: long (nullable = true)\n |    |    |-- Noir: long (nullable = true)\n |    |    |-- Nonlinear: long (nullable = true)\n |    |    |-- Nostalgia: long (nullable = true)\n |    |    |-- Nudity: long (nullable = true)\n |    |    |-- Offroad: long (nullable = true)\n |    |    |-- Old School: long (nullable = true)\n |    |    |-- On-Rails Shooter: long (nullable = true)\n |    |    |-- Online Co-Op: long (nullable = true)\n |    |    |-- Open World: long (nullable = true)\n |    |    |-- Open World Survival Craft: long (nullable = true)\n |    |    |-- Otome: long (nullable = true)\n |    |    |-- Outbreak Sim: long (nullable = true)\n |    |    |-- Parkour: long (nullable = true)\n |    |    |-- Parody : long (nullable = true)\n |    |    |-- Party: long (nullable = true)\n |    |    |-- Party Game: long (nullable = true)\n |    |    |-- Party-Based RPG: long (nullable = true)\n |    |    |-- Perma Death: long (nullable = true)\n |    |    |-- Philosophical: long (nullable = true)\n |    |    |-- Photo Editing: long (nullable = true)\n |    |    |-- Physics: long (nullable = true)\n |    |    |-- Pinball: long (nullable = true)\n |    |    |-- Pirates: long (nullable = true)\n |    |    |-- Pixel Graphics: long (nullable = true)\n |    |    |-- Platformer: long (nullable = true)\n |    |    |-- Point & Click: long (nullable = true)\n |    |    |-- Political: long (nullable = true)\n |    |    |-- Political Sim: long (nullable = true)\n |    |    |-- Politics: long (nullable = true)\n |    |    |-- Pool: long (nullable = true)\n |    |    |-- Post-apocalyptic: long (nullable = true)\n |    |    |-- Precision Platformer: long (nullable = true)\n |    |    |-- Procedural Generation: long (nullable = true)\n |    |    |-- Programming: long (nullable = true)\n |    |    |-- Psychedelic: long (nullable = true)\n |    |    |-- Psychological: long (nullable = true)\n |    |    |-- Psychological Horror: long (nullable = true)\n |    |    |-- Puzzle: long (nullable = true)\n |    |    |-- Puzzle-Platformer: long (nullable = true)\n |    |    |-- PvE: long (nullable = true)\n |    |    |-- PvP: long (nullable = true)\n |    |    |-- Quick-Time Events: long (nullable = true)\n |    |    |-- RPG: long (nullable = true)\n |    |    |-- RPGMaker: long (nullable = true)\n |    |    |-- RTS: long (nullable = true)\n |    |    |-- Racing: long (nullable = true)\n |    |    |-- Real Time Tactics: long (nullable = true)\n |    |    |-- Real-Time: long (nullable = true)\n |    |    |-- Real-Time with Pause: long (nullable = true)\n |    |    |-- Realistic: long (nullable = true)\n |    |    |-- Reboot: long (nullable = true)\n |    |    |-- Relaxing: long (nullable = true)\n |    |    |-- Remake: long (nullable = true)\n |    |    |-- Replay Value: long (nullable = true)\n |    |    |-- Resource Management: long (nullable = true)\n |    |    |-- Retro: long (nullable = true)\n |    |    |-- Rhythm: long (nullable = true)\n |    |    |-- Robots: long (nullable = true)\n |    |    |-- Rock Music: long (nullable = true)\n |    |    |-- Rogue-like: long (nullable = true)\n |    |    |-- Rogue-lite: long (nullable = true)\n |    |    |-- Roguelike Deckbuilder: long (nullable = true)\n |    |    |-- Roguevania: long (nullable = true)\n |    |    |-- Romance: long (nullable = true)\n |    |    |-- Rome: long (nullable = true)\n |    |    |-- Rugby: long (nullable = true)\n |    |    |-- Runner: long (nullable = true)\n |    |    |-- Sailing: long (nullable = true)\n |    |    |-- Sandbox: long (nullable = true)\n |    |    |-- Satire: long (nullable = true)\n |    |    |-- Sci-fi: long (nullable = true)\n |    |    |-- Science: long (nullable = true)\n |    |    |-- Score Attack: long (nullable = true)\n |    |    |-- Sequel: long (nullable = true)\n |    |    |-- Sexual Content: long (nullable = true)\n |    |    |-- Shoot 'Em Up: long (nullable = true)\n |    |    |-- Shooter: long (nullable = true)\n |    |    |-- Shop Keeper: long (nullable = true)\n |    |    |-- Short: long (nullable = true)\n |    |    |-- Side Scroller: long (nullable = true)\n |    |    |-- Silent Protagonist: long (nullable = true)\n |    |    |-- Simulation: long (nullable = true)\n |    |    |-- Singleplayer: long (nullable = true)\n |    |    |-- Skateboarding: long (nullable = true)\n |    |    |-- Skating: long (nullable = true)\n |    |    |-- Skiing: long (nullable = true)\n |    |    |-- Sniper: long (nullable = true)\n |    |    |-- Snooker: long (nullable = true)\n |    |    |-- Snow: long (nullable = true)\n |    |    |-- Snowboarding: long (nullable = true)\n |    |    |-- Soccer: long (nullable = true)\n |    |    |-- Social Deduction: long (nullable = true)\n |    |    |-- Software: long (nullable = true)\n |    |    |-- Software Training: long (nullable = true)\n |    |    |-- Sokoban: long (nullable = true)\n |    |    |-- Solitaire: long (nullable = true)\n |    |    |-- Souls-like: long (nullable = true)\n |    |    |-- Soundtrack: long (nullable = true)\n |    |    |-- Space: long (nullable = true)\n |    |    |-- Space Sim: long (nullable = true)\n |    |    |-- Spaceships: long (nullable = true)\n |    |    |-- Spectacle fighter: long (nullable = true)\n |    |    |-- Spelling: long (nullable = true)\n |    |    |-- Split Screen: long (nullable = true)\n |    |    |-- Sports: long (nullable = true)\n |    |    |-- Stealth: long (nullable = true)\n |    |    |-- Steam Machine: long (nullable = true)\n |    |    |-- Steampunk: long (nullable = true)\n |    |    |-- Story Rich: long (nullable = true)\n |    |    |-- Strategy: long (nullable = true)\n |    |    |-- Strategy RPG: long (nullable = true)\n |    |    |-- Stylized: long (nullable = true)\n |    |    |-- Submarine: long (nullable = true)\n |    |    |-- Superhero: long (nullable = true)\n |    |    |-- Supernatural: long (nullable = true)\n |    |    |-- Surreal: long (nullable = true)\n |    |    |-- Survival: long (nullable = true)\n |    |    |-- Survival Horror: long (nullable = true)\n |    |    |-- Swordplay: long (nullable = true)\n |    |    |-- Tabletop: long (nullable = true)\n |    |    |-- Tactical: long (nullable = true)\n |    |    |-- Tactical RPG: long (nullable = true)\n |    |    |-- Tanks: long (nullable = true)\n |    |    |-- Team-Based: long (nullable = true)\n |    |    |-- Tennis: long (nullable = true)\n |    |    |-- Text-Based: long (nullable = true)\n |    |    |-- Third Person: long (nullable = true)\n |    |    |-- Third-Person Shooter: long (nullable = true)\n |    |    |-- Thriller: long (nullable = true)\n |    |    |-- Tile-Matching: long (nullable = true)\n |    |    |-- Time Attack: long (nullable = true)\n |    |    |-- Time Management: long (nullable = true)\n |    |    |-- Time Manipulation: long (nullable = true)\n |    |    |-- Time Travel: long (nullable = true)\n |    |    |-- Top-Down: long (nullable = true)\n |    |    |-- Top-Down Shooter: long (nullable = true)\n |    |    |-- Touch-Friendly: long (nullable = true)\n |    |    |-- Tower Defense: long (nullable = true)\n |    |    |-- TrackIR: long (nullable = true)\n |    |    |-- Trading: long (nullable = true)\n |    |    |-- Trading Card Game: long (nullable = true)\n |    |    |-- Traditional Roguelike: long (nullable = true)\n |    |    |-- Trains: long (nullable = true)\n |    |    |-- Transhumanism: long (nullable = true)\n |    |    |-- Transportation: long (nullable = true)\n |    |    |-- Trivia: long (nullable = true)\n |    |    |-- Turn-Based: long (nullable = true)\n |    |    |-- Turn-Based Combat: long (nullable = true)\n |    |    |-- Turn-Based Strategy: long (nullable = true)\n |    |    |-- Turn-Based Tactics: long (nullable = true)\n |    |    |-- Tutorial: long (nullable = true)\n |    |    |-- Twin Stick Shooter: long (nullable = true)\n |    |    |-- Typing: long (nullable = true)\n |    |    |-- Underground: long (nullable = true)\n |    |    |-- Underwater: long (nullable = true)\n |    |    |-- Unforgiving: long (nullable = true)\n |    |    |-- Utilities: long (nullable = true)\n |    |    |-- VR: long (nullable = true)\n |    |    |-- VR Only: long (nullable = true)\n |    |    |-- Vampire: long (nullable = true)\n |    |    |-- Vehicular Combat: long (nullable = true)\n |    |    |-- Video Production: long (nullable = true)\n |    |    |-- Vikings: long (nullable = true)\n |    |    |-- Villain Protagonist: long (nullable = true)\n |    |    |-- Violent: long (nullable = true)\n |    |    |-- Visual Novel: long (nullable = true)\n |    |    |-- Voice Control: long (nullable = true)\n |    |    |-- Volleyball: long (nullable = true)\n |    |    |-- Voxel: long (nullable = true)\n |    |    |-- Walking Simulator: long (nullable = true)\n |    |    |-- War: long (nullable = true)\n |    |    |-- Wargame: long (nullable = true)\n |    |    |-- Warhammer 40K: long (nullable = true)\n |    |    |-- Web Publishing: long (nullable = true)\n |    |    |-- Well-Written: long (nullable = true)\n |    |    |-- Werewolves: long (nullable = true)\n |    |    |-- Western: long (nullable = true)\n |    |    |-- Wholesome: long (nullable = true)\n |    |    |-- Word Game: long (nullable = true)\n |    |    |-- World War I: long (nullable = true)\n |    |    |-- World War II: long (nullable = true)\n |    |    |-- Wrestling: long (nullable = true)\n |    |    |-- Zombies: long (nullable = true)\n |    |    |-- e-sports: long (nullable = true)\n |    |-- type: string (nullable = true)\n |    |-- website: string (nullable = true)\n |-- id: string (nullable = true)\n\n"
     ]
    }
   ],
   "source": [
    "df.printSchema()"
   ]
  },
  {
   "cell_type": "markdown",
   "metadata": {
    "application/vnd.databricks.v1+cell": {
     "cellMetadata": {
      "byteLimit": 2048000,
      "rowLimit": 10000
     },
     "inputWidgets": {},
     "nuid": "b6881f26-8256-4f63-a6ec-76512ce5a11d",
     "showTitle": false,
     "title": ""
    }
   },
   "source": [
    "L'objectif est désormais d'aplatir le contenu de la colonne \"data\" pour le répartir en plusieurs colonnes (pour rendre ces informations exploitables).\n",
    "\n",
    "La première étape est de générer automatiquement une liste du nom des colonnes à récupérer."
   ]
  },
  {
   "cell_type": "code",
   "execution_count": 0,
   "metadata": {
    "application/vnd.databricks.v1+cell": {
     "cellMetadata": {
      "byteLimit": 2048000,
      "rowLimit": 10000
     },
     "inputWidgets": {},
     "nuid": "59114062-03e9-47a9-8f95-2dfe1591088c",
     "showTitle": false,
     "title": ""
    }
   },
   "outputs": [
    {
     "output_type": "stream",
     "name": "stdout",
     "output_type": "stream",
     "text": [
      "appid\ncategories\nccu\ndeveloper\ndiscount\ngenre\nheader_image\ninitialprice\nlanguages\nname\nnegative\nowners\nplatforms\npositive\nprice\npublisher\nrelease_date\nrequired_age\nshort_description\ntags\ntype\nwebsite\n"
     ]
    }
   ],
   "source": [
    "field_names = [field.name for field in next(field for field in df.schema.fields if field.name==\"data\").dataType.fields]\n",
    "\n",
    "for field in field_names:\n",
    "    print(field)"
   ]
  },
  {
   "cell_type": "markdown",
   "metadata": {
    "application/vnd.databricks.v1+cell": {
     "cellMetadata": {
      "byteLimit": 2048000,
      "rowLimit": 10000
     },
     "inputWidgets": {},
     "nuid": "7934c193-ab9f-483b-b30d-e88dc26bc249",
     "showTitle": false,
     "title": ""
    }
   },
   "source": [
    "Nous pouvons donc aplatir la colonne \"data\" en fonction des noms de champs récupérés précédemment, puis nous débarasser des colonnes \"data\" (dont nous venons d'extraire les données) et \"tags\" (que nous n'utiliserons pas pour le moment). La fonction reduce() est particulièrement bien adaptée, nous allons donc l'utiliser."
   ]
  },
  {
   "cell_type": "code",
   "execution_count": 0,
   "metadata": {
    "application/vnd.databricks.v1+cell": {
     "cellMetadata": {
      "byteLimit": 2048000,
      "rowLimit": 10000
     },
     "inputWidgets": {},
     "nuid": "872f8bae-328c-41ee-a2f3-a1e0d5c5cecb",
     "showTitle": false,
     "title": ""
    }
   },
   "outputs": [],
   "source": [
    "def flatten(memo_df, my_col):\n",
    "    return memo_df.withColumn(my_col, F.col(\"data\").getField(my_col))\n",
    "\n",
    "flat_df = reduce(flatten, field_names, df).drop('data').drop('tags')"
   ]
  },
  {
   "cell_type": "code",
   "execution_count": 0,
   "metadata": {
    "application/vnd.databricks.v1+cell": {
     "cellMetadata": {
      "byteLimit": 2048000,
      "rowLimit": 10000
     },
     "inputWidgets": {},
     "nuid": "1d7e3b5f-d37e-43b1-8deb-dbb53f2ef921",
     "showTitle": false,
     "title": ""
    }
   },
   "outputs": [
    {
     "output_type": "stream",
     "name": "stdout",
     "output_type": "stream",
     "text": [
      "root\n |-- id: string (nullable = true)\n |-- appid: long (nullable = true)\n |-- categories: array (nullable = true)\n |    |-- element: string (containsNull = true)\n |-- ccu: long (nullable = true)\n |-- developer: string (nullable = true)\n |-- discount: string (nullable = true)\n |-- genre: string (nullable = true)\n |-- header_image: string (nullable = true)\n |-- initialprice: string (nullable = true)\n |-- languages: string (nullable = true)\n |-- name: string (nullable = true)\n |-- negative: long (nullable = true)\n |-- owners: string (nullable = true)\n |-- platforms: struct (nullable = true)\n |    |-- linux: boolean (nullable = true)\n |    |-- mac: boolean (nullable = true)\n |    |-- windows: boolean (nullable = true)\n |-- positive: long (nullable = true)\n |-- price: string (nullable = true)\n |-- publisher: string (nullable = true)\n |-- release_date: string (nullable = true)\n |-- required_age: string (nullable = true)\n |-- short_description: string (nullable = true)\n |-- type: string (nullable = true)\n |-- website: string (nullable = true)\n\n"
     ]
    },
    {
     "output_type": "display_data",
     "data": {
      "text/html": [
       "<style scoped>\n",
       "  .table-result-container {\n",
       "    max-height: 300px;\n",
       "    overflow: auto;\n",
       "  }\n",
       "  table, th, td {\n",
       "    border: 1px solid black;\n",
       "    border-collapse: collapse;\n",
       "  }\n",
       "  th, td {\n",
       "    padding: 5px;\n",
       "  }\n",
       "  th {\n",
       "    text-align: left;\n",
       "  }\n",
       "</style><div class='table-result-container'><table class='table-result'><thead style='background-color: white'><tr><th>id</th><th>appid</th><th>categories</th><th>ccu</th><th>developer</th><th>discount</th><th>genre</th><th>header_image</th><th>initialprice</th><th>languages</th><th>name</th><th>negative</th><th>owners</th><th>platforms</th><th>positive</th><th>price</th><th>publisher</th><th>release_date</th><th>required_age</th><th>short_description</th><th>type</th><th>website</th></tr></thead><tbody><tr><td>10</td><td>10</td><td>List(Multi-player, Valve Anti-Cheat enabled, Online PvP, Shared/Split Screen PvP, PvP)</td><td>13990</td><td>Valve</td><td>0</td><td>Action</td><td>https://cdn.akamai.steamstatic.com/steam/apps/10/header.jpg?t=1666823513</td><td>999</td><td>English, French, German, Italian, Spanish - Spain, Simplified Chinese, Traditional Chinese, Korean</td><td>Counter-Strike</td><td>5199</td><td>10,000,000 .. 20,000,000</td><td>List(true, true, true)</td><td>201215</td><td>999</td><td>Valve</td><td>2000/11/1</td><td>0</td><td>Play the world's number 1 online action game. Engage in an incredibly realistic brand of terrorist warfare in this wildly popular team-based game. Ally with teammates to complete strategic missions. Take out enemy sites. Rescue hostages. Your role affects your team's success. Your team's success affects your role.</td><td>game</td><td></td></tr><tr><td>1000000</td><td>1000000</td><td>List(Single-player, Partial Controller Support, Steam Achievements, Steam Cloud)</td><td>0</td><td>IndigoBlue Game Studio</td><td>0</td><td>Action, Adventure, Indie</td><td>https://cdn.akamai.steamstatic.com/steam/apps/1000000/header.jpg?t=1655723048</td><td>999</td><td>English, Korean, Simplified Chinese</td><td>ASCENXION</td><td>5</td><td>0 .. 20,000</td><td>List(false, false, true)</td><td>27</td><td>999</td><td>PsychoFlux Entertainment</td><td>2021/05/14</td><td>0</td><td>ASCENXION is a 2D shoot 'em up game where you explore the field to progress. Players must overcome puzzles, traps, elite units, boss fights, and other various obstacles while navigating the field. Grow stronger through rewards earned, to uncover the truth of this world.</td><td>game</td><td></td></tr><tr><td>1000010</td><td>1000010</td><td>List(Single-player, Partial Controller Support, Steam Achievements, Steam Cloud, Steam Trading Cards)</td><td>99</td><td>NEXT Studios</td><td>70</td><td>Adventure, Indie, RPG, Strategy</td><td>https://cdn.akamai.steamstatic.com/steam/apps/1000010/header.jpg?t=1655724189</td><td>1999</td><td>Simplified Chinese, English, Japanese, Traditional Chinese, French, German, Spanish - Spain, Russian, Portuguese - Brazil</td><td>Crown Trick</td><td>646</td><td>200,000 .. 500,000</td><td>List(false, false, true)</td><td>4032</td><td>599</td><td>Team17, NEXT Studios</td><td>2020/10/16</td><td>0</td><td>Enter a labyrinth that moves as you move, where mastering the elements is key to defeating enemies and uncovering the mysteries of this underground world. With a new experience awaiting every time you enter the dungeon, let the power bestowed by the crown guide you in this challenging adventure!</td><td>game</td><td></td></tr><tr><td>1000030</td><td>1000030</td><td>List(Multi-player, Single-player, Co-op, Steam Achievements, Steam Cloud, Shared/Split Screen, Full controller support, Steam Trading Cards, Shared/Split Screen Co-op, Remote Play on Phone, Remote Play on Tablet, Remote Play on TV, Remote Play Together)</td><td>76</td><td>Vertigo Gaming Inc.</td><td>0</td><td>Action, Indie, Simulation, Strategy</td><td>https://cdn.akamai.steamstatic.com/steam/apps/1000030/header.jpg?t=1660866300</td><td>1999</td><td>English</td><td>Cook, Serve, Delicious! 3?!</td><td>115</td><td>100,000 .. 200,000</td><td>List(false, true, true)</td><td>1575</td><td>1999</td><td>Vertigo Gaming Inc.</td><td>2020/10/14</td><td>0</td><td>Cook, serve and manage your food truck as you dish out hundreds of different foods across war-torn America in this massive sequel to the million-selling series!</td><td>game</td><td>http://www.cookservedelicious.com</td></tr><tr><td>1000040</td><td>1000040</td><td>List(Single-player)</td><td>0</td><td>DoubleC Games</td><td>0</td><td>Action, Casual, Indie, Simulation</td><td>https://cdn.akamai.steamstatic.com/steam/apps/1000040/header.jpg?t=1627033870</td><td>199</td><td>Simplified Chinese</td><td>细胞战争</td><td>1</td><td>0 .. 20,000</td><td>List(false, false, true)</td><td>0</td><td>199</td><td>DoubleC Games</td><td>2019/03/30</td><td>0</td><td>这是一款打击感十足的细胞主题游戏！操作简单但活下去却不简单，“你”作为侵入人体的细菌病毒，通过与细胞之间的战斗来获得基因变异点数和进入下一关的资格，每种细菌病毒都有独特的能力和攻击效果，你是否可以破坏五大器官并占领人体呢！？</td><td>game</td><td></td></tr><tr><td>1000080</td><td>1000080</td><td>List(Multi-player, Single-player, Steam Achievements, Full controller support, Steam Trading Cards)</td><td>3</td><td>IndieLeague Studio</td><td>60</td><td>Action, Adventure, Indie, RPG</td><td>https://cdn.akamai.steamstatic.com/steam/apps/1000080/header.jpg?t=1667062553</td><td>1999</td><td>Simplified Chinese, English, Traditional Chinese, Japanese, Korean</td><td>Zengeon</td><td>462</td><td>100,000 .. 200,000</td><td>List(false, true, true)</td><td>1018</td><td>799</td><td>2P Games</td><td>2019/06/24</td><td>0</td><td>Zengeon is an anime infused Action RPG and Roguelite with a selection of unique characters and varying play-styles. Slaughter your way through demonic hordes and colossal bosses with hundreds of combination and skill possibilities!</td><td>game</td><td></td></tr><tr><td>1000100</td><td>1000100</td><td>List(Single-player, Steam Achievements, Steam Cloud)</td><td>0</td><td>七月九日</td><td>0</td><td>Adventure, Indie, RPG, Strategy</td><td>https://cdn.akamai.steamstatic.com/steam/apps/1000100/header.jpg?t=1561522270</td><td>1299</td><td>Japanese, Simplified Chinese, Traditional Chinese</td><td>干支セトラ　陽ノ卷｜干支etc.　陽之卷</td><td>6</td><td>0 .. 20,000</td><td>List(false, false, true)</td><td>18</td><td>1299</td><td>Starship Studio</td><td>2019/01/24</td><td>0</td><td>耐用年数を超えて綻びゆく都市風水を修復するため、次代の風水師候補に選ばれた主人公。 綻びから襲い来る妖異を討ち祓い、半年後の認定試験に挑むため与えられたのは、十二支――陰陽五行の化身である１２人の男達だった。 それは、400年に渡る首都繁栄の終焉。</td><td>game</td><td>http://0709.noor.jp/etc</td></tr><tr><td>1000110</td><td>1000110</td><td>List(Multi-player, Single-player, Co-op, Online PvP, Online Co-op, PvP)</td><td>0</td><td>重庆环游者网络科技</td><td>0</td><td>Action, Adventure, Casual, Free to Play, Massively Multiplayer</td><td>https://cdn.akamai.steamstatic.com/steam/apps/1000110/header.jpg?t=1562917106</td><td>0</td><td>English, Simplified Chinese, Traditional Chinese</td><td>Jumping Master(跳跳大咖)</td><td>34</td><td>20,000 .. 50,000</td><td>List(false, false, true)</td><td>50</td><td>0</td><td>重庆环游者网络科技</td><td>2019/04/8</td><td>0</td><td>Jumping Master is a innovative casual competitive game fully merged with classic gameplay of mushroom game. It aims to help us revisit the classic mushroom game in our chlidhood.</td><td>game</td><td>http://www.huanyz.com/bzjj/</td></tr><tr><td>1000130</td><td>1000130</td><td>List(Single-player, Steam Achievements, Steam Leaderboards)</td><td>0</td><td>Simon Codrington</td><td>0</td><td>Casual, Indie</td><td>https://cdn.akamai.steamstatic.com/steam/apps/1000130/header.jpg?t=1646024900</td><td>299</td><td>English</td><td>Cube Defender</td><td>0</td><td>0 .. 20,000</td><td>List(false, true, true)</td><td>6</td><td>299</td><td>Simon Codrington</td><td>2019/01/6</td><td>0</td><td>Build turrets and destroy wave after wave of cube enemies in this minimalist and addictive tower defence game. Battle it out with a bunch of cube enemies and blast them off the map with a range of unique turrets.</td><td>game</td><td></td></tr><tr><td>1000280</td><td>1000280</td><td>List(Single-player)</td><td>0</td><td>Villain Role</td><td>0</td><td>Indie, RPG</td><td>https://cdn.akamai.steamstatic.com/steam/apps/1000280/header.jpg?t=1649211613</td><td>1399</td><td>English, Simplified Chinese, Traditional Chinese</td><td>Tower of Origin2-Worm's Nest</td><td>12</td><td>0 .. 20,000</td><td>List(false, false, true)</td><td>32</td><td>1399</td><td>Villain Role</td><td>2021/09/9</td><td>0</td><td>As the protagonist，the Balrog Princess— HongYe, after helping humans assess the rebellion. She thought she couldhave a stable life, but unexpectedly fell into a bigger crisis. What kind of ♂hardships ♂ will she experience this time, and how ♂interesting experiences♂ she will encounter.</td><td>game</td><td>https://weibo.com/u/7623414897</td></tr></tbody></table></div>"
      ]
     },
     "metadata": {
      "application/vnd.databricks.v1+output": {
       "addedWidgets": {},
       "aggData": [],
       "aggError": "",
       "aggOverflow": false,
       "aggSchema": [],
       "aggSeriesLimitReached": false,
       "aggType": "",
       "arguments": {},
       "columnCustomDisplayInfos": {},
       "data": [
        [
         "10",
         10,
         [
          "Multi-player",
          "Valve Anti-Cheat enabled",
          "Online PvP",
          "Shared/Split Screen PvP",
          "PvP"
         ],
         13990,
         "Valve",
         "0",
         "Action",
         "https://cdn.akamai.steamstatic.com/steam/apps/10/header.jpg?t=1666823513",
         "999",
         "English, French, German, Italian, Spanish - Spain, Simplified Chinese, Traditional Chinese, Korean",
         "Counter-Strike",
         5199,
         "10,000,000 .. 20,000,000",
         [
          true,
          true,
          true
         ],
         201215,
         "999",
         "Valve",
         "2000/11/1",
         "0",
         "Play the world's number 1 online action game. Engage in an incredibly realistic brand of terrorist warfare in this wildly popular team-based game. Ally with teammates to complete strategic missions. Take out enemy sites. Rescue hostages. Your role affects your team's success. Your team's success affects your role.",
         "game",
         ""
        ],
        [
         "1000000",
         1000000,
         [
          "Single-player",
          "Partial Controller Support",
          "Steam Achievements",
          "Steam Cloud"
         ],
         0,
         "IndigoBlue Game Studio",
         "0",
         "Action, Adventure, Indie",
         "https://cdn.akamai.steamstatic.com/steam/apps/1000000/header.jpg?t=1655723048",
         "999",
         "English, Korean, Simplified Chinese",
         "ASCENXION",
         5,
         "0 .. 20,000",
         [
          false,
          false,
          true
         ],
         27,
         "999",
         "PsychoFlux Entertainment",
         "2021/05/14",
         "0",
         "ASCENXION is a 2D shoot 'em up game where you explore the field to progress. Players must overcome puzzles, traps, elite units, boss fights, and other various obstacles while navigating the field. Grow stronger through rewards earned, to uncover the truth of this world.",
         "game",
         ""
        ],
        [
         "1000010",
         1000010,
         [
          "Single-player",
          "Partial Controller Support",
          "Steam Achievements",
          "Steam Cloud",
          "Steam Trading Cards"
         ],
         99,
         "NEXT Studios",
         "70",
         "Adventure, Indie, RPG, Strategy",
         "https://cdn.akamai.steamstatic.com/steam/apps/1000010/header.jpg?t=1655724189",
         "1999",
         "Simplified Chinese, English, Japanese, Traditional Chinese, French, German, Spanish - Spain, Russian, Portuguese - Brazil",
         "Crown Trick",
         646,
         "200,000 .. 500,000",
         [
          false,
          false,
          true
         ],
         4032,
         "599",
         "Team17, NEXT Studios",
         "2020/10/16",
         "0",
         "Enter a labyrinth that moves as you move, where mastering the elements is key to defeating enemies and uncovering the mysteries of this underground world. With a new experience awaiting every time you enter the dungeon, let the power bestowed by the crown guide you in this challenging adventure!",
         "game",
         ""
        ],
        [
         "1000030",
         1000030,
         [
          "Multi-player",
          "Single-player",
          "Co-op",
          "Steam Achievements",
          "Steam Cloud",
          "Shared/Split Screen",
          "Full controller support",
          "Steam Trading Cards",
          "Shared/Split Screen Co-op",
          "Remote Play on Phone",
          "Remote Play on Tablet",
          "Remote Play on TV",
          "Remote Play Together"
         ],
         76,
         "Vertigo Gaming Inc.",
         "0",
         "Action, Indie, Simulation, Strategy",
         "https://cdn.akamai.steamstatic.com/steam/apps/1000030/header.jpg?t=1660866300",
         "1999",
         "English",
         "Cook, Serve, Delicious! 3?!",
         115,
         "100,000 .. 200,000",
         [
          false,
          true,
          true
         ],
         1575,
         "1999",
         "Vertigo Gaming Inc.",
         "2020/10/14",
         "0",
         "Cook, serve and manage your food truck as you dish out hundreds of different foods across war-torn America in this massive sequel to the million-selling series!",
         "game",
         "http://www.cookservedelicious.com"
        ],
        [
         "1000040",
         1000040,
         [
          "Single-player"
         ],
         0,
         "DoubleC Games",
         "0",
         "Action, Casual, Indie, Simulation",
         "https://cdn.akamai.steamstatic.com/steam/apps/1000040/header.jpg?t=1627033870",
         "199",
         "Simplified Chinese",
         "细胞战争",
         1,
         "0 .. 20,000",
         [
          false,
          false,
          true
         ],
         0,
         "199",
         "DoubleC Games",
         "2019/03/30",
         "0",
         "这是一款打击感十足的细胞主题游戏！操作简单但活下去却不简单，“你”作为侵入人体的细菌病毒，通过与细胞之间的战斗来获得基因变异点数和进入下一关的资格，每种细菌病毒都有独特的能力和攻击效果，你是否可以破坏五大器官并占领人体呢！？",
         "game",
         ""
        ],
        [
         "1000080",
         1000080,
         [
          "Multi-player",
          "Single-player",
          "Steam Achievements",
          "Full controller support",
          "Steam Trading Cards"
         ],
         3,
         "IndieLeague Studio",
         "60",
         "Action, Adventure, Indie, RPG",
         "https://cdn.akamai.steamstatic.com/steam/apps/1000080/header.jpg?t=1667062553",
         "1999",
         "Simplified Chinese, English, Traditional Chinese, Japanese, Korean",
         "Zengeon",
         462,
         "100,000 .. 200,000",
         [
          false,
          true,
          true
         ],
         1018,
         "799",
         "2P Games",
         "2019/06/24",
         "0",
         "Zengeon is an anime infused Action RPG and Roguelite with a selection of unique characters and varying play-styles. Slaughter your way through demonic hordes and colossal bosses with hundreds of combination and skill possibilities!",
         "game",
         ""
        ],
        [
         "1000100",
         1000100,
         [
          "Single-player",
          "Steam Achievements",
          "Steam Cloud"
         ],
         0,
         "七月九日",
         "0",
         "Adventure, Indie, RPG, Strategy",
         "https://cdn.akamai.steamstatic.com/steam/apps/1000100/header.jpg?t=1561522270",
         "1299",
         "Japanese, Simplified Chinese, Traditional Chinese",
         "干支セトラ　陽ノ卷｜干支etc.　陽之卷",
         6,
         "0 .. 20,000",
         [
          false,
          false,
          true
         ],
         18,
         "1299",
         "Starship Studio",
         "2019/01/24",
         "0",
         "耐用年数を超えて綻びゆく都市風水を修復するため、次代の風水師候補に選ばれた主人公。 綻びから襲い来る妖異を討ち祓い、半年後の認定試験に挑むため与えられたのは、十二支――陰陽五行の化身である１２人の男達だった。 それは、400年に渡る首都繁栄の終焉。",
         "game",
         "http://0709.noor.jp/etc"
        ],
        [
         "1000110",
         1000110,
         [
          "Multi-player",
          "Single-player",
          "Co-op",
          "Online PvP",
          "Online Co-op",
          "PvP"
         ],
         0,
         "重庆环游者网络科技",
         "0",
         "Action, Adventure, Casual, Free to Play, Massively Multiplayer",
         "https://cdn.akamai.steamstatic.com/steam/apps/1000110/header.jpg?t=1562917106",
         "0",
         "English, Simplified Chinese, Traditional Chinese",
         "Jumping Master(跳跳大咖)",
         34,
         "20,000 .. 50,000",
         [
          false,
          false,
          true
         ],
         50,
         "0",
         "重庆环游者网络科技",
         "2019/04/8",
         "0",
         "Jumping Master is a innovative casual competitive game fully merged with classic gameplay of mushroom game. It aims to help us revisit the classic mushroom game in our chlidhood.",
         "game",
         "http://www.huanyz.com/bzjj/"
        ],
        [
         "1000130",
         1000130,
         [
          "Single-player",
          "Steam Achievements",
          "Steam Leaderboards"
         ],
         0,
         "Simon Codrington",
         "0",
         "Casual, Indie",
         "https://cdn.akamai.steamstatic.com/steam/apps/1000130/header.jpg?t=1646024900",
         "299",
         "English",
         "Cube Defender",
         0,
         "0 .. 20,000",
         [
          false,
          true,
          true
         ],
         6,
         "299",
         "Simon Codrington",
         "2019/01/6",
         "0",
         "Build turrets and destroy wave after wave of cube enemies in this minimalist and addictive tower defence game. Battle it out with a bunch of cube enemies and blast them off the map with a range of unique turrets.",
         "game",
         ""
        ],
        [
         "1000280",
         1000280,
         [
          "Single-player"
         ],
         0,
         "Villain Role",
         "0",
         "Indie, RPG",
         "https://cdn.akamai.steamstatic.com/steam/apps/1000280/header.jpg?t=1649211613",
         "1399",
         "English, Simplified Chinese, Traditional Chinese",
         "Tower of Origin2-Worm's Nest",
         12,
         "0 .. 20,000",
         [
          false,
          false,
          true
         ],
         32,
         "1399",
         "Villain Role",
         "2021/09/9",
         "0",
         "As the protagonist，the Balrog Princess— HongYe, after helping humans assess the rebellion. She thought she couldhave a stable life, but unexpectedly fell into a bigger crisis. What kind of ♂hardships ♂ will she experience this time, and how ♂interesting experiences♂ she will encounter.",
         "game",
         "https://weibo.com/u/7623414897"
        ]
       ],
       "datasetInfos": [],
       "dbfsResultPath": null,
       "isJsonSchema": true,
       "metadata": {},
       "overflow": false,
       "plotOptions": {
        "customPlotOptions": {},
        "displayType": "table",
        "pivotAggregation": null,
        "pivotColumns": null,
        "xColumns": null,
        "yColumns": null
       },
       "removedWidgets": [],
       "schema": [
        {
         "metadata": "{}",
         "name": "id",
         "type": "\"string\""
        },
        {
         "metadata": "{}",
         "name": "appid",
         "type": "\"long\""
        },
        {
         "metadata": "{}",
         "name": "categories",
         "type": "{\"type\":\"array\",\"elementType\":\"string\",\"containsNull\":true}"
        },
        {
         "metadata": "{}",
         "name": "ccu",
         "type": "\"long\""
        },
        {
         "metadata": "{}",
         "name": "developer",
         "type": "\"string\""
        },
        {
         "metadata": "{}",
         "name": "discount",
         "type": "\"string\""
        },
        {
         "metadata": "{}",
         "name": "genre",
         "type": "\"string\""
        },
        {
         "metadata": "{}",
         "name": "header_image",
         "type": "\"string\""
        },
        {
         "metadata": "{}",
         "name": "initialprice",
         "type": "\"string\""
        },
        {
         "metadata": "{}",
         "name": "languages",
         "type": "\"string\""
        },
        {
         "metadata": "{}",
         "name": "name",
         "type": "\"string\""
        },
        {
         "metadata": "{}",
         "name": "negative",
         "type": "\"long\""
        },
        {
         "metadata": "{}",
         "name": "owners",
         "type": "\"string\""
        },
        {
         "metadata": "{}",
         "name": "platforms",
         "type": "{\"type\":\"struct\",\"fields\":[{\"name\":\"linux\",\"type\":\"boolean\",\"nullable\":true,\"metadata\":{}},{\"name\":\"mac\",\"type\":\"boolean\",\"nullable\":true,\"metadata\":{}},{\"name\":\"windows\",\"type\":\"boolean\",\"nullable\":true,\"metadata\":{}}]}"
        },
        {
         "metadata": "{}",
         "name": "positive",
         "type": "\"long\""
        },
        {
         "metadata": "{}",
         "name": "price",
         "type": "\"string\""
        },
        {
         "metadata": "{}",
         "name": "publisher",
         "type": "\"string\""
        },
        {
         "metadata": "{}",
         "name": "release_date",
         "type": "\"string\""
        },
        {
         "metadata": "{}",
         "name": "required_age",
         "type": "\"string\""
        },
        {
         "metadata": "{}",
         "name": "short_description",
         "type": "\"string\""
        },
        {
         "metadata": "{}",
         "name": "type",
         "type": "\"string\""
        },
        {
         "metadata": "{}",
         "name": "website",
         "type": "\"string\""
        }
       ],
       "type": "table"
      }
     },
     "output_type": "display_data"
    }
   ],
   "source": [
    "flat_df.printSchema()\n",
    "display(flat_df.limit(10))"
   ]
  },
  {
   "cell_type": "code",
   "execution_count": 0,
   "metadata": {
    "application/vnd.databricks.v1+cell": {
     "cellMetadata": {
      "byteLimit": 2048000,
      "rowLimit": 10000
     },
     "inputWidgets": {},
     "nuid": "b3adf1a3-bf61-4085-ac25-08ebe5eddfdb",
     "showTitle": false,
     "title": ""
    }
   },
   "outputs": [
    {
     "output_type": "display_data",
     "data": {
      "text/html": [
       "<style scoped>\n",
       "  .table-result-container {\n",
       "    max-height: 300px;\n",
       "    overflow: auto;\n",
       "  }\n",
       "  table, th, td {\n",
       "    border: 1px solid black;\n",
       "    border-collapse: collapse;\n",
       "  }\n",
       "  th, td {\n",
       "    padding: 5px;\n",
       "  }\n",
       "  th {\n",
       "    text-align: left;\n",
       "  }\n",
       "</style><div class='table-result-container'><table class='table-result'><thead style='background-color: white'><tr><th>summary</th><th>id</th><th>appid</th><th>ccu</th><th>developer</th><th>discount</th><th>genre</th><th>header_image</th><th>initialprice</th><th>languages</th><th>name</th><th>negative</th><th>owners</th><th>positive</th><th>price</th><th>publisher</th><th>release_date</th><th>required_age</th><th>short_description</th><th>type</th><th>website</th></tr></thead><tbody><tr><td>count</td><td>55691</td><td>55691</td><td>55691</td><td>55691</td><td>55691</td><td>55691</td><td>55691</td><td>55691</td><td>55691</td><td>55691</td><td>55691</td><td>55691</td><td>55691</td><td>55691</td><td>55691</td><td>55691</td><td>55691</td><td>55691</td><td>55691</td><td>55691</td></tr><tr><td>mean</td><td>1025603.0926720655</td><td>1025603.0926720655</td><td>138.9596164550825</td><td>67392.0</td><td>2.603777989262179</td><td>null</td><td>null</td><td>797.5663033524268</td><td>null</td><td>Infinity</td><td>241.8376937027527</td><td>null</td><td>1470.8755992889335</td><td>773.2849832109317</td><td>2001.0</td><td>null</td><td>0.1978882344490734</td><td>null</td><td>null</td><td>null</td></tr><tr><td>stddev</td><td>522784.96832834504</td><td>522784.96832834504</td><td>6002.067909130765</td><td>210681.70504552333</td><td>12.887080174743176</td><td>null</td><td>null</td><td>1104.762477841338</td><td>null</td><td>NaN</td><td>5765.413761559615</td><td>null</td><td>30982.733479534887</td><td>1093.13458272345</td><td>1921.8937275510318</td><td>null</td><td>2.2962924614818236</td><td>null</td><td>null</td><td>null</td></tr><tr><td>min</td><td>10</td><td>10</td><td>0</td><td></td><td>0</td><td></td><td>https://cdn.akamai.steamstatic.com/steam/apps/10/header.jpg?t=1666823513</td><td>0</td><td></td><td> Fieldrunners 2</td><td>0</td><td>0 .. 20,000</td><td>0</td><td>0</td><td></td><td></td><td>0</td><td></td><td>game</td><td></td></tr><tr><td>25%</td><td>598530.0</td><td>598530</td><td>0</td><td>125.0</td><td>0.0</td><td>null</td><td>null</td><td>199.0</td><td>null</td><td>103.0</td><td>1</td><td>null</td><td>5</td><td>129.0</td><td>123.0</td><td>null</td><td>0.0</td><td>null</td><td>null</td><td>null</td></tr><tr><td>50%</td><td>986320.0</td><td>986320</td><td>0</td><td>773.0</td><td>0.0</td><td>null</td><td>null</td><td>499.0</td><td>null</td><td>1010.0</td><td>6</td><td>null</td><td>19</td><td>499.0</td><td>2054.0</td><td>null</td><td>0.0</td><td>null</td><td>null</td><td>null</td></tr><tr><td>75%</td><td>1427920.0</td><td>1427920</td><td>1</td><td>2015.0</td><td>0.0</td><td>null</td><td>null</td><td>999.0</td><td>null</td><td>2021.0</td><td>32</td><td>null</td><td>106</td><td>999.0</td><td>3909.0</td><td>null</td><td>0.0</td><td>null</td><td>null</td><td>null</td></tr><tr><td>max</td><td>999990</td><td>2190950</td><td>874053</td><td>＼上／</td><td>90</td><td>Web Publishing</td><td>https://cdn.akamai.steamstatic.com/steam/apps/999990/header.jpg?t=1610733322</td><td>9999</td><td>Turkish</td><td>～Daydream～蝶が舞う頃に</td><td>908515</td><td>500,000 .. 1,000,000</td><td>5943345</td><td>9999</td><td>Ｌｅｍｏｎ　Ｂａｌｍ</td><td>2022/11/7</td><td>MA 15+</td><td>🚗 Take part in a roller coaster of emotions with Louise embarking on a road trip of a lifetime through the late 1960s USA, trying to show her son Mitch how to navigate the often cruel modern world. Your choices matter! ✅</td><td>hardware</td><td>www.windybeard.com</td></tr></tbody></table></div>"
      ]
     },
     "metadata": {
      "application/vnd.databricks.v1+output": {
       "addedWidgets": {},
       "aggData": [],
       "aggError": "",
       "aggOverflow": false,
       "aggSchema": [],
       "aggSeriesLimitReached": false,
       "aggType": "",
       "arguments": {},
       "columnCustomDisplayInfos": {},
       "data": [
        [
         "count",
         "55691",
         "55691",
         "55691",
         "55691",
         "55691",
         "55691",
         "55691",
         "55691",
         "55691",
         "55691",
         "55691",
         "55691",
         "55691",
         "55691",
         "55691",
         "55691",
         "55691",
         "55691",
         "55691",
         "55691"
        ],
        [
         "mean",
         "1025603.0926720655",
         "1025603.0926720655",
         "138.9596164550825",
         "67392.0",
         "2.603777989262179",
         null,
         null,
         "797.5663033524268",
         null,
         "Infinity",
         "241.8376937027527",
         null,
         "1470.8755992889335",
         "773.2849832109317",
         "2001.0",
         null,
         "0.1978882344490734",
         null,
         null,
         null
        ],
        [
         "stddev",
         "522784.96832834504",
         "522784.96832834504",
         "6002.067909130765",
         "210681.70504552333",
         "12.887080174743176",
         null,
         null,
         "1104.762477841338",
         null,
         "NaN",
         "5765.413761559615",
         null,
         "30982.733479534887",
         "1093.13458272345",
         "1921.8937275510318",
         null,
         "2.2962924614818236",
         null,
         null,
         null
        ],
        [
         "min",
         "10",
         "10",
         "0",
         "",
         "0",
         "",
         "https://cdn.akamai.steamstatic.com/steam/apps/10/header.jpg?t=1666823513",
         "0",
         "",
         " Fieldrunners 2",
         "0",
         "0 .. 20,000",
         "0",
         "0",
         "",
         "",
         "0",
         "",
         "game",
         ""
        ],
        [
         "25%",
         "598530.0",
         "598530",
         "0",
         "125.0",
         "0.0",
         null,
         null,
         "199.0",
         null,
         "103.0",
         "1",
         null,
         "5",
         "129.0",
         "123.0",
         null,
         "0.0",
         null,
         null,
         null
        ],
        [
         "50%",
         "986320.0",
         "986320",
         "0",
         "773.0",
         "0.0",
         null,
         null,
         "499.0",
         null,
         "1010.0",
         "6",
         null,
         "19",
         "499.0",
         "2054.0",
         null,
         "0.0",
         null,
         null,
         null
        ],
        [
         "75%",
         "1427920.0",
         "1427920",
         "1",
         "2015.0",
         "0.0",
         null,
         null,
         "999.0",
         null,
         "2021.0",
         "32",
         null,
         "106",
         "999.0",
         "3909.0",
         null,
         "0.0",
         null,
         null,
         null
        ],
        [
         "max",
         "999990",
         "2190950",
         "874053",
         "＼上／",
         "90",
         "Web Publishing",
         "https://cdn.akamai.steamstatic.com/steam/apps/999990/header.jpg?t=1610733322",
         "9999",
         "Turkish",
         "～Daydream～蝶が舞う頃に",
         "908515",
         "500,000 .. 1,000,000",
         "5943345",
         "9999",
         "Ｌｅｍｏｎ　Ｂａｌｍ",
         "2022/11/7",
         "MA 15+",
         "🚗 Take part in a roller coaster of emotions with Louise embarking on a road trip of a lifetime through the late 1960s USA, trying to show her son Mitch how to navigate the often cruel modern world. Your choices matter! ✅",
         "hardware",
         "www.windybeard.com"
        ]
       ],
       "datasetInfos": [],
       "dbfsResultPath": null,
       "isJsonSchema": true,
       "metadata": {},
       "overflow": false,
       "plotOptions": {
        "customPlotOptions": {},
        "displayType": "table",
        "pivotAggregation": null,
        "pivotColumns": null,
        "xColumns": null,
        "yColumns": null
       },
       "removedWidgets": [],
       "schema": [
        {
         "metadata": "{}",
         "name": "summary",
         "type": "\"string\""
        },
        {
         "metadata": "{}",
         "name": "id",
         "type": "\"string\""
        },
        {
         "metadata": "{}",
         "name": "appid",
         "type": "\"string\""
        },
        {
         "metadata": "{}",
         "name": "ccu",
         "type": "\"string\""
        },
        {
         "metadata": "{}",
         "name": "developer",
         "type": "\"string\""
        },
        {
         "metadata": "{}",
         "name": "discount",
         "type": "\"string\""
        },
        {
         "metadata": "{}",
         "name": "genre",
         "type": "\"string\""
        },
        {
         "metadata": "{}",
         "name": "header_image",
         "type": "\"string\""
        },
        {
         "metadata": "{}",
         "name": "initialprice",
         "type": "\"string\""
        },
        {
         "metadata": "{}",
         "name": "languages",
         "type": "\"string\""
        },
        {
         "metadata": "{}",
         "name": "name",
         "type": "\"string\""
        },
        {
         "metadata": "{}",
         "name": "negative",
         "type": "\"string\""
        },
        {
         "metadata": "{}",
         "name": "owners",
         "type": "\"string\""
        },
        {
         "metadata": "{}",
         "name": "positive",
         "type": "\"string\""
        },
        {
         "metadata": "{}",
         "name": "price",
         "type": "\"string\""
        },
        {
         "metadata": "{}",
         "name": "publisher",
         "type": "\"string\""
        },
        {
         "metadata": "{}",
         "name": "release_date",
         "type": "\"string\""
        },
        {
         "metadata": "{}",
         "name": "required_age",
         "type": "\"string\""
        },
        {
         "metadata": "{}",
         "name": "short_description",
         "type": "\"string\""
        },
        {
         "metadata": "{}",
         "name": "type",
         "type": "\"string\""
        },
        {
         "metadata": "{}",
         "name": "website",
         "type": "\"string\""
        }
       ],
       "type": "table"
      }
     },
     "output_type": "display_data"
    }
   ],
   "source": [
    "display(flat_df.summary())"
   ]
  },
  {
   "cell_type": "markdown",
   "metadata": {
    "application/vnd.databricks.v1+cell": {
     "cellMetadata": {
      "byteLimit": 2048000,
      "rowLimit": 10000
     },
     "inputWidgets": {},
     "nuid": "c9b866b8-b330-4a15-80f0-94e1a8b51fe9",
     "showTitle": false,
     "title": ""
    }
   },
   "source": [
    "Nous pouvons désormais nous intéresser à chacune des colonnes et décider si elle sera à priori utile ou non pour la suite."
   ]
  },
  {
   "cell_type": "code",
   "execution_count": 0,
   "metadata": {
    "application/vnd.databricks.v1+cell": {
     "cellMetadata": {
      "byteLimit": 2048000,
      "rowLimit": 10000
     },
     "inputWidgets": {},
     "nuid": "591bd9b6-0266-48fa-996b-ff12e6d153ca",
     "showTitle": false,
     "title": ""
    }
   },
   "outputs": [
    {
     "output_type": "stream",
     "name": "stdout",
     "output_type": "stream",
     "text": [
      "55691\n55691\n"
     ]
    }
   ],
   "source": [
    "# l'information contenue dans id et appid est-elle redondante ? OUI\n",
    "\n",
    "print(flat_df.select('id').distinct().count())\n",
    "print(flat_df.select('appid').distinct().count())"
   ]
  },
  {
   "cell_type": "code",
   "execution_count": 0,
   "metadata": {
    "application/vnd.databricks.v1+cell": {
     "cellMetadata": {
      "byteLimit": 2048000,
      "rowLimit": 10000
     },
     "inputWidgets": {},
     "nuid": "8384529a-9b1e-47c2-ae4c-abb552b5f53a",
     "showTitle": false,
     "title": ""
    }
   },
   "outputs": [
    {
     "output_type": "stream",
     "name": "stdout",
     "output_type": "stream",
     "text": [
      "Out[9]: 0"
     ]
    }
   ],
   "source": [
    "# tous les jeux ont-ils une image de présentation ? OUI\n",
    "\n",
    "flat_df.filter(F.col('header_image').isNull()).count()"
   ]
  },
  {
   "cell_type": "code",
   "execution_count": 0,
   "metadata": {
    "application/vnd.databricks.v1+cell": {
     "cellMetadata": {
      "byteLimit": 2048000,
      "rowLimit": 10000
     },
     "inputWidgets": {},
     "nuid": "a311cda5-32fd-48b8-afcf-79afff731173",
     "showTitle": false,
     "title": ""
    }
   },
   "outputs": [
    {
     "output_type": "display_data",
     "data": {
      "text/html": [
       "<style scoped>\n",
       "  .table-result-container {\n",
       "    max-height: 300px;\n",
       "    overflow: auto;\n",
       "  }\n",
       "  table, th, td {\n",
       "    border: 1px solid black;\n",
       "    border-collapse: collapse;\n",
       "  }\n",
       "  th, td {\n",
       "    padding: 5px;\n",
       "  }\n",
       "  th {\n",
       "    text-align: left;\n",
       "  }\n",
       "</style><div class='table-result-container'><table class='table-result'><thead style='background-color: white'><tr><th>owners</th></tr></thead><tbody><tr><td>100,000 .. 200,000</td></tr><tr><td>1,000,000 .. 2,000,000</td></tr><tr><td>20,000,000 .. 50,000,000</td></tr><tr><td>5,000,000 .. 10,000,000</td></tr><tr><td>0 .. 20,000</td></tr><tr><td>20,000 .. 50,000</td></tr><tr><td>2,000,000 .. 5,000,000</td></tr><tr><td>50,000,000 .. 100,000,000</td></tr><tr><td>200,000,000 .. 500,000,000</td></tr><tr><td>500,000 .. 1,000,000</td></tr><tr><td>10,000,000 .. 20,000,000</td></tr><tr><td>200,000 .. 500,000</td></tr><tr><td>50,000 .. 100,000</td></tr></tbody></table></div>"
      ]
     },
     "metadata": {
      "application/vnd.databricks.v1+output": {
       "addedWidgets": {},
       "aggData": [],
       "aggError": "",
       "aggOverflow": false,
       "aggSchema": [],
       "aggSeriesLimitReached": false,
       "aggType": "",
       "arguments": {},
       "columnCustomDisplayInfos": {},
       "data": [
        [
         "100,000 .. 200,000"
        ],
        [
         "1,000,000 .. 2,000,000"
        ],
        [
         "20,000,000 .. 50,000,000"
        ],
        [
         "5,000,000 .. 10,000,000"
        ],
        [
         "0 .. 20,000"
        ],
        [
         "20,000 .. 50,000"
        ],
        [
         "2,000,000 .. 5,000,000"
        ],
        [
         "50,000,000 .. 100,000,000"
        ],
        [
         "200,000,000 .. 500,000,000"
        ],
        [
         "500,000 .. 1,000,000"
        ],
        [
         "10,000,000 .. 20,000,000"
        ],
        [
         "200,000 .. 500,000"
        ],
        [
         "50,000 .. 100,000"
        ]
       ],
       "datasetInfos": [],
       "dbfsResultPath": null,
       "isJsonSchema": true,
       "metadata": {},
       "overflow": false,
       "plotOptions": {
        "customPlotOptions": {},
        "displayType": "table",
        "pivotAggregation": null,
        "pivotColumns": null,
        "xColumns": null,
        "yColumns": null
       },
       "removedWidgets": [],
       "schema": [
        {
         "metadata": "{}",
         "name": "owners",
         "type": "\"string\""
        }
       ],
       "type": "table"
      }
     },
     "output_type": "display_data"
    }
   ],
   "source": [
    "# que contient vraiment la colonne 'owmers' ?\n",
    "# nous nous apercevons que cette colonne comporte 13 classes signalant le nombre d'unités du jeu vendues\n",
    "# par contre si 'owners' vaut \"100,000 .. 200,000\", entre 100 000 et 200 000 exemplaires du jeu ont été vendus\n",
    "\n",
    "display(flat_df.select('owners').distinct())"
   ]
  },
  {
   "cell_type": "code",
   "execution_count": 0,
   "metadata": {
    "application/vnd.databricks.v1+cell": {
     "cellMetadata": {
      "byteLimit": 2048000,
      "rowLimit": 10000
     },
     "inputWidgets": {},
     "nuid": "9a430543-ceb7-476c-a086-8ecfc4e45067",
     "showTitle": false,
     "title": ""
    }
   },
   "outputs": [
    {
     "output_type": "stream",
     "name": "stdout",
     "output_type": "stream",
     "text": [
      "Out[11]: DataFrame[summary: string, release_date: string]"
     ]
    }
   ],
   "source": [
    "# dans quel format est la date de sortie ? STRING\n",
    "\n",
    "flat_df.select('release_date').describe()"
   ]
  },
  {
   "cell_type": "code",
   "execution_count": 0,
   "metadata": {
    "application/vnd.databricks.v1+cell": {
     "cellMetadata": {
      "byteLimit": 2048000,
      "rowLimit": 10000
     },
     "inputWidgets": {},
     "nuid": "b959f30d-56db-43fd-bce0-ab874704a2cc",
     "showTitle": false,
     "title": ""
    }
   },
   "outputs": [
    {
     "output_type": "display_data",
     "data": {
      "text/html": [
       "<style scoped>\n",
       "  .table-result-container {\n",
       "    max-height: 300px;\n",
       "    overflow: auto;\n",
       "  }\n",
       "  table, th, td {\n",
       "    border: 1px solid black;\n",
       "    border-collapse: collapse;\n",
       "  }\n",
       "  th, td {\n",
       "    padding: 5px;\n",
       "  }\n",
       "  th {\n",
       "    text-align: left;\n",
       "  }\n",
       "</style><div class='table-result-container'><table class='table-result'><thead style='background-color: white'><tr><th>required_age</th><th>count</th></tr></thead><tbody><tr><td>7</td><td>2</td></tr><tr><td>15</td><td>264</td></tr><tr><td>3</td><td>3</td></tr><tr><td>8</td><td>3</td></tr><tr><td>16</td><td>38</td></tr><tr><td>35</td><td>1</td></tr><tr><td>0</td><td>55030</td></tr><tr><td>21+</td><td>1</td></tr><tr><td>5</td><td>1</td></tr><tr><td>18</td><td>223</td></tr><tr><td>17</td><td>38</td></tr><tr><td>6</td><td>4</td></tr><tr><td>180</td><td>4</td></tr><tr><td>9</td><td>1</td></tr><tr><td>7+</td><td>1</td></tr><tr><td>20</td><td>1</td></tr><tr><td>10</td><td>7</td></tr><tr><td>12</td><td>32</td></tr><tr><td>13</td><td>26</td></tr><tr><td>14</td><td>10</td></tr><tr><td>MA 15+</td><td>1</td></tr></tbody></table></div>"
      ]
     },
     "metadata": {
      "application/vnd.databricks.v1+output": {
       "addedWidgets": {},
       "aggData": [],
       "aggError": "",
       "aggOverflow": false,
       "aggSchema": [],
       "aggSeriesLimitReached": false,
       "aggType": "",
       "arguments": {},
       "columnCustomDisplayInfos": {},
       "data": [
        [
         "7",
         2
        ],
        [
         "15",
         264
        ],
        [
         "3",
         3
        ],
        [
         "8",
         3
        ],
        [
         "16",
         38
        ],
        [
         "35",
         1
        ],
        [
         "0",
         55030
        ],
        [
         "21+",
         1
        ],
        [
         "5",
         1
        ],
        [
         "18",
         223
        ],
        [
         "17",
         38
        ],
        [
         "6",
         4
        ],
        [
         "180",
         4
        ],
        [
         "9",
         1
        ],
        [
         "7+",
         1
        ],
        [
         "20",
         1
        ],
        [
         "10",
         7
        ],
        [
         "12",
         32
        ],
        [
         "13",
         26
        ],
        [
         "14",
         10
        ],
        [
         "MA 15+",
         1
        ]
       ],
       "datasetInfos": [],
       "dbfsResultPath": null,
       "isJsonSchema": true,
       "metadata": {},
       "overflow": false,
       "plotOptions": {
        "customPlotOptions": {},
        "displayType": "table",
        "pivotAggregation": null,
        "pivotColumns": null,
        "xColumns": null,
        "yColumns": null
       },
       "removedWidgets": [],
       "schema": [
        {
         "metadata": "{}",
         "name": "required_age",
         "type": "\"string\""
        },
        {
         "metadata": "{}",
         "name": "count",
         "type": "\"long\""
        }
       ],
       "type": "table"
      }
     },
     "output_type": "display_data"
    },
    {
     "output_type": "display_data",
     "data": {
      "text/html": [
       "<style scoped>\n",
       "  .table-result-container {\n",
       "    max-height: 300px;\n",
       "    overflow: auto;\n",
       "  }\n",
       "  table, th, td {\n",
       "    border: 1px solid black;\n",
       "    border-collapse: collapse;\n",
       "  }\n",
       "  th, td {\n",
       "    padding: 5px;\n",
       "  }\n",
       "  th {\n",
       "    text-align: left;\n",
       "  }\n",
       "</style><div class='table-result-container'><table class='table-result'><thead style='background-color: white'><tr><th>required_age</th><th>max(ccu)</th></tr></thead><tbody><tr><td>7</td><td>34</td></tr><tr><td>15</td><td>273088</td></tr><tr><td>3</td><td>0</td></tr><tr><td>8</td><td>365</td></tr><tr><td>16</td><td>2429</td></tr><tr><td>35</td><td>2</td></tr><tr><td>0</td><td>874053</td></tr><tr><td>21+</td><td>0</td></tr><tr><td>5</td><td>0</td></tr><tr><td>18</td><td>50989</td></tr><tr><td>17</td><td>121146</td></tr><tr><td>6</td><td>691</td></tr><tr><td>180</td><td>1</td></tr><tr><td>9</td><td>0</td></tr><tr><td>7+</td><td>0</td></tr><tr><td>20</td><td>0</td></tr><tr><td>10</td><td>13</td></tr><tr><td>12</td><td>31092</td></tr><tr><td>13</td><td>43118</td></tr><tr><td>14</td><td>5440</td></tr><tr><td>MA 15+</td><td>2876</td></tr></tbody></table></div>"
      ]
     },
     "metadata": {
      "application/vnd.databricks.v1+output": {
       "addedWidgets": {},
       "aggData": [],
       "aggError": "",
       "aggOverflow": false,
       "aggSchema": [],
       "aggSeriesLimitReached": false,
       "aggType": "",
       "arguments": {},
       "columnCustomDisplayInfos": {},
       "data": [
        [
         "7",
         34
        ],
        [
         "15",
         273088
        ],
        [
         "3",
         0
        ],
        [
         "8",
         365
        ],
        [
         "16",
         2429
        ],
        [
         "35",
         2
        ],
        [
         "0",
         874053
        ],
        [
         "21+",
         0
        ],
        [
         "5",
         0
        ],
        [
         "18",
         50989
        ],
        [
         "17",
         121146
        ],
        [
         "6",
         691
        ],
        [
         "180",
         1
        ],
        [
         "9",
         0
        ],
        [
         "7+",
         0
        ],
        [
         "20",
         0
        ],
        [
         "10",
         13
        ],
        [
         "12",
         31092
        ],
        [
         "13",
         43118
        ],
        [
         "14",
         5440
        ],
        [
         "MA 15+",
         2876
        ]
       ],
       "datasetInfos": [],
       "dbfsResultPath": null,
       "isJsonSchema": true,
       "metadata": {},
       "overflow": false,
       "plotOptions": {
        "customPlotOptions": {},
        "displayType": "table",
        "pivotAggregation": null,
        "pivotColumns": null,
        "xColumns": null,
        "yColumns": null
       },
       "removedWidgets": [],
       "schema": [
        {
         "metadata": "{}",
         "name": "required_age",
         "type": "\"string\""
        },
        {
         "metadata": "{}",
         "name": "max(ccu)",
         "type": "\"long\""
        }
       ],
       "type": "table"
      }
     },
     "output_type": "display_data"
    }
   ],
   "source": [
    "# que contient le champ required_age ? une information a priori peu pertinente, mais à approfondir\n",
    "\n",
    "display(flat_df.groupBy('required_age').count())\n",
    "display(flat_df.groupBy('required_age').max('ccu'))"
   ]
  },
  {
   "cell_type": "code",
   "execution_count": 0,
   "metadata": {
    "application/vnd.databricks.v1+cell": {
     "cellMetadata": {
      "byteLimit": 2048000,
      "rowLimit": 10000
     },
     "inputWidgets": {},
     "nuid": "86e79b27-6d7c-4a0c-a777-a98bc8a155cf",
     "showTitle": false,
     "title": ""
    }
   },
   "outputs": [
    {
     "output_type": "display_data",
     "data": {
      "text/html": [
       "<style scoped>\n",
       "  .table-result-container {\n",
       "    max-height: 300px;\n",
       "    overflow: auto;\n",
       "  }\n",
       "  table, th, td {\n",
       "    border: 1px solid black;\n",
       "    border-collapse: collapse;\n",
       "  }\n",
       "  th, td {\n",
       "    padding: 5px;\n",
       "  }\n",
       "  th {\n",
       "    text-align: left;\n",
       "  }\n",
       "</style><div class='table-result-container'><table class='table-result'><thead style='background-color: white'><tr><th>type</th><th>count</th></tr></thead><tbody><tr><td>hardware</td><td>1</td></tr><tr><td>game</td><td>55690</td></tr></tbody></table></div>"
      ]
     },
     "metadata": {
      "application/vnd.databricks.v1+output": {
       "addedWidgets": {},
       "aggData": [],
       "aggError": "",
       "aggOverflow": false,
       "aggSchema": [],
       "aggSeriesLimitReached": false,
       "aggType": "",
       "arguments": {},
       "columnCustomDisplayInfos": {},
       "data": [
        [
         "hardware",
         1
        ],
        [
         "game",
         55690
        ]
       ],
       "datasetInfos": [],
       "dbfsResultPath": null,
       "isJsonSchema": true,
       "metadata": {},
       "overflow": false,
       "plotOptions": {
        "customPlotOptions": {},
        "displayType": "table",
        "pivotAggregation": null,
        "pivotColumns": null,
        "xColumns": null,
        "yColumns": null
       },
       "removedWidgets": [],
       "schema": [
        {
         "metadata": "{}",
         "name": "type",
         "type": "\"string\""
        },
        {
         "metadata": "{}",
         "name": "count",
         "type": "\"long\""
        }
       ],
       "type": "table"
      }
     },
     "output_type": "display_data"
    },
    {
     "output_type": "display_data",
     "data": {
      "text/html": [
       "<style scoped>\n",
       "  .table-result-container {\n",
       "    max-height: 300px;\n",
       "    overflow: auto;\n",
       "  }\n",
       "  table, th, td {\n",
       "    border: 1px solid black;\n",
       "    border-collapse: collapse;\n",
       "  }\n",
       "  th, td {\n",
       "    padding: 5px;\n",
       "  }\n",
       "  th {\n",
       "    text-align: left;\n",
       "  }\n",
       "</style><div class='table-result-container'><table class='table-result'><thead style='background-color: white'><tr><th>id</th><th>appid</th><th>categories</th><th>ccu</th><th>developer</th><th>discount</th><th>genre</th><th>header_image</th><th>initialprice</th><th>languages</th><th>name</th><th>negative</th><th>owners</th><th>platforms</th><th>positive</th><th>price</th><th>publisher</th><th>release_date</th><th>required_age</th><th>short_description</th><th>type</th><th>website</th></tr></thead><tbody><tr><td>353380</td><td>353380</td><td>List(Full controller support, Remote Play Together)</td><td>0</td><td></td><td>0</td><td></td><td>https://cdn.akamai.steamstatic.com/steam/apps/353380/header.jpg?t=1617990330</td><td>0</td><td></td><td>Steam Link</td><td>1771</td><td>500,000 .. 1,000,000</td><td>List(true, true, true)</td><td>5803</td><td>0</td><td>Anima Locus</td><td>2015/11/10</td><td>0</td><td>Extend your Steam gaming experience to your mobile device, TV, or another PC - all you need is a local network or internet connection. In addition, the Steam Link app now supports Remote Play Together. Now you can join games hosted on a friend’s PC just by clicking a link.</td><td>hardware</td><td>https://store.steampowered.com/remoteplay</td></tr></tbody></table></div>"
      ]
     },
     "metadata": {
      "application/vnd.databricks.v1+output": {
       "addedWidgets": {},
       "aggData": [],
       "aggError": "",
       "aggOverflow": false,
       "aggSchema": [],
       "aggSeriesLimitReached": false,
       "aggType": "",
       "arguments": {},
       "columnCustomDisplayInfos": {},
       "data": [
        [
         "353380",
         353380,
         [
          "Full controller support",
          "Remote Play Together"
         ],
         0,
         "",
         "0",
         "",
         "https://cdn.akamai.steamstatic.com/steam/apps/353380/header.jpg?t=1617990330",
         "0",
         "",
         "Steam Link",
         1771,
         "500,000 .. 1,000,000",
         [
          true,
          true,
          true
         ],
         5803,
         "0",
         "Anima Locus",
         "2015/11/10",
         "0",
         "Extend your Steam gaming experience to your mobile device, TV, or another PC - all you need is a local network or internet connection. In addition, the Steam Link app now supports Remote Play Together. Now you can join games hosted on a friend’s PC just by clicking a link.",
         "hardware",
         "https://store.steampowered.com/remoteplay"
        ]
       ],
       "datasetInfos": [],
       "dbfsResultPath": null,
       "isJsonSchema": true,
       "metadata": {},
       "overflow": false,
       "plotOptions": {
        "customPlotOptions": {},
        "displayType": "table",
        "pivotAggregation": null,
        "pivotColumns": null,
        "xColumns": null,
        "yColumns": null
       },
       "removedWidgets": [],
       "schema": [
        {
         "metadata": "{}",
         "name": "id",
         "type": "\"string\""
        },
        {
         "metadata": "{}",
         "name": "appid",
         "type": "\"long\""
        },
        {
         "metadata": "{}",
         "name": "categories",
         "type": "{\"type\":\"array\",\"elementType\":\"string\",\"containsNull\":true}"
        },
        {
         "metadata": "{}",
         "name": "ccu",
         "type": "\"long\""
        },
        {
         "metadata": "{}",
         "name": "developer",
         "type": "\"string\""
        },
        {
         "metadata": "{}",
         "name": "discount",
         "type": "\"string\""
        },
        {
         "metadata": "{}",
         "name": "genre",
         "type": "\"string\""
        },
        {
         "metadata": "{}",
         "name": "header_image",
         "type": "\"string\""
        },
        {
         "metadata": "{}",
         "name": "initialprice",
         "type": "\"string\""
        },
        {
         "metadata": "{}",
         "name": "languages",
         "type": "\"string\""
        },
        {
         "metadata": "{}",
         "name": "name",
         "type": "\"string\""
        },
        {
         "metadata": "{}",
         "name": "negative",
         "type": "\"long\""
        },
        {
         "metadata": "{}",
         "name": "owners",
         "type": "\"string\""
        },
        {
         "metadata": "{}",
         "name": "platforms",
         "type": "{\"type\":\"struct\",\"fields\":[{\"name\":\"linux\",\"type\":\"boolean\",\"nullable\":true,\"metadata\":{}},{\"name\":\"mac\",\"type\":\"boolean\",\"nullable\":true,\"metadata\":{}},{\"name\":\"windows\",\"type\":\"boolean\",\"nullable\":true,\"metadata\":{}}]}"
        },
        {
         "metadata": "{}",
         "name": "positive",
         "type": "\"long\""
        },
        {
         "metadata": "{}",
         "name": "price",
         "type": "\"string\""
        },
        {
         "metadata": "{}",
         "name": "publisher",
         "type": "\"string\""
        },
        {
         "metadata": "{}",
         "name": "release_date",
         "type": "\"string\""
        },
        {
         "metadata": "{}",
         "name": "required_age",
         "type": "\"string\""
        },
        {
         "metadata": "{}",
         "name": "short_description",
         "type": "\"string\""
        },
        {
         "metadata": "{}",
         "name": "type",
         "type": "\"string\""
        },
        {
         "metadata": "{}",
         "name": "website",
         "type": "\"string\""
        }
       ],
       "type": "table"
      }
     },
     "output_type": "display_data"
    }
   ],
   "source": [
    "# tous les jeux ont-ils un type et si oui lequel ?\n",
    "# tous les jeux sont des jeux (!!!) sauf un (Steamlink)\n",
    "\n",
    "display(flat_df.groupBy('type').count())\n",
    "display(flat_df.filter(\"type == 'hardware'\"))"
   ]
  },
  {
   "cell_type": "markdown",
   "metadata": {
    "application/vnd.databricks.v1+cell": {
     "cellMetadata": {
      "byteLimit": 2048000,
      "rowLimit": 10000
     },
     "inputWidgets": {},
     "nuid": "a142a9d5-e699-4906-80e3-34e537a14baf",
     "showTitle": false,
     "title": ""
    }
   },
   "source": [
    "\n",
    "### id / appid\n",
    "\n",
    "Il y a autant d'id distinctes que d'appid distinctes que de lignes dans notre table. Cette information est donc redondante et semble un id interne dans Steam. Cela ne nous sera a priori pas nécessaire, nous pouvons donc retirer cette colonne et garder seulement id.\n",
    "\n",
    "Plutôt que de retirer les colonnes une par une tout au long de cette analyse, nous allons ajouter son nom à une liste que nous utiliserons avec la commande .drop() pour nettoyer la table à la fin.\n",
    "\n",
    "### categories\n",
    "\n",
    "Une liste de catégories concernant le type de jeu, par exemple PvP ou multiplayer. Cette information est très importante pour notre étude mais nous ne pouvons pas y accéder facilement. Il faudra la distribuer via une duplication des lignes, potentiellement dans un deuxième temps.\n",
    "\n",
    "### ccu\n",
    "\n",
    "CCU signifie \"Concurrent Connected Users\", dans notre datatrame c'est le nombre maximal de joueurs en train de jouer au jeu au même moment. C'est un indicateur important du succès d'un jeu à son apogée, nous décidons donc de conserver cette colonne.\n",
    "\n",
    "### developer / name / publisher\n",
    "\n",
    "Le nom du jeu ainsi que celui du studio ayant développé le jeu et celui de l'éditeur, des informations très importantes que nous conservons donc.\n",
    "\n",
    "### discount\n",
    "\n",
    "Indique en % si une réduction est appliquée à l'heure actuelle. Information importante pour les politiques de prix.\n",
    "\n",
    "### genre\n",
    "\n",
    "Une string contenant une liste des catégories auxquelles ce jeu appartient (RPG, FPS, Horreur...), une information importante pour pouvoir segmenter l'information. Nous devrons distribuer cette liste dans un second temps (\"explode\").\n",
    "\n",
    "### header_image\n",
    "\n",
    "Une image associée au jeu, tous les jeux en ont une. Cette information ne semble pas pertinente.\n",
    "\n",
    "### initalprice / price\n",
    "\n",
    "Informations utiles pour cette étude.\n",
    "\n",
    "### languages\n",
    "\n",
    "Liste des langues dans lequel le jeu est disponible. A conserver pour le moment, à aplatir quand nous en aurons besoin.\n",
    "\n",
    "### negative / positive\n",
    "\n",
    "Nombres de votes négatifs ou positifs qu'un jeu a reçu de la part des joueurs. Cette information est très utile pour déterminer le succès d'un jeu et devrait nous permettre d'attribuer une note au jeu.\n",
    "\n",
    "### owners\n",
    "\n",
    "Nombre d'exemplaires du jeu vendus, divisés en 13 classes. Il pourrait être utile de diviser ces classes en 2 colonnes min/max pour faire des calculs (par exemple estimation du chiffre d'affaires)\n",
    "\n",
    "### platforms\n",
    "\n",
    "Une liste de 3 booléens indiquant la disponibilité du jeu sur les 3 plateformes principales (ordre de la liste : linux, mac, windows). À répartir sur 3 colonnes distinctes. \n",
    "\n",
    "### release_date\n",
    "\n",
    "Date de sortie du jeu, à transformer en format date correct à partir d'un format string.\n",
    "\n",
    "### required_age\n",
    "\n",
    "Le champ required_age est composé de plusieurs catégories, mais une d'entre elle ('0') domine les débats (environ 55 030 jeux sur les 55 691 jeux présents dans notre dataframe). Néanmoins des jeux ayant des restrictions d'âge atteignent des ccu importants (de l'ordre de 50 000 à 100 000 ccu, alors que le record est de 875 000 environ), il pourrait être intéresser de regarder quels jeux sont concernés.\n",
    "\n",
    "### short_description\n",
    "\n",
    "Une description du jeu qui ne présente que peu d'intérêt pour nous a priori (et occupe comparativement beaucoup de place).\n",
    "\n",
    "### type\n",
    "\n",
    "Tous les jeux référencés sont du type \"game\" sauf un, nous allons donc ignorer cette colonne\n",
    "\n",
    "### website\n",
    "\n",
    "Le site web du jeu, a priori sans intérêt pour nous."
   ]
  },
  {
   "cell_type": "markdown",
   "metadata": {
    "application/vnd.databricks.v1+cell": {
     "cellMetadata": {
      "byteLimit": 2048000,
      "rowLimit": 10000
     },
     "inputWidgets": {},
     "nuid": "fc644b84-2941-418d-9e5b-3672389296b7",
     "showTitle": false,
     "title": ""
    }
   },
   "source": [
    "Nous procédons au retrait des données sans intérêt ainsi qu'à la tranformation d'autres colonnes :\n",
    "- passage de la colonne 'release_date' au format date\n",
    "- création de 3 colonnes à partir de la colonne 'platforms'"
   ]
  },
  {
   "cell_type": "code",
   "execution_count": 0,
   "metadata": {
    "application/vnd.databricks.v1+cell": {
     "cellMetadata": {
      "byteLimit": 2048000,
      "rowLimit": 10000
     },
     "inputWidgets": {},
     "nuid": "ced7627c-8745-415c-90bf-ef1c112f2e6e",
     "showTitle": false,
     "title": ""
    }
   },
   "outputs": [],
   "source": [
    "to_be_dropped = ['appid', 'header_image', 'short_description', 'type', 'website']\n",
    "\n",
    "flat_df = flat_df.drop(*to_be_dropped)"
   ]
  },
  {
   "cell_type": "code",
   "execution_count": 0,
   "metadata": {
    "application/vnd.databricks.v1+cell": {
     "cellMetadata": {
      "byteLimit": 2048000,
      "rowLimit": 10000
     },
     "inputWidgets": {},
     "nuid": "edb35e66-9c1b-48be-bbb2-3de6987ce3c5",
     "showTitle": false,
     "title": ""
    }
   },
   "outputs": [],
   "source": [
    "flat_df = flat_df.withColumn(\"release_date\", F.to_date(F.col(\"release_date\"), format=\"y/M/d\"))"
   ]
  },
  {
   "cell_type": "code",
   "execution_count": 0,
   "metadata": {
    "application/vnd.databricks.v1+cell": {
     "cellMetadata": {
      "byteLimit": 2048000,
      "rowLimit": 10000
     },
     "inputWidgets": {},
     "nuid": "2d11fe72-4067-4a18-8324-0e506dc6e6c8",
     "showTitle": false,
     "title": ""
    }
   },
   "outputs": [],
   "source": [
    "platforms = ['linux', 'mac', 'windows']\n",
    "\n",
    "for platform in platforms:\n",
    "    flat_df = flat_df.withColumn(platform, F.col(\"platforms\").getField(platform))\n",
    "\n",
    "flat_df = flat_df.drop('platforms')"
   ]
  },
  {
   "cell_type": "code",
   "execution_count": 0,
   "metadata": {
    "application/vnd.databricks.v1+cell": {
     "cellMetadata": {
      "byteLimit": 2048000,
      "rowLimit": 10000
     },
     "inputWidgets": {},
     "nuid": "81ab7e5c-35c2-4967-8fec-9fef81f971b1",
     "showTitle": false,
     "title": ""
    }
   },
   "outputs": [
    {
     "output_type": "stream",
     "name": "stdout",
     "output_type": "stream",
     "text": [
      "root\n |-- id: string (nullable = true)\n |-- categories: array (nullable = true)\n |    |-- element: string (containsNull = true)\n |-- ccu: long (nullable = true)\n |-- developer: string (nullable = true)\n |-- discount: string (nullable = true)\n |-- genre: string (nullable = true)\n |-- initialprice: string (nullable = true)\n |-- languages: string (nullable = true)\n |-- name: string (nullable = true)\n |-- negative: long (nullable = true)\n |-- owners: string (nullable = true)\n |-- positive: long (nullable = true)\n |-- price: string (nullable = true)\n |-- publisher: string (nullable = true)\n |-- release_date: date (nullable = true)\n |-- required_age: string (nullable = true)\n |-- linux: boolean (nullable = true)\n |-- mac: boolean (nullable = true)\n |-- windows: boolean (nullable = true)\n\n"
     ]
    }
   ],
   "source": [
    "flat_df.printSchema()"
   ]
  },
  {
   "cell_type": "markdown",
   "metadata": {
    "application/vnd.databricks.v1+cell": {
     "cellMetadata": {
      "byteLimit": 2048000,
      "rowLimit": 10000
     },
     "inputWidgets": {},
     "nuid": "21feff0d-4e4d-45de-97ee-3a00ea3d4828",
     "showTitle": false,
     "title": ""
    }
   },
   "source": [
    "\n",
    "## Analyse des données générales\n",
    "\n",
    "Voici quelques questions que nous sommes susceptibles de nous poser :\n",
    "\n",
    "### Question 1 : Quel éditeur a publié le plus de jeux sur Steam ?\n",
    "\n",
    "Cette question peut aussi se poser pour les studios de développement.\n",
    "\n",
    "### Question 2 : Quels sont les jeux les mieux notés ?\n",
    "\n",
    "Steam ne publie pas de note à proprement parler, nous devrons donc la déduire des autres colonnes. Nous retenons la formule suivante : note = 100 * positive / (positive + negative)\n",
    "La note est donc le pourcentage de votes positifs. Cependant cette note peut facilement mettre en avant des jeux ayant très peu de notes. Pour sélectionner les jeux les mieux notés il faudrait donc veiller à créer un sous-ensemble de jeux \"qualifiés\", par exemple les jeux ayant reçu un nombre minimum de votes au total.\n",
    "\n",
    "Par ailleurs un jue bien noté n'est pas forcément un jeu populaire. Nous nous intéresserons donc aussi au 'ccu' (concurrent connected users) qui est potentiellement plus révélateur du succès réel d'un jeu.\n",
    "\n",
    "Pour finir, le nombre d'exemplaires vendus est aussi un bon indicateur et nous regarderons si l'on trouve les mêmes jeux.\n",
    "\n",
    "### Question 3 : Y a-t-il des années pendant lesquelles plus de jeux sont sortis ? Ou d'autres périodes, comme celle du Covid ?\n",
    "\n",
    "Pour répondre à cette question nous commencerons par regarder la répartition par années puis lors d'événements spécifiques (Covid) ou à l'intérieur d'une année (par exemple la période de Noël).\n",
    "\n",
    "### Question 4 : Comment les prix des jeux sont-ils distribués et qu'en est-il des réductions de prix ?\n",
    "\n",
    "Nous regarderons le contenu des colonnes 'price' et 'discount'.\n",
    "\n",
    "### Question 5 : Quels langages sont les plus représentés ?\n",
    "\n",
    "Il sera temps de regarder la colonne 'languages' et de récupérer les différentes valeurs présentes dans la liste. Cependant cela ne correspond pas forcément à la langue d'origine du jeu (ou du studio, ou de l'éditeur). Il sera intéressant de regarder si beaucoup de jeux sont disponibles dans de nombreuses langues.\n",
    "\n",
    "### Question 6 : Y a-t-il beaucoup de jeux interdits aux moins de 18 ans ? au moins de 16 ans ?\n",
    "\n",
    "Cela sera une opportunité pour regarder de quel type de jeux il s'agit et d'évaluer leur succès."
   ]
  },
  {
   "cell_type": "markdown",
   "metadata": {
    "application/vnd.databricks.v1+cell": {
     "cellMetadata": {
      "byteLimit": 2048000,
      "rowLimit": 10000
     },
     "inputWidgets": {},
     "nuid": "359d8b0d-fa56-429a-a489-c2c5e2ad3b08",
     "showTitle": false,
     "title": ""
    }
   },
   "source": [
    "### Question 1 : Quel éditeur a publié le plus de jeux sur Steam ?"
   ]
  },
  {
   "cell_type": "code",
   "execution_count": 0,
   "metadata": {
    "application/vnd.databricks.v1+cell": {
     "cellMetadata": {
      "byteLimit": 2048000,
      "rowLimit": 10000
     },
     "inputWidgets": {},
     "nuid": "46825056-1902-4175-8543-5ce8cd8d2030",
     "showTitle": false,
     "title": ""
    }
   },
   "outputs": [
    {
     "output_type": "stream",
     "name": "stdout",
     "output_type": "stream",
     "text": [
      "Top 10 des éditeurs (par nombre de jeux)\n"
     ]
    },
    {
     "output_type": "display_data",
     "data": {
      "text/html": [
       "<style scoped>\n",
       "  .table-result-container {\n",
       "    max-height: 300px;\n",
       "    overflow: auto;\n",
       "  }\n",
       "  table, th, td {\n",
       "    border: 1px solid black;\n",
       "    border-collapse: collapse;\n",
       "  }\n",
       "  th, td {\n",
       "    padding: 5px;\n",
       "  }\n",
       "  th {\n",
       "    text-align: left;\n",
       "  }\n",
       "</style><div class='table-result-container'><table class='table-result'><thead style='background-color: white'><tr><th>publisher</th><th>count</th></tr></thead><tbody><tr><td>Big Fish Games</td><td>422</td></tr><tr><td>8floor</td><td>202</td></tr><tr><td>SEGA</td><td>165</td></tr><tr><td>Strategy First</td><td>151</td></tr><tr><td>Square Enix</td><td>141</td></tr><tr><td>Choice of Games</td><td>140</td></tr><tr><td>Sekai Project</td><td>132</td></tr><tr><td>HH-Games</td><td>132</td></tr><tr><td></td><td>132</td></tr><tr><td>Ubisoft</td><td>127</td></tr></tbody></table></div>"
      ]
     },
     "metadata": {
      "application/vnd.databricks.v1+output": {
       "addedWidgets": {},
       "aggData": [],
       "aggError": "",
       "aggOverflow": false,
       "aggSchema": [],
       "aggSeriesLimitReached": false,
       "aggType": "",
       "arguments": {},
       "columnCustomDisplayInfos": {},
       "data": [
        [
         "Big Fish Games",
         422
        ],
        [
         "8floor",
         202
        ],
        [
         "SEGA",
         165
        ],
        [
         "Strategy First",
         151
        ],
        [
         "Square Enix",
         141
        ],
        [
         "Choice of Games",
         140
        ],
        [
         "Sekai Project",
         132
        ],
        [
         "HH-Games",
         132
        ],
        [
         "",
         132
        ],
        [
         "Ubisoft",
         127
        ]
       ],
       "datasetInfos": [],
       "dbfsResultPath": null,
       "isJsonSchema": true,
       "metadata": {},
       "overflow": false,
       "plotOptions": {
        "customPlotOptions": {},
        "displayType": "table",
        "pivotAggregation": null,
        "pivotColumns": null,
        "xColumns": null,
        "yColumns": null
       },
       "removedWidgets": [],
       "schema": [
        {
         "metadata": "{}",
         "name": "publisher",
         "type": "\"string\""
        },
        {
         "metadata": "{}",
         "name": "count",
         "type": "\"long\""
        }
       ],
       "type": "table"
      }
     },
     "output_type": "display_data"
    },
    {
     "output_type": "stream",
     "name": "stdout",
     "output_type": "stream",
     "text": [
      "Top 10 des dévelopeurs (par nombre de jeux)\n"
     ]
    },
    {
     "output_type": "display_data",
     "data": {
      "text/html": [
       "<style scoped>\n",
       "  .table-result-container {\n",
       "    max-height: 300px;\n",
       "    overflow: auto;\n",
       "  }\n",
       "  table, th, td {\n",
       "    border: 1px solid black;\n",
       "    border-collapse: collapse;\n",
       "  }\n",
       "  th, td {\n",
       "    padding: 5px;\n",
       "  }\n",
       "  th {\n",
       "    text-align: left;\n",
       "  }\n",
       "</style><div class='table-result-container'><table class='table-result'><thead style='background-color: white'><tr><th>developer</th><th>count</th></tr></thead><tbody><tr><td>Choice of Games</td><td>140</td></tr><tr><td></td><td>127</td></tr><tr><td>Creobit</td><td>122</td></tr><tr><td>Laush Dmitriy Sergeevich</td><td>108</td></tr><tr><td>Sokpop Collective</td><td>98</td></tr><tr><td>KOEI TECMO GAMES CO., LTD.</td><td>90</td></tr><tr><td>Reforged Group</td><td>89</td></tr><tr><td>Boogygames Studios</td><td>80</td></tr><tr><td>Hosted Games</td><td>79</td></tr><tr><td>Elephant Games</td><td>75</td></tr></tbody></table></div>"
      ]
     },
     "metadata": {
      "application/vnd.databricks.v1+output": {
       "addedWidgets": {},
       "aggData": [],
       "aggError": "",
       "aggOverflow": false,
       "aggSchema": [],
       "aggSeriesLimitReached": false,
       "aggType": "",
       "arguments": {},
       "columnCustomDisplayInfos": {},
       "data": [
        [
         "Choice of Games",
         140
        ],
        [
         "",
         127
        ],
        [
         "Creobit",
         122
        ],
        [
         "Laush Dmitriy Sergeevich",
         108
        ],
        [
         "Sokpop Collective",
         98
        ],
        [
         "KOEI TECMO GAMES CO., LTD.",
         90
        ],
        [
         "Reforged Group",
         89
        ],
        [
         "Boogygames Studios",
         80
        ],
        [
         "Hosted Games",
         79
        ],
        [
         "Elephant Games",
         75
        ]
       ],
       "datasetInfos": [],
       "dbfsResultPath": null,
       "isJsonSchema": true,
       "metadata": {},
       "overflow": false,
       "plotOptions": {
        "customPlotOptions": {},
        "displayType": "table",
        "pivotAggregation": null,
        "pivotColumns": null,
        "xColumns": null,
        "yColumns": null
       },
       "removedWidgets": [],
       "schema": [
        {
         "metadata": "{}",
         "name": "developer",
         "type": "\"string\""
        },
        {
         "metadata": "{}",
         "name": "count",
         "type": "\"long\""
        }
       ],
       "type": "table"
      }
     },
     "output_type": "display_data"
    }
   ],
   "source": [
    "print(\"Top 10 des éditeurs (par nombre de jeux)\")\n",
    "display(flat_df.groupBy('publisher').count().sort('count', ascending=False).take(10))\n",
    "print(\"Top 10 des dévelopeurs (par nombre de jeux)\")\n",
    "display(flat_df.groupBy('developer').count().sort('count', ascending=False).take(10))"
   ]
  },
  {
   "cell_type": "markdown",
   "metadata": {
    "application/vnd.databricks.v1+cell": {
     "cellMetadata": {
      "byteLimit": 2048000,
      "rowLimit": 10000
     },
     "inputWidgets": {},
     "nuid": "65485322-cc6c-4240-b0af-24029a2f852b",
     "showTitle": false,
     "title": ""
    }
   },
   "source": [
    "Nous remarquons que les plus gros éditeurs et les plus gros studios ont publié plusieurs centaines de jeux sur Steam.\n",
    "\n",
    "L'éditeur \"Big Fish Game\" a publié largement plus de jeux que n'importe qui d'autre sur Steam (plus de 2 fois plus que l'éditeur arrivant en seconde position) mais il n'apparaît pas dans le top 10 des dévelopeurs.\n",
    "\n",
    "À l'inverse \"Choice of Games\" a édité et développé 140 jeux : ce studio a (a priori) édité lui-même tous les jeux qu'il a développés. C'est aussi le studio ayant développé le plus de jeux.\n",
    "\n",
    "Pour mieux comprendre le lien entre éditeur et dévelopeur, penchons-nous par exemple sur le cas de Square Enix :"
   ]
  },
  {
   "cell_type": "code",
   "execution_count": 0,
   "metadata": {
    "application/vnd.databricks.v1+cell": {
     "cellMetadata": {
      "byteLimit": 2048000,
      "rowLimit": 10000
     },
     "inputWidgets": {},
     "nuid": "f06bc677-abb3-4e8b-a1f2-c1fa893922ee",
     "showTitle": false,
     "title": ""
    }
   },
   "outputs": [
    {
     "output_type": "display_data",
     "data": {
      "text/html": [
       "<style scoped>\n",
       "  .table-result-container {\n",
       "    max-height: 300px;\n",
       "    overflow: auto;\n",
       "  }\n",
       "  table, th, td {\n",
       "    border: 1px solid black;\n",
       "    border-collapse: collapse;\n",
       "  }\n",
       "  th, td {\n",
       "    padding: 5px;\n",
       "  }\n",
       "  th {\n",
       "    text-align: left;\n",
       "  }\n",
       "</style><div class='table-result-container'><table class='table-result'><thead style='background-color: white'><tr><th>publisher</th><th>developer</th></tr></thead><tbody><tr><td>Square Enix</td><td>Square Enix</td></tr><tr><td>Square Enix</td><td>Square Enix, KOEI TECMO GAMES CO., LTD.</td></tr><tr><td>Square Enix</td><td>Eidos-Montréal</td></tr><tr><td>Square Enix</td><td>Original Fire Games</td></tr><tr><td>Square Enix</td><td>Square Enix, Toylogic Inc.</td></tr><tr><td>Square Enix</td><td>Square Enix</td></tr><tr><td>Square Enix</td><td>Square Enix, D4Enterprise Co.,Ltd.</td></tr><tr><td>Square Enix</td><td>Square Enix</td></tr><tr><td>Square Enix</td><td>Square Enix</td></tr><tr><td>Square Enix</td><td>Square Enix</td></tr></tbody></table></div>"
      ]
     },
     "metadata": {
      "application/vnd.databricks.v1+output": {
       "addedWidgets": {},
       "aggData": [],
       "aggError": "",
       "aggOverflow": false,
       "aggSchema": [],
       "aggSeriesLimitReached": false,
       "aggType": "",
       "arguments": {},
       "columnCustomDisplayInfos": {},
       "data": [
        [
         "Square Enix",
         "Square Enix"
        ],
        [
         "Square Enix",
         "Square Enix, KOEI TECMO GAMES CO., LTD."
        ],
        [
         "Square Enix",
         "Eidos-Montréal"
        ],
        [
         "Square Enix",
         "Original Fire Games"
        ],
        [
         "Square Enix",
         "Square Enix, Toylogic Inc."
        ],
        [
         "Square Enix",
         "Square Enix"
        ],
        [
         "Square Enix",
         "Square Enix, D4Enterprise Co.,Ltd."
        ],
        [
         "Square Enix",
         "Square Enix"
        ],
        [
         "Square Enix",
         "Square Enix"
        ],
        [
         "Square Enix",
         "Square Enix"
        ]
       ],
       "datasetInfos": [],
       "dbfsResultPath": null,
       "isJsonSchema": true,
       "metadata": {},
       "overflow": false,
       "plotOptions": {
        "customPlotOptions": {},
        "displayType": "table",
        "pivotAggregation": null,
        "pivotColumns": null,
        "xColumns": null,
        "yColumns": null
       },
       "removedWidgets": [],
       "schema": [
        {
         "metadata": "{}",
         "name": "publisher",
         "type": "\"string\""
        },
        {
         "metadata": "{}",
         "name": "developer",
         "type": "\"string\""
        }
       ],
       "type": "table"
      }
     },
     "output_type": "display_data"
    },
    {
     "output_type": "stream",
     "name": "stdout",
     "output_type": "stream",
     "text": [
      "42"
     ]
    }
   ],
   "source": [
    "display(flat_df.select('publisher', 'developer').filter(F.col('publisher') == 'Square Enix').limit(10))\n",
    "display(flat_df.select('publisher').filter((F.col('publisher') == 'Square Enix') & (F.col('developer') == 'Square Enix')).count())"
   ]
  },
  {
   "cell_type": "markdown",
   "metadata": {
    "application/vnd.databricks.v1+cell": {
     "cellMetadata": {
      "byteLimit": 2048000,
      "rowLimit": 10000
     },
     "inputWidgets": {},
     "nuid": "6d0ebb0f-cdbf-493c-9fd7-d94580b8bc89",
     "showTitle": false,
     "title": ""
    }
   },
   "source": [
    "Sur 141 jeux, Square Enix en a développé 41 en solo mais le nom de Square Enix apparaît souvent conjoitement avec un autre studio du côté développement.\n",
    "\n",
    "Nous pouvons aussi regarder le nombre de jeux pour lequel l'éditeur est le même que le développeur :"
   ]
  },
  {
   "cell_type": "code",
   "execution_count": 0,
   "metadata": {
    "application/vnd.databricks.v1+cell": {
     "cellMetadata": {
      "byteLimit": 2048000,
      "rowLimit": 10000
     },
     "inputWidgets": {},
     "nuid": "62c4fca0-64a0-4544-94d6-c295a06cec4f",
     "showTitle": false,
     "title": ""
    }
   },
   "outputs": [
    {
     "output_type": "display_data",
     "data": {
      "text/html": [
       "<style scoped>\n",
       "  .table-result-container {\n",
       "    max-height: 300px;\n",
       "    overflow: auto;\n",
       "  }\n",
       "  table, th, td {\n",
       "    border: 1px solid black;\n",
       "    border-collapse: collapse;\n",
       "  }\n",
       "  th, td {\n",
       "    padding: 5px;\n",
       "  }\n",
       "  th {\n",
       "    text-align: left;\n",
       "  }\n",
       "</style><div class='table-result-container'><table class='table-result'><thead style='background-color: white'><tr><th>publisher</th><th>developer</th><th>count</th></tr></thead><tbody><tr><td>Choice of Games</td><td>Choice of Games</td><td>140</td></tr><tr><td>Laush Studio</td><td>Laush Dmitriy Sergeevich</td><td>105</td></tr><tr><td>Sokpop Collective</td><td>Sokpop Collective</td><td>98</td></tr><tr><td>8floor</td><td>Creobit</td><td>94</td></tr><tr><td>Reforged Group</td><td>Reforged Group</td><td>89</td></tr><tr><td>KOEI TECMO GAMES CO., LTD.</td><td>KOEI TECMO GAMES CO., LTD.</td><td>86</td></tr><tr><td>Hosted Games</td><td>Hosted Games</td><td>79</td></tr><tr><td>Boogygames Studios</td><td>Boogygames Studios</td><td>78</td></tr><tr><td>Big Fish Games</td><td>Elephant Games</td><td>73</td></tr><tr><td>Blender Games</td><td>Blender Games</td><td>70</td></tr></tbody></table></div>"
      ]
     },
     "metadata": {
      "application/vnd.databricks.v1+output": {
       "addedWidgets": {},
       "aggData": [],
       "aggError": "",
       "aggOverflow": false,
       "aggSchema": [],
       "aggSeriesLimitReached": false,
       "aggType": "",
       "arguments": {},
       "columnCustomDisplayInfos": {},
       "data": [
        [
         "Choice of Games",
         "Choice of Games",
         140
        ],
        [
         "Laush Studio",
         "Laush Dmitriy Sergeevich",
         105
        ],
        [
         "Sokpop Collective",
         "Sokpop Collective",
         98
        ],
        [
         "8floor",
         "Creobit",
         94
        ],
        [
         "Reforged Group",
         "Reforged Group",
         89
        ],
        [
         "KOEI TECMO GAMES CO., LTD.",
         "KOEI TECMO GAMES CO., LTD.",
         86
        ],
        [
         "Hosted Games",
         "Hosted Games",
         79
        ],
        [
         "Boogygames Studios",
         "Boogygames Studios",
         78
        ],
        [
         "Big Fish Games",
         "Elephant Games",
         73
        ],
        [
         "Blender Games",
         "Blender Games",
         70
        ]
       ],
       "datasetInfos": [],
       "dbfsResultPath": null,
       "isJsonSchema": true,
       "metadata": {},
       "overflow": false,
       "plotOptions": {
        "customPlotOptions": {},
        "displayType": "table",
        "pivotAggregation": null,
        "pivotColumns": null,
        "xColumns": null,
        "yColumns": null
       },
       "removedWidgets": [],
       "schema": [
        {
         "metadata": "{}",
         "name": "publisher",
         "type": "\"string\""
        },
        {
         "metadata": "{}",
         "name": "developer",
         "type": "\"string\""
        },
        {
         "metadata": "{}",
         "name": "count",
         "type": "\"long\""
        }
       ],
       "type": "table"
      }
     },
     "output_type": "display_data"
    }
   ],
   "source": [
    "display(flat_df.groupby('publisher', 'developer').count().sort('count', ascending = False).limit(10))"
   ]
  },
  {
   "cell_type": "markdown",
   "metadata": {
    "application/vnd.databricks.v1+cell": {
     "cellMetadata": {
      "byteLimit": 2048000,
      "rowLimit": 10000
     },
     "inputWidgets": {},
     "nuid": "70399009-1e20-4f31-83bb-247d219e8cb0",
     "showTitle": false,
     "title": ""
    }
   },
   "source": [
    "### Question 2 : Quels sont les jeux les mieux notés ?\n",
    "\n"
   ]
  },
  {
   "cell_type": "code",
   "execution_count": 0,
   "metadata": {
    "application/vnd.databricks.v1+cell": {
     "cellMetadata": {
      "byteLimit": 2048000,
      "rowLimit": 10000
     },
     "inputWidgets": {},
     "nuid": "a3792227-e0cf-4e78-ba29-9d230c7acfea",
     "showTitle": false,
     "title": ""
    }
   },
   "outputs": [],
   "source": [
    "# Réponse 1 : jeux ayant le plus d'avis positifs\n",
    "# Réponse 2 : jeux ayant la meilleure \"note\" : 100 * votes_positifs / (nombre total de votes)\n",
    "# Réponse 3 : jeux ayant eu le plus de ccu (concurrent connected users)\n",
    "\n",
    "# Nous commençons par ajouter une colonne \"rating\" avec notre note\n",
    "# Nous éliminons tous les jeux n'ayant pas atteint une certaine quantité de votes positifs (outliers dans ce cas)\n",
    "\n",
    "min_nb_reviews = 50000\n",
    "\n",
    "top_df = flat_df \\\n",
    "    .select('*')\\\n",
    "    .filter((flat_df.positive + flat_df.negative) > min_nb_reviews)\\\n",
    "    .withColumn('rating', F.format_number(100 * flat_df.positive / (flat_df.positive + flat_df.negative), 2))\n",
    "\n",
    "# Réponse 1\n",
    "\n",
    "top_df1 = top_df.select('name', 'positive', 'rating', 'ccu').sort('positive', ascending = False)\n",
    "\n",
    "# Réponse 2\n",
    "\n",
    "top_df2 = top_df.select('name', 'positive', 'rating', 'ccu'). sort('rating', ascending = False)\n",
    "\n",
    "# Réponse 3\n",
    "\n",
    "top_df3 = top_df.select('name', 'positive', 'rating', 'ccu').sort('ccu', ascending = False)"
   ]
  },
  {
   "cell_type": "code",
   "execution_count": 0,
   "metadata": {
    "application/vnd.databricks.v1+cell": {
     "cellMetadata": {
      "byteLimit": 2048000,
      "rowLimit": 10000
     },
     "inputWidgets": {},
     "nuid": "1e0f5d8e-ee7a-483c-a2e5-c23a008de0b4",
     "showTitle": false,
     "title": ""
    }
   },
   "outputs": [
    {
     "output_type": "stream",
     "name": "stdout",
     "output_type": "stream",
     "text": [
      "Top 20 des jeux ayant eu le plus de votes positifs\n+--------------------+--------+------+------+\n|                name|positive|rating|   ccu|\n+--------------------+--------+------+------+\n|Counter-Strike: G...| 5943345| 88.31|874053|\n|              Dota 2| 1534895| 82.84|852995|\n|  Grand Theft Auto V| 1229265| 85.21|140671|\n| PUBG: BATTLEGROUNDS| 1185361| 56.61|339287|\n|            Terraria| 1014711| 97.84| 58984|\n|Tom Clancy's Rain...|  942910| 86.81| 31239|\n|         Garry's Mod|  861240| 96.63| 39043|\n|     Team Fortress 2|  846407| 93.65|108900|\n|                Rust|  732513| 86.72|121146|\n|       Left 4 Dead 2|  643836| 97.45| 19084|\n|The Witcher 3: Wi...|  632627| 96.16| 22812|\n|            Among Us|  586302| 91.79|  8479|\n|Euro Truck Simula...|  572368| 97.34| 39651|\n|    Wallpaper Engine|  561096| 98.07|109428|\n|            PAYDAY 2|  532013| 89.40| 40874|\n|    Dead by Daylight|  509637| 81.41| 43211|\n|      Stardew Valley|  497558| 98.17| 32996|\n|       Rocket League|  496499| 88.73| 35905|\n|          ELDEN RING|  490203| 90.40| 23687|\n|ARK: Survival Evo...|  481318| 82.61| 70578|\n+--------------------+--------+------+------+\nonly showing top 20 rows\n\nTop 20 des jeux ayant eu la meilleure note d'après notre définition\n+--------------------+--------+------+------+\n|                name|positive|rating|   ccu|\n+--------------------+--------+------+------+\n|   People Playground|  142920| 98.86|  6527|\n|            Portal 2|  305671| 98.78|  2466|\n|   Vampire Survivors|  130311| 98.77| 11185|\n|               Hades|  199960| 98.60|  6227|\n|              Portal|  111786| 98.46|   580|\n|     Half-Life: Alyx|   73942| 98.46|   666|\n|         Katana ZERO|   49239| 98.25|   117|\n|            RimWorld|  142201| 98.24| 52984|\n|      Stardew Valley|  497558| 98.17| 32996|\n|    Wallpaper Engine|  561096| 98.07|109428|\n|           Helltaker|  105952| 97.95|    85|\n|Totally Accurate ...|   93141| 97.90|  6222|\n|      Slay the Spire|  116347| 97.90|  8371|\n|       Slime Rancher|   97207| 97.89|  1644|\n|            Terraria| 1014711| 97.84| 58984|\n|             Celeste|   58973| 97.79|   901|\n|Dyson Sphere Program|   64347| 97.76|  5101|\n|Mount & Blade: Wa...|  142780| 97.74|  7349|\n|The Binding of Is...|  210521| 97.68| 17629|\n|South Park: The S...|   50149| 97.58|  1391|\n+--------------------+--------+------+------+\nonly showing top 20 rows\n\nTop 20 des jeux ayant eu le nombre de joueurs au même temps le plus élevé\n+--------------------+--------+------+------+\n|                name|positive|rating|   ccu|\n+--------------------+--------+------+------+\n|Counter-Strike: G...| 5943345| 88.31|874053|\n|              Dota 2| 1534895| 82.84|852995|\n| PUBG: BATTLEGROUNDS| 1185361| 56.61|339287|\n|        Apex Legends|  450786| 85.43|314468|\n|            Lost Ark|  128728| 73.83|273088|\n|Call of Duty: Mod...|   34726| 55.27|206441|\n|  Grand Theft Auto V| 1229265| 85.21|140671|\n|           New World|  163825| 68.79|127379|\n|                Rust|  732513| 86.72|121146|\n|  NARAKA: BLADEPOINT|  102248| 77.77|116729|\n|    Wallpaper Engine|  561096| 98.07|109428|\n|     Team Fortress 2|  846407| 93.65|108900|\n|Warhammer: Vermin...|   78152| 83.81| 85953|\n|         War Thunder|  267782| 78.44| 71685|\n|ARK: Survival Evo...|  481318| 82.61| 70578|\n|            Unturned|  451671| 91.47| 59366|\n|            Terraria| 1014711| 97.84| 58984|\n|           Destiny 2|  420074| 83.71| 57116|\n|          The Sims 4|   62629| 86.70| 55459|\n|                DayZ|  231166| 71.91| 53885|\n+--------------------+--------+------+------+\nonly showing top 20 rows\n\n"
     ]
    }
   ],
   "source": [
    "print(\"Top 20 des jeux ayant eu le plus de votes positifs\")\n",
    "top_df1.show(20)\n",
    "print(\"Top 20 des jeux ayant eu la meilleure note d'après notre définition\")\n",
    "top_df2.show(20)\n",
    "print(\"Top 20 des jeux ayant eu le nombre de joueurs au même temps le plus élevé\")\n",
    "top_df3.show(20)"
   ]
  },
  {
   "cell_type": "markdown",
   "metadata": {
    "application/vnd.databricks.v1+cell": {
     "cellMetadata": {
      "byteLimit": 2048000,
      "rowLimit": 10000
     },
     "inputWidgets": {},
     "nuid": "756e486b-ec97-41c7-979d-dafc31ec9047",
     "showTitle": false,
     "title": ""
    }
   },
   "source": [
    "En conclusion nous pouvons observer qu'il est rare qu'un jeu apparaisse dans les 3 catégories et que le résultat dépendra donc fortement de la métrique retenue."
   ]
  },
  {
   "cell_type": "markdown",
   "metadata": {
    "application/vnd.databricks.v1+cell": {
     "cellMetadata": {
      "byteLimit": 2048000,
      "rowLimit": 10000
     },
     "inputWidgets": {},
     "nuid": "476ce4e6-a60c-473f-b15d-10e2cce70dd3",
     "showTitle": false,
     "title": ""
    }
   },
   "source": [
    "### Question 3 : Y a-t-il des années pendant lesquelles plus de jeux sont sortis ? Ou d'autres périodes, comme celle du Covid ?"
   ]
  },
  {
   "cell_type": "code",
   "execution_count": 0,
   "metadata": {
    "application/vnd.databricks.v1+cell": {
     "cellMetadata": {
      "byteLimit": 2048000,
      "rowLimit": 10000
     },
     "inputWidgets": {},
     "nuid": "a7518307-456d-4600-8a02-aa7d731dd984",
     "showTitle": false,
     "title": ""
    }
   },
   "outputs": [
    {
     "output_type": "stream",
     "name": "stdout",
     "output_type": "stream",
     "text": [
      "Out[23]: DataFrame[name: string, release_date: date, year: int, month: int]"
     ]
    }
   ],
   "source": [
    "time_df = flat_df \\\n",
    "    .select('*')\\\n",
    "    .withColumn('year', F.year('release_date'))\\\n",
    "    .withColumn('month', F.month('release_date'))\n",
    "\n",
    "time_df.select('name', 'release_date', 'year', 'month').limit(10)"
   ]
  },
  {
   "cell_type": "code",
   "execution_count": 0,
   "metadata": {
    "application/vnd.databricks.v1+cell": {
     "cellMetadata": {
      "byteLimit": 2048000,
      "rowLimit": 10000
     },
     "inputWidgets": {},
     "nuid": "8285f70b-9d90-4b10-b7ee-1933872ea81c",
     "showTitle": false,
     "title": ""
    }
   },
   "outputs": [
    {
     "output_type": "display_data",
     "data": {
      "text/html": [
       "<style scoped>\n",
       "  .table-result-container {\n",
       "    max-height: 300px;\n",
       "    overflow: auto;\n",
       "  }\n",
       "  table, th, td {\n",
       "    border: 1px solid black;\n",
       "    border-collapse: collapse;\n",
       "  }\n",
       "  th, td {\n",
       "    padding: 5px;\n",
       "  }\n",
       "  th {\n",
       "    text-align: left;\n",
       "  }\n",
       "</style><div class='table-result-container'><table class='table-result'><thead style='background-color: white'><tr><th>year</th><th>count</th></tr></thead><tbody><tr><td>null</td><td>222</td></tr><tr><td>1997</td><td>2</td></tr><tr><td>1998</td><td>1</td></tr><tr><td>1999</td><td>3</td></tr><tr><td>2000</td><td>2</td></tr><tr><td>2001</td><td>4</td></tr><tr><td>2002</td><td>1</td></tr><tr><td>2003</td><td>3</td></tr><tr><td>2004</td><td>6</td></tr><tr><td>2005</td><td>6</td></tr><tr><td>2006</td><td>61</td></tr><tr><td>2007</td><td>98</td></tr><tr><td>2008</td><td>159</td></tr><tr><td>2009</td><td>309</td></tr><tr><td>2010</td><td>281</td></tr><tr><td>2011</td><td>267</td></tr><tr><td>2012</td><td>344</td></tr><tr><td>2013</td><td>469</td></tr><tr><td>2014</td><td>1550</td></tr><tr><td>2015</td><td>2566</td></tr><tr><td>2016</td><td>4176</td></tr><tr><td>2017</td><td>6006</td></tr><tr><td>2018</td><td>7663</td></tr><tr><td>2019</td><td>6949</td></tr><tr><td>2020</td><td>8287</td></tr><tr><td>2021</td><td>8805</td></tr><tr><td>2022</td><td>7451</td></tr></tbody></table></div>"
      ]
     },
     "metadata": {
      "application/vnd.databricks.v1+output": {
       "addedWidgets": {},
       "aggData": [],
       "aggError": "",
       "aggOverflow": false,
       "aggSchema": [],
       "aggSeriesLimitReached": false,
       "aggType": "",
       "arguments": {},
       "columnCustomDisplayInfos": {},
       "data": [
        [
         null,
         222
        ],
        [
         1997,
         2
        ],
        [
         1998,
         1
        ],
        [
         1999,
         3
        ],
        [
         2000,
         2
        ],
        [
         2001,
         4
        ],
        [
         2002,
         1
        ],
        [
         2003,
         3
        ],
        [
         2004,
         6
        ],
        [
         2005,
         6
        ],
        [
         2006,
         61
        ],
        [
         2007,
         98
        ],
        [
         2008,
         159
        ],
        [
         2009,
         309
        ],
        [
         2010,
         281
        ],
        [
         2011,
         267
        ],
        [
         2012,
         344
        ],
        [
         2013,
         469
        ],
        [
         2014,
         1550
        ],
        [
         2015,
         2566
        ],
        [
         2016,
         4176
        ],
        [
         2017,
         6006
        ],
        [
         2018,
         7663
        ],
        [
         2019,
         6949
        ],
        [
         2020,
         8287
        ],
        [
         2021,
         8805
        ],
        [
         2022,
         7451
        ]
       ],
       "datasetInfos": [],
       "dbfsResultPath": null,
       "isJsonSchema": true,
       "metadata": {},
       "overflow": false,
       "plotOptions": {
        "customPlotOptions": {},
        "displayType": "table",
        "pivotAggregation": null,
        "pivotColumns": null,
        "xColumns": null,
        "yColumns": null
       },
       "removedWidgets": [],
       "schema": [
        {
         "metadata": "{}",
         "name": "year",
         "type": "\"integer\""
        },
        {
         "metadata": "{}",
         "name": "count",
         "type": "\"long\""
        }
       ],
       "type": "table"
      }
     },
     "output_type": "display_data"
    },
    {
     "output_type": "display_data",
     "data": {
      "text/plain": [
       "Databricks visualization. Run in Databricks to view."
      ]
     },
     "metadata": {
      "application/vnd.databricks.v1.subcommand+json": {
       "baseErrorDetails": null,
       "bindings": {},
       "collapsed": false,
       "command": "%python\n__backend_agg_display_orig = display\n__backend_agg_dfs = []\ndef __backend_agg_display_new(df):\n    __backend_agg_df_modules = [\"pandas.core.frame\", \"databricks.koalas.frame\", \"pyspark.sql.dataframe\", \"pyspark.pandas.frame\", \"pyspark.sql.connect.dataframe\"]\n    if (type(df).__module__ in __backend_agg_df_modules and type(df).__name__ == 'DataFrame') or isinstance(df, list):\n        __backend_agg_dfs.append(df)\n\ndisplay = __backend_agg_display_new\n\ndef __backend_agg_user_code_fn():\n    import base64\n    exec(base64.standard_b64decode(\"ZGlzcGxheSh0aW1lX2RmLmdyb3VwQnkoJ3llYXInKS5jb3VudCgpLnNvcnQoJ3llYXInKSk=\").decode())\n\ntry:\n    # run user code\n    __backend_agg_user_code_fn()\n\n    #reset display function\n    display = __backend_agg_display_orig\n\n    if len(__backend_agg_dfs) > 0:\n        # create a temp view\n        if type(__backend_agg_dfs[0]).__module__ == \"databricks.koalas.frame\":\n            # koalas dataframe\n            __backend_agg_dfs[0].to_spark().createOrReplaceTempView(\"DatabricksViewc60aebc\")\n        elif type(__backend_agg_dfs[0]).__module__ == \"pandas.core.frame\" or isinstance(__backend_agg_dfs[0], list):\n            # pandas dataframe\n            spark.createDataFrame(__backend_agg_dfs[0]).createOrReplaceTempView(\"DatabricksViewc60aebc\")\n        else:\n            __backend_agg_dfs[0].createOrReplaceTempView(\"DatabricksViewc60aebc\")\n        #run backend agg\n        display(spark.sql(\"\"\"WITH q AS (select * from DatabricksViewc60aebc) SELECT `year`,`count` FROM q\"\"\"))\n    else:\n        displayHTML(\"dataframe no longer exists. If you're using dataframe.display(), use display(dataframe) instead.\")\n\n\nfinally:\n    spark.sql(\"drop view if exists DatabricksViewc60aebc\")\n    display = __backend_agg_display_orig\n    del __backend_agg_display_new\n    del __backend_agg_display_orig\n    del __backend_agg_dfs\n    del __backend_agg_user_code_fn\n\n",
       "commandTitle": "# of games released per year",
       "commandType": "auto",
       "commandVersion": 0,
       "commentThread": [],
       "commentsVisible": false,
       "contentSha256Hex": null,
       "customPlotOptions": {
        "redashChart": [
         {
          "key": "type",
          "value": "CHART"
         },
         {
          "key": "options",
          "value": {
           "alignYAxesAtZero": true,
           "coefficient": 1,
           "columnConfigurationMap": {
            "x": {
             "column": "year",
             "id": "column_be2441341"
            },
            "y": [
             {
              "column": "count",
              "id": "column_be2441342"
             }
            ]
           },
           "dateTimeFormat": "DD/MM/YYYY HH:mm",
           "direction": {
            "type": "counterclockwise"
           },
           "error_y": {
            "type": "data",
            "visible": true
           },
           "globalSeriesType": "scatter",
           "legend": {
            "traceorder": "normal"
           },
           "missingValuesAsZero": true,
           "numberFormat": "0,0.[00000]",
           "percentFormat": "0[.]00%",
           "series": {
            "error_y": {
             "type": "data",
             "visible": true
            },
            "stacking": null
           },
           "seriesOptions": {
            "column_be2441342": {
             "name": "count",
             "yAxis": 0
            }
           },
           "showDataLabels": false,
           "sizemode": "diameter",
           "sortX": true,
           "sortY": true,
           "swappedAxes": false,
           "textFormat": "",
           "useAggregationsUi": true,
           "valuesOptions": {},
           "version": 2,
           "xAxis": {
            "labels": {
             "enabled": true
            },
            "type": "-"
           },
           "yAxis": [
            {
             "type": "-"
            },
            {
             "opposite": true,
             "type": "-"
            }
           ]
          }
         }
        ]
       },
       "datasetPreviewNameToCmdIdMap": {},
       "diffDeletes": [],
       "diffInserts": [],
       "displayType": "redashChart",
       "error": null,
       "errorDetails": null,
       "errorSummary": null,
       "errorTraceType": null,
       "finishTime": 0,
       "globalVars": {},
       "guid": "",
       "height": "auto",
       "hideCommandCode": false,
       "hideCommandResult": false,
       "iPythonMetadata": null,
       "inputWidgets": {},
       "isLockedInExamMode": false,
       "latestUser": "a user",
       "latestUserId": null,
       "listResultMetadata": null,
       "metadata": {
        "byteLimit": 2048000,
        "rowLimit": 10000
       },
       "nuid": "410a7bdd-af77-46dd-9db3-5febbd97df20",
       "origId": 0,
       "parentHierarchy": [],
       "pivotAggregation": null,
       "pivotColumns": null,
       "position": 20.0,
       "resultDbfsErrorMessage": null,
       "resultDbfsStatus": "INLINED_IN_TREE",
       "results": null,
       "showCommandTitle": false,
       "startTime": 0,
       "state": "finished",
       "streamStates": {},
       "subcommandOptions": {
        "queryPlan": {
         "selects": [
          {
           "column": "year",
           "type": "column"
          },
          {
           "column": "count",
           "type": "column"
          }
         ]
        }
       },
       "submitTime": 0,
       "subtype": "tableResultSubCmd.visualization",
       "tableResultIndex": 0,
       "useConsistentColors": false,
       "version": "CommandV1",
       "width": "auto",
       "workflows": [],
       "xColumns": null,
       "yColumns": null
      }
     },
     "output_type": "display_data"
    }
   ],
   "source": [
    "display(time_df.groupBy('year').count().sort('year'))"
   ]
  },
  {
   "cell_type": "code",
   "execution_count": 0,
   "metadata": {
    "application/vnd.databricks.v1+cell": {
     "cellMetadata": {
      "byteLimit": 2048000,
      "rowLimit": 10000
     },
     "inputWidgets": {},
     "nuid": "a21a6441-06a9-4afc-87de-15a1dcab84e2",
     "showTitle": false,
     "title": ""
    }
   },
   "outputs": [
    {
     "output_type": "display_data",
     "data": {
      "text/html": [
       "<style scoped>\n",
       "  .table-result-container {\n",
       "    max-height: 300px;\n",
       "    overflow: auto;\n",
       "  }\n",
       "  table, th, td {\n",
       "    border: 1px solid black;\n",
       "    border-collapse: collapse;\n",
       "  }\n",
       "  th, td {\n",
       "    padding: 5px;\n",
       "  }\n",
       "  th {\n",
       "    text-align: left;\n",
       "  }\n",
       "</style><div class='table-result-container'><table class='table-result'><thead style='background-color: white'><tr><th>month</th><th>count</th></tr></thead><tbody><tr><td>null</td><td>222</td></tr><tr><td>1</td><td>3868</td></tr><tr><td>2</td><td>4214</td></tr><tr><td>3</td><td>4697</td></tr><tr><td>4</td><td>4461</td></tr><tr><td>5</td><td>4719</td></tr><tr><td>6</td><td>4206</td></tr><tr><td>7</td><td>4754</td></tr><tr><td>8</td><td>5064</td></tr><tr><td>9</td><td>5166</td></tr><tr><td>10</td><td>5540</td></tr><tr><td>11</td><td>4548</td></tr><tr><td>12</td><td>4232</td></tr></tbody></table></div>"
      ]
     },
     "metadata": {
      "application/vnd.databricks.v1+output": {
       "addedWidgets": {},
       "aggData": [],
       "aggError": "",
       "aggOverflow": false,
       "aggSchema": [],
       "aggSeriesLimitReached": false,
       "aggType": "",
       "arguments": {},
       "columnCustomDisplayInfos": {},
       "data": [
        [
         null,
         222
        ],
        [
         1,
         3868
        ],
        [
         2,
         4214
        ],
        [
         3,
         4697
        ],
        [
         4,
         4461
        ],
        [
         5,
         4719
        ],
        [
         6,
         4206
        ],
        [
         7,
         4754
        ],
        [
         8,
         5064
        ],
        [
         9,
         5166
        ],
        [
         10,
         5540
        ],
        [
         11,
         4548
        ],
        [
         12,
         4232
        ]
       ],
       "datasetInfos": [],
       "dbfsResultPath": null,
       "isJsonSchema": true,
       "metadata": {},
       "overflow": false,
       "plotOptions": {
        "customPlotOptions": {},
        "displayType": "table",
        "pivotAggregation": null,
        "pivotColumns": null,
        "xColumns": null,
        "yColumns": null
       },
       "removedWidgets": [],
       "schema": [
        {
         "metadata": "{}",
         "name": "month",
         "type": "\"integer\""
        },
        {
         "metadata": "{}",
         "name": "count",
         "type": "\"long\""
        }
       ],
       "type": "table"
      }
     },
     "output_type": "display_data"
    },
    {
     "output_type": "display_data",
     "data": {
      "text/plain": [
       "Databricks visualization. Run in Databricks to view."
      ]
     },
     "metadata": {
      "application/vnd.databricks.v1.subcommand+json": {
       "baseErrorDetails": null,
       "bindings": {},
       "collapsed": false,
       "command": "%python\n__backend_agg_display_orig = display\n__backend_agg_dfs = []\ndef __backend_agg_display_new(df):\n    __backend_agg_df_modules = [\"pandas.core.frame\", \"databricks.koalas.frame\", \"pyspark.sql.dataframe\", \"pyspark.pandas.frame\", \"pyspark.sql.connect.dataframe\"]\n    if (type(df).__module__ in __backend_agg_df_modules and type(df).__name__ == 'DataFrame') or isinstance(df, list):\n        __backend_agg_dfs.append(df)\n\ndisplay = __backend_agg_display_new\n\ndef __backend_agg_user_code_fn():\n    import base64\n    exec(base64.standard_b64decode(\"ZGlzcGxheSh0aW1lX2RmLmdyb3VwQnkoJ21vbnRoJykuY291bnQoKS5zb3J0KCdtb250aCcpKQ==\").decode())\n\ntry:\n    # run user code\n    __backend_agg_user_code_fn()\n\n    #reset display function\n    display = __backend_agg_display_orig\n\n    if len(__backend_agg_dfs) > 0:\n        # create a temp view\n        if type(__backend_agg_dfs[0]).__module__ == \"databricks.koalas.frame\":\n            # koalas dataframe\n            __backend_agg_dfs[0].to_spark().createOrReplaceTempView(\"DatabricksViewa3b462e\")\n        elif type(__backend_agg_dfs[0]).__module__ == \"pandas.core.frame\" or isinstance(__backend_agg_dfs[0], list):\n            # pandas dataframe\n            spark.createDataFrame(__backend_agg_dfs[0]).createOrReplaceTempView(\"DatabricksViewa3b462e\")\n        else:\n            __backend_agg_dfs[0].createOrReplaceTempView(\"DatabricksViewa3b462e\")\n        #run backend agg\n        display(spark.sql(\"\"\"WITH q AS (select * from DatabricksViewa3b462e) SELECT `month`,SUM(`count`) `column_be2441344`,AVG(`month`) `column_be2441348` FROM q GROUP BY `month`\"\"\"))\n    else:\n        displayHTML(\"dataframe no longer exists. If you're using dataframe.display(), use display(dataframe) instead.\")\n\n\nfinally:\n    spark.sql(\"drop view if exists DatabricksViewa3b462e\")\n    display = __backend_agg_display_orig\n    del __backend_agg_display_new\n    del __backend_agg_display_orig\n    del __backend_agg_dfs\n    del __backend_agg_user_code_fn\n\n",
       "commandTitle": "Game releases distribution per month",
       "commandType": "auto",
       "commandVersion": 0,
       "commentThread": [],
       "commentsVisible": false,
       "contentSha256Hex": null,
       "customPlotOptions": {
        "redashChart": [
         {
          "key": "type",
          "value": "CHART"
         },
         {
          "key": "options",
          "value": {
           "alignYAxesAtZero": true,
           "coefficient": 1,
           "columnConfigurationMap": {
            "x": {
             "column": "month",
             "id": "column_be2441343"
            },
            "y": [
             {
              "column": "count",
              "id": "column_be2441344",
              "transform": "SUM"
             },
             {
              "column": "month",
              "id": "column_be2441348",
              "transform": "AVG"
             }
            ]
           },
           "dateTimeFormat": "DD/MM/YYYY HH:mm",
           "direction": {
            "type": "counterclockwise"
           },
           "error_y": {
            "type": "data",
            "visible": true
           },
           "globalSeriesType": "pie",
           "isAggregationOn": true,
           "legend": {
            "traceorder": "normal"
           },
           "missingValuesAsZero": false,
           "numberFormat": "0,0.[00000]",
           "percentFormat": "0[.]00%",
           "series": {
            "error_y": {
             "type": "data",
             "visible": true
            },
            "stacking": null
           },
           "seriesOptions": {
            "column_be2441344": {
             "name": "count",
             "type": "pie",
             "yAxis": 0
            },
            "column_be2441348": {
             "name": "count",
             "type": "pie",
             "yAxis": 0
            },
            "count": {
             "name": "count",
             "type": "pie",
             "yAxis": 0
            }
           },
           "showDataLabels": true,
           "sizemode": "diameter",
           "sortX": true,
           "sortY": true,
           "swappedAxes": false,
           "textFormat": "",
           "useAggregationsUi": true,
           "valuesOptions": {},
           "version": 2,
           "xAxis": {
            "labels": {
             "enabled": true
            },
            "type": "-"
           },
           "yAxis": [
            {
             "type": "-"
            },
            {
             "opposite": true,
             "type": "-"
            }
           ]
          }
         }
        ]
       },
       "datasetPreviewNameToCmdIdMap": {},
       "diffDeletes": [],
       "diffInserts": [],
       "displayType": "redashChart",
       "error": null,
       "errorDetails": null,
       "errorSummary": null,
       "errorTraceType": null,
       "finishTime": 0,
       "globalVars": {},
       "guid": "",
       "height": "auto",
       "hideCommandCode": false,
       "hideCommandResult": false,
       "iPythonMetadata": null,
       "inputWidgets": {},
       "isLockedInExamMode": false,
       "latestUser": "a user",
       "latestUserId": null,
       "listResultMetadata": null,
       "metadata": {
        "byteLimit": 2048000,
        "rowLimit": 10000
       },
       "nuid": "f7b62c2c-97a1-440d-86aa-ca695e1b37ad",
       "origId": 0,
       "parentHierarchy": [],
       "pivotAggregation": null,
       "pivotColumns": null,
       "position": 21.0,
       "resultDbfsErrorMessage": null,
       "resultDbfsStatus": "INLINED_IN_TREE",
       "results": null,
       "showCommandTitle": false,
       "startTime": 0,
       "state": "finished",
       "streamStates": {},
       "subcommandOptions": {
        "queryPlan": {
         "groups": [
          {
           "column": "month",
           "type": "column"
          }
         ],
         "selects": [
          {
           "column": "month",
           "type": "column"
          },
          {
           "alias": "column_be2441344",
           "args": [
            {
             "column": "count",
             "type": "column"
            }
           ],
           "function": "SUM",
           "type": "function"
          },
          {
           "alias": "column_be2441348",
           "args": [
            {
             "column": "month",
             "type": "column"
            }
           ],
           "function": "AVG",
           "type": "function"
          }
         ]
        }
       },
       "submitTime": 0,
       "subtype": "tableResultSubCmd.visualization",
       "tableResultIndex": 0,
       "useConsistentColors": false,
       "version": "CommandV1",
       "width": "auto",
       "workflows": [],
       "xColumns": null,
       "yColumns": null
      }
     },
     "output_type": "display_data"
    },
    {
     "output_type": "display_data",
     "data": {
      "text/plain": [
       "Databricks visualization. Run in Databricks to view."
      ]
     },
     "metadata": {
      "application/vnd.databricks.v1.subcommand+json": {
       "baseErrorDetails": null,
       "bindings": {},
       "collapsed": false,
       "command": "%python\n__backend_agg_display_orig = display\n__backend_agg_dfs = []\ndef __backend_agg_display_new(df):\n    __backend_agg_df_modules = [\"pandas.core.frame\", \"databricks.koalas.frame\", \"pyspark.sql.dataframe\", \"pyspark.pandas.frame\", \"pyspark.sql.connect.dataframe\"]\n    if (type(df).__module__ in __backend_agg_df_modules and type(df).__name__ == 'DataFrame') or isinstance(df, list):\n        __backend_agg_dfs.append(df)\n\ndisplay = __backend_agg_display_new\n\ndef __backend_agg_user_code_fn():\n    import base64\n    exec(base64.standard_b64decode(\"ZGlzcGxheSh0aW1lX2RmLmdyb3VwQnkoJ21vbnRoJykuY291bnQoKS5zb3J0KCdtb250aCcpKQ==\").decode())\n\ntry:\n    # run user code\n    __backend_agg_user_code_fn()\n\n    #reset display function\n    display = __backend_agg_display_orig\n\n    if len(__backend_agg_dfs) > 0:\n        # create a temp view\n        if type(__backend_agg_dfs[0]).__module__ == \"databricks.koalas.frame\":\n            # koalas dataframe\n            __backend_agg_dfs[0].to_spark().createOrReplaceTempView(\"DatabricksViewcd6fd70\")\n        elif type(__backend_agg_dfs[0]).__module__ == \"pandas.core.frame\" or isinstance(__backend_agg_dfs[0], list):\n            # pandas dataframe\n            spark.createDataFrame(__backend_agg_dfs[0]).createOrReplaceTempView(\"DatabricksViewcd6fd70\")\n        else:\n            __backend_agg_dfs[0].createOrReplaceTempView(\"DatabricksViewcd6fd70\")\n        #run backend agg\n        display(spark.sql(\"\"\"WITH q AS (select * from DatabricksViewcd6fd70) SELECT `month`,SUM(`count`) `column_be24413413` FROM q GROUP BY `month`\"\"\"))\n    else:\n        displayHTML(\"dataframe no longer exists. If you're using dataframe.display(), use display(dataframe) instead.\")\n\n\nfinally:\n    spark.sql(\"drop view if exists DatabricksViewcd6fd70\")\n    display = __backend_agg_display_orig\n    del __backend_agg_display_new\n    del __backend_agg_display_orig\n    del __backend_agg_dfs\n    del __backend_agg_user_code_fn\n\n",
       "commandTitle": "# of games released per month",
       "commandType": "auto",
       "commandVersion": 0,
       "commentThread": [],
       "commentsVisible": false,
       "contentSha256Hex": null,
       "customPlotOptions": {
        "redashChart": [
         {
          "key": "type",
          "value": "CHART"
         },
         {
          "key": "options",
          "value": {
           "alignYAxesAtZero": true,
           "coefficient": 1,
           "columnConfigurationMap": {
            "x": {
             "column": "month",
             "id": "column_be24413412"
            },
            "y": [
             {
              "column": "count",
              "id": "column_be24413413",
              "transform": "SUM"
             }
            ]
           },
           "dateTimeFormat": "DD/MM/YYYY HH:mm",
           "direction": {
            "type": "counterclockwise"
           },
           "error_y": {
            "type": "data",
            "visible": true
           },
           "globalSeriesType": "column",
           "isAggregationOn": true,
           "legend": {
            "traceorder": "normal"
           },
           "missingValuesAsZero": true,
           "numberFormat": "0,0.[00000]",
           "percentFormat": "0[.]00%",
           "series": {
            "error_y": {
             "type": "data",
             "visible": true
            },
            "stacking": null
           },
           "seriesOptions": {
            "column_be24413413": {
             "name": "count",
             "type": "column",
             "yAxis": 0
            },
            "count": {
             "name": "count",
             "type": "column",
             "yAxis": 0
            }
           },
           "showDataLabels": false,
           "sizemode": "diameter",
           "sortX": true,
           "sortY": true,
           "swappedAxes": false,
           "textFormat": "",
           "useAggregationsUi": true,
           "valuesOptions": {},
           "version": 2,
           "xAxis": {
            "labels": {
             "enabled": true
            },
            "type": "-"
           },
           "yAxis": [
            {
             "type": "-"
            },
            {
             "opposite": true,
             "type": "-"
            }
           ]
          }
         }
        ]
       },
       "datasetPreviewNameToCmdIdMap": {},
       "diffDeletes": [],
       "diffInserts": [],
       "displayType": "redashChart",
       "error": null,
       "errorDetails": null,
       "errorSummary": null,
       "errorTraceType": null,
       "finishTime": 0,
       "globalVars": {},
       "guid": "",
       "height": "auto",
       "hideCommandCode": false,
       "hideCommandResult": false,
       "iPythonMetadata": null,
       "inputWidgets": {},
       "isLockedInExamMode": false,
       "latestUser": "a user",
       "latestUserId": null,
       "listResultMetadata": null,
       "metadata": {
        "byteLimit": 2048000,
        "rowLimit": 10000
       },
       "nuid": "c5667eaa-6915-4365-99eb-f2c6ac5ca832",
       "origId": 0,
       "parentHierarchy": [],
       "pivotAggregation": null,
       "pivotColumns": null,
       "position": 22.0,
       "resultDbfsErrorMessage": null,
       "resultDbfsStatus": "INLINED_IN_TREE",
       "results": null,
       "showCommandTitle": false,
       "startTime": 0,
       "state": "finished",
       "streamStates": {},
       "subcommandOptions": {
        "queryPlan": {
         "groups": [
          {
           "column": "month",
           "type": "column"
          }
         ],
         "selects": [
          {
           "column": "month",
           "type": "column"
          },
          {
           "alias": "column_be24413413",
           "args": [
            {
             "column": "count",
             "type": "column"
            }
           ],
           "function": "SUM",
           "type": "function"
          }
         ]
        }
       },
       "submitTime": 0,
       "subtype": "tableResultSubCmd.visualization",
       "tableResultIndex": 0,
       "useConsistentColors": false,
       "version": "CommandV1",
       "width": "auto",
       "workflows": [],
       "xColumns": null,
       "yColumns": null
      }
     },
     "output_type": "display_data"
    }
   ],
   "source": [
    "display(time_df.groupBy('month').count().sort('month'))"
   ]
  },
  {
   "cell_type": "markdown",
   "metadata": {
    "application/vnd.databricks.v1+cell": {
     "cellMetadata": {
      "byteLimit": 2048000,
      "rowLimit": 10000
     },
     "inputWidgets": {},
     "nuid": "ee985f8d-f83e-4b38-8e3d-68d8392a6cf4",
     "showTitle": false,
     "title": ""
    }
   },
   "source": [
    "À la vue de ces grpahes le mois qui compte le plus de sorties de jeux est le mois d'octobre. Aucun \"effet Noël\" n'est apparent car les mois de novembre, décembre et janvier semblent plus calmes que la moyenne. Ceci dit il faudrait consulter le département Marketing : il est possible que le mois d'Octobre soit préféré (par rapport à Noël), le temps qu'un jeu accumule suffisamment de bonne réputation, de recommandations ou de joueurs avant Noël."
   ]
  },
  {
   "cell_type": "code",
   "execution_count": 0,
   "metadata": {
    "application/vnd.databricks.v1+cell": {
     "cellMetadata": {
      "byteLimit": 2048000,
      "rowLimit": 10000
     },
     "inputWidgets": {},
     "nuid": "5c964e09-2f89-42c9-81ac-324fc5f203f4",
     "showTitle": false,
     "title": ""
    }
   },
   "outputs": [
    {
     "output_type": "display_data",
     "data": {
      "text/html": [
       "<style scoped>\n",
       "  .table-result-container {\n",
       "    max-height: 300px;\n",
       "    overflow: auto;\n",
       "  }\n",
       "  table, th, td {\n",
       "    border: 1px solid black;\n",
       "    border-collapse: collapse;\n",
       "  }\n",
       "  th, td {\n",
       "    padding: 5px;\n",
       "  }\n",
       "  th {\n",
       "    text-align: left;\n",
       "  }\n",
       "</style><div class='table-result-container'><table class='table-result'><thead style='background-color: white'><tr><th>month</th><th>year</th><th>count</th></tr></thead><tbody><tr><td>3</td><td>2019</td><td>559</td></tr><tr><td>3</td><td>2020</td><td>564</td></tr><tr><td>3</td><td>2021</td><td>824</td></tr><tr><td>4</td><td>2019</td><td>603</td></tr><tr><td>4</td><td>2020</td><td>630</td></tr><tr><td>4</td><td>2021</td><td>704</td></tr><tr><td>5</td><td>2019</td><td>645</td></tr><tr><td>5</td><td>2020</td><td>693</td></tr><tr><td>5</td><td>2021</td><td>661</td></tr><tr><td>6</td><td>2019</td><td>483</td></tr><tr><td>6</td><td>2020</td><td>633</td></tr><tr><td>6</td><td>2021</td><td>689</td></tr></tbody></table></div>"
      ]
     },
     "metadata": {
      "application/vnd.databricks.v1+output": {
       "addedWidgets": {},
       "aggData": [],
       "aggError": "",
       "aggOverflow": false,
       "aggSchema": [],
       "aggSeriesLimitReached": false,
       "aggType": "",
       "arguments": {},
       "columnCustomDisplayInfos": {},
       "data": [
        [
         3,
         2019,
         559
        ],
        [
         3,
         2020,
         564
        ],
        [
         3,
         2021,
         824
        ],
        [
         4,
         2019,
         603
        ],
        [
         4,
         2020,
         630
        ],
        [
         4,
         2021,
         704
        ],
        [
         5,
         2019,
         645
        ],
        [
         5,
         2020,
         693
        ],
        [
         5,
         2021,
         661
        ],
        [
         6,
         2019,
         483
        ],
        [
         6,
         2020,
         633
        ],
        [
         6,
         2021,
         689
        ]
       ],
       "datasetInfos": [],
       "dbfsResultPath": null,
       "isJsonSchema": true,
       "metadata": {},
       "overflow": false,
       "plotOptions": {
        "customPlotOptions": {},
        "displayType": "table",
        "pivotAggregation": null,
        "pivotColumns": null,
        "xColumns": null,
        "yColumns": null
       },
       "removedWidgets": [],
       "schema": [
        {
         "metadata": "{}",
         "name": "month",
         "type": "\"integer\""
        },
        {
         "metadata": "{}",
         "name": "year",
         "type": "\"integer\""
        },
        {
         "metadata": "{}",
         "name": "count",
         "type": "\"long\""
        }
       ],
       "type": "table"
      }
     },
     "output_type": "display_data"
    }
   ],
   "source": [
    "display(time_df.filter((time_df.month > 2) & (time_df.month < 7) & (time_df.year >= 2019) & (time_df.year <= 2021)).groupBy('month', 'year').count().sort('month', 'year'))"
   ]
  },
  {
   "cell_type": "markdown",
   "metadata": {
    "application/vnd.databricks.v1+cell": {
     "cellMetadata": {
      "byteLimit": 2048000,
      "rowLimit": 10000
     },
     "inputWidgets": {},
     "nuid": "9bc35fea-70cf-4d45-b273-24384c3eba92",
     "showTitle": false,
     "title": ""
    }
   },
   "source": [
    "À la vue de ces chiffres il ne semble pas que le Covid ait eu une quelconque importance, hormis peut-être le mois de mai. Ceci peut potentiellement s'expliquer par le fait que les cycles de développement de jeux vidéo sont très longs et que les dates de sortie sont anticipées des mois voire des années à l'avance. Les éditeurs n'ont donc probablement pas eu le temps de réagir pour sortir plus de jeux, d'autant plus que leurs équipes étaient elles aussi affectées par la situation. On ne note pas non plus de baisse significative pour les mêmes raisons (les jeux étant sortis sur cette période étant prêts depuis longtemps).\n",
    "\n",
    "Il serait intéressant de regarder l'impact du Covid sur les \"concurrent users\" mais ces données ne sont pas disponibles dans ce dataset."
   ]
  },
  {
   "cell_type": "markdown",
   "metadata": {
    "application/vnd.databricks.v1+cell": {
     "cellMetadata": {
      "byteLimit": 2048000,
      "rowLimit": 10000
     },
     "inputWidgets": {},
     "nuid": "a1f337d5-1199-405e-836d-d20dddb463b8",
     "showTitle": false,
     "title": ""
    }
   },
   "source": [
    "### Question 4 : Comment les prix des jeux sont-ils distribués et qu'en est-il des réductions de prix ?"
   ]
  },
  {
   "cell_type": "code",
   "execution_count": 0,
   "metadata": {
    "application/vnd.databricks.v1+cell": {
     "cellMetadata": {
      "byteLimit": 2048000,
      "rowLimit": 10000
     },
     "inputWidgets": {},
     "nuid": "37367d21-60bb-4bce-b74a-6abb93e368e5",
     "showTitle": false,
     "title": ""
    }
   },
   "outputs": [
    {
     "output_type": "stream",
     "name": "stdout",
     "output_type": "stream",
     "text": [
      "Out[27]: 385"
     ]
    }
   ],
   "source": [
    "flat_df.select('initialprice').distinct().count()\n",
    "flat_df.select('price').distinct().count()"
   ]
  },
  {
   "cell_type": "code",
   "execution_count": 0,
   "metadata": {
    "application/vnd.databricks.v1+cell": {
     "cellMetadata": {
      "byteLimit": 2048000,
      "rowLimit": 10000
     },
     "inputWidgets": {},
     "nuid": "50e03af0-7ec2-4e16-b5d6-d167079176d5",
     "showTitle": false,
     "title": ""
    }
   },
   "outputs": [
    {
     "output_type": "display_data",
     "data": {
      "text/html": [
       "<style scoped>\n",
       "  .table-result-container {\n",
       "    max-height: 300px;\n",
       "    overflow: auto;\n",
       "  }\n",
       "  table, th, td {\n",
       "    border: 1px solid black;\n",
       "    border-collapse: collapse;\n",
       "  }\n",
       "  th, td {\n",
       "    padding: 5px;\n",
       "  }\n",
       "  th {\n",
       "    text-align: left;\n",
       "  }\n",
       "</style><div class='table-result-container'><table class='table-result'><thead style='background-color: white'><tr><th>summary</th><th>initialprice</th></tr></thead><tbody><tr><td>count</td><td>55691</td></tr><tr><td>mean</td><td>797.5663033524268</td></tr><tr><td>stddev</td><td>1104.762477841338</td></tr><tr><td>min</td><td>0</td></tr><tr><td>max</td><td>9999</td></tr></tbody></table></div>"
      ]
     },
     "metadata": {
      "application/vnd.databricks.v1+output": {
       "addedWidgets": {},
       "aggData": [],
       "aggError": "",
       "aggOverflow": false,
       "aggSchema": [],
       "aggSeriesLimitReached": false,
       "aggType": "",
       "arguments": {},
       "columnCustomDisplayInfos": {},
       "data": [
        [
         "count",
         "55691"
        ],
        [
         "mean",
         "797.5663033524268"
        ],
        [
         "stddev",
         "1104.762477841338"
        ],
        [
         "min",
         "0"
        ],
        [
         "max",
         "9999"
        ]
       ],
       "datasetInfos": [],
       "dbfsResultPath": null,
       "isJsonSchema": true,
       "metadata": {},
       "overflow": false,
       "plotOptions": {
        "customPlotOptions": {},
        "displayType": "table",
        "pivotAggregation": null,
        "pivotColumns": null,
        "xColumns": null,
        "yColumns": null
       },
       "removedWidgets": [],
       "schema": [
        {
         "metadata": "{}",
         "name": "summary",
         "type": "\"string\""
        },
        {
         "metadata": "{}",
         "name": "initialprice",
         "type": "\"string\""
        }
       ],
       "type": "table"
      }
     },
     "output_type": "display_data"
    },
    {
     "output_type": "display_data",
     "data": {
      "text/html": [
       "<style scoped>\n",
       "  .table-result-container {\n",
       "    max-height: 300px;\n",
       "    overflow: auto;\n",
       "  }\n",
       "  table, th, td {\n",
       "    border: 1px solid black;\n",
       "    border-collapse: collapse;\n",
       "  }\n",
       "  th, td {\n",
       "    padding: 5px;\n",
       "  }\n",
       "  th {\n",
       "    text-align: left;\n",
       "  }\n",
       "</style><div class='table-result-container'><table class='table-result'><thead style='background-color: white'><tr><th>summary</th><th>price</th></tr></thead><tbody><tr><td>count</td><td>55691</td></tr><tr><td>mean</td><td>773.2849832109317</td></tr><tr><td>stddev</td><td>1093.13458272345</td></tr><tr><td>min</td><td>0</td></tr><tr><td>max</td><td>9999</td></tr></tbody></table></div>"
      ]
     },
     "metadata": {
      "application/vnd.databricks.v1+output": {
       "addedWidgets": {},
       "aggData": [],
       "aggError": "",
       "aggOverflow": false,
       "aggSchema": [],
       "aggSeriesLimitReached": false,
       "aggType": "",
       "arguments": {},
       "columnCustomDisplayInfos": {},
       "data": [
        [
         "count",
         "55691"
        ],
        [
         "mean",
         "773.2849832109317"
        ],
        [
         "stddev",
         "1093.13458272345"
        ],
        [
         "min",
         "0"
        ],
        [
         "max",
         "9999"
        ]
       ],
       "datasetInfos": [],
       "dbfsResultPath": null,
       "isJsonSchema": true,
       "metadata": {},
       "overflow": false,
       "plotOptions": {
        "customPlotOptions": {},
        "displayType": "table",
        "pivotAggregation": null,
        "pivotColumns": null,
        "xColumns": null,
        "yColumns": null
       },
       "removedWidgets": [],
       "schema": [
        {
         "metadata": "{}",
         "name": "summary",
         "type": "\"string\""
        },
        {
         "metadata": "{}",
         "name": "price",
         "type": "\"string\""
        }
       ],
       "type": "table"
      }
     },
     "output_type": "display_data"
    }
   ],
   "source": [
    "display(flat_df.select('initialprice').describe())\n",
    "display(flat_df.select('price').describe())"
   ]
  },
  {
   "cell_type": "code",
   "execution_count": 0,
   "metadata": {
    "application/vnd.databricks.v1+cell": {
     "cellMetadata": {
      "byteLimit": 2048000,
      "rowLimit": 10000
     },
     "inputWidgets": {},
     "nuid": "9e97dd18-f310-4c37-b1ed-86b0051ad369",
     "showTitle": false,
     "title": ""
    }
   },
   "outputs": [
    {
     "output_type": "display_data",
     "data": {
      "text/html": [
       "<style scoped>\n",
       "  .table-result-container {\n",
       "    max-height: 300px;\n",
       "    overflow: auto;\n",
       "  }\n",
       "  table, th, td {\n",
       "    border: 1px solid black;\n",
       "    border-collapse: collapse;\n",
       "  }\n",
       "  th, td {\n",
       "    padding: 5px;\n",
       "  }\n",
       "  th {\n",
       "    text-align: left;\n",
       "  }\n",
       "</style><div class='table-result-container'><table class='table-result'><thead style='background-color: white'><tr><th>initialprice</th></tr></thead><tbody><tr><td>9999</td></tr><tr><td>9999</td></tr><tr><td>9999</td></tr><tr><td>9999</td></tr><tr><td>9999</td></tr></tbody></table></div>"
      ]
     },
     "metadata": {
      "application/vnd.databricks.v1+output": {
       "addedWidgets": {},
       "aggData": [],
       "aggError": "",
       "aggOverflow": false,
       "aggSchema": [],
       "aggSeriesLimitReached": false,
       "aggType": "",
       "arguments": {},
       "columnCustomDisplayInfos": {},
       "data": [
        [
         "9999"
        ],
        [
         "9999"
        ],
        [
         "9999"
        ],
        [
         "9999"
        ],
        [
         "9999"
        ]
       ],
       "datasetInfos": [],
       "dbfsResultPath": null,
       "isJsonSchema": true,
       "metadata": {},
       "overflow": false,
       "plotOptions": {
        "customPlotOptions": {},
        "displayType": "table",
        "pivotAggregation": null,
        "pivotColumns": null,
        "xColumns": null,
        "yColumns": null
       },
       "removedWidgets": [],
       "schema": [
        {
         "metadata": "{}",
         "name": "initialprice",
         "type": "\"string\""
        }
       ],
       "type": "table"
      }
     },
     "output_type": "display_data"
    }
   ],
   "source": [
    "display(flat_df.select('initialprice').sort('initialprice', ascending=False).limit(5))"
   ]
  },
  {
   "cell_type": "markdown",
   "metadata": {
    "application/vnd.databricks.v1+cell": {
     "cellMetadata": {
      "byteLimit": 2048000,
      "rowLimit": 10000
     },
     "inputWidgets": {},
     "nuid": "024282c2-6282-4bfa-a0df-d0299edb9ae0",
     "showTitle": false,
     "title": ""
    }
   },
   "source": [
    "Nous pouvons constater que :\n",
    "- il y a trop de prix différents (203) pour pouvoir faire une analyse pertinente à ce stade\n",
    "- les prix sont en centimes et non en euros\n",
    "- les prix vont de 0 à 99.99 euros avec une moyenne de 7.98 et un écart-type de 11.05\n",
    "\n",
    "Nous allons donc procéder à 2 opérations pour rendre ces données exploitables :\n",
    "- passer les prix en euros\n",
    "- les répartir en classes\n",
    "\n",
    "Ces 2 transformations seront aussi effectuées sur la colonne \"price\" qui contient le prix actuel (après remise)."
   ]
  },
  {
   "cell_type": "code",
   "execution_count": 0,
   "metadata": {
    "application/vnd.databricks.v1+cell": {
     "cellMetadata": {
      "byteLimit": 2048000,
      "rowLimit": 10000
     },
     "inputWidgets": {},
     "nuid": "9b222e16-d462-48f1-bb49-d2f8646cd8d3",
     "showTitle": false,
     "title": ""
    }
   },
   "outputs": [
    {
     "output_type": "display_data",
     "data": {
      "text/html": [
       "<style scoped>\n",
       "  .table-result-container {\n",
       "    max-height: 300px;\n",
       "    overflow: auto;\n",
       "  }\n",
       "  table, th, td {\n",
       "    border: 1px solid black;\n",
       "    border-collapse: collapse;\n",
       "  }\n",
       "  th, td {\n",
       "    padding: 5px;\n",
       "  }\n",
       "  th {\n",
       "    text-align: left;\n",
       "  }\n",
       "</style><div class='table-result-container'><table class='table-result'><thead style='background-color: white'><tr><th>initialprice</th></tr></thead><tbody><tr><td>999.0</td></tr><tr><td>299.9</td></tr><tr><td>269.99</td></tr><tr><td>249.0</td></tr><tr><td>199.99</td></tr></tbody></table></div>"
      ]
     },
     "metadata": {
      "application/vnd.databricks.v1+output": {
       "addedWidgets": {},
       "aggData": [],
       "aggError": "",
       "aggOverflow": false,
       "aggSchema": [],
       "aggSeriesLimitReached": false,
       "aggType": "",
       "arguments": {},
       "columnCustomDisplayInfos": {},
       "data": [
        [
         999.0
        ],
        [
         299.9
        ],
        [
         269.99
        ],
        [
         249.0
        ],
        [
         199.99
        ]
       ],
       "datasetInfos": [],
       "dbfsResultPath": null,
       "isJsonSchema": true,
       "metadata": {},
       "overflow": false,
       "plotOptions": {
        "customPlotOptions": {},
        "displayType": "table",
        "pivotAggregation": null,
        "pivotColumns": null,
        "xColumns": null,
        "yColumns": null
       },
       "removedWidgets": [],
       "schema": [
        {
         "metadata": "{}",
         "name": "initialprice",
         "type": "\"double\""
        }
       ],
       "type": "table"
      }
     },
     "output_type": "display_data"
    },
    {
     "output_type": "display_data",
     "data": {
      "text/html": [
       "<style scoped>\n",
       "  .table-result-container {\n",
       "    max-height: 300px;\n",
       "    overflow: auto;\n",
       "  }\n",
       "  table, th, td {\n",
       "    border: 1px solid black;\n",
       "    border-collapse: collapse;\n",
       "  }\n",
       "  th, td {\n",
       "    padding: 5px;\n",
       "  }\n",
       "  th {\n",
       "    text-align: left;\n",
       "  }\n",
       "</style><div class='table-result-container'><table class='table-result'><thead style='background-color: white'><tr><th>price</th></tr></thead><tbody><tr><td>999.0</td></tr><tr><td>299.9</td></tr><tr><td>269.99</td></tr><tr><td>249.0</td></tr><tr><td>199.99</td></tr></tbody></table></div>"
      ]
     },
     "metadata": {
      "application/vnd.databricks.v1+output": {
       "addedWidgets": {},
       "aggData": [],
       "aggError": "",
       "aggOverflow": false,
       "aggSchema": [],
       "aggSeriesLimitReached": false,
       "aggType": "",
       "arguments": {},
       "columnCustomDisplayInfos": {},
       "data": [
        [
         999.0
        ],
        [
         299.9
        ],
        [
         269.99
        ],
        [
         249.0
        ],
        [
         199.99
        ]
       ],
       "datasetInfos": [],
       "dbfsResultPath": null,
       "isJsonSchema": true,
       "metadata": {},
       "overflow": false,
       "plotOptions": {
        "customPlotOptions": {},
        "displayType": "table",
        "pivotAggregation": null,
        "pivotColumns": null,
        "xColumns": null,
        "yColumns": null
       },
       "removedWidgets": [],
       "schema": [
        {
         "metadata": "{}",
         "name": "price",
         "type": "\"double\""
        }
       ],
       "type": "table"
      }
     },
     "output_type": "display_data"
    }
   ],
   "source": [
    "#display(flat_df.limit(5))\n",
    "\n",
    "from pyspark.sql.types import FloatType\n",
    "\n",
    "price_df = flat_df.withColumn('initialprice', flat_df.initialprice.cast(FloatType()) / 100)\\\n",
    "                  .withColumn('price', flat_df.price / 100)\n",
    "\n",
    "display(price_df.select('initialprice').sort('initialprice', ascending=False).limit(5))\n",
    "display(price_df.select('price').sort('price', ascending=False).limit(5))"
   ]
  },
  {
   "cell_type": "code",
   "execution_count": 0,
   "metadata": {
    "application/vnd.databricks.v1+cell": {
     "cellMetadata": {
      "byteLimit": 2048000,
      "rowLimit": 10000
     },
     "inputWidgets": {},
     "nuid": "9abdecd6-7da5-4e12-826d-b8798e89904f",
     "showTitle": false,
     "title": ""
    }
   },
   "outputs": [
    {
     "output_type": "display_data",
     "data": {
      "text/html": [
       "<style scoped>\n",
       "  .table-result-container {\n",
       "    max-height: 300px;\n",
       "    overflow: auto;\n",
       "  }\n",
       "  table, th, td {\n",
       "    border: 1px solid black;\n",
       "    border-collapse: collapse;\n",
       "  }\n",
       "  th, td {\n",
       "    padding: 5px;\n",
       "  }\n",
       "  th {\n",
       "    text-align: left;\n",
       "  }\n",
       "</style><div class='table-result-container'><table class='table-result'><thead style='background-color: white'><tr><th>initialprice</th></tr></thead><tbody><tr><td>999.0</td></tr><tr><td>299.9</td></tr><tr><td>269.99</td></tr><tr><td>249.0</td></tr><tr><td>199.99</td></tr></tbody></table></div>"
      ]
     },
     "metadata": {
      "application/vnd.databricks.v1+output": {
       "addedWidgets": {},
       "aggData": [],
       "aggError": "",
       "aggOverflow": false,
       "aggSchema": [],
       "aggSeriesLimitReached": false,
       "aggType": "",
       "arguments": {},
       "columnCustomDisplayInfos": {},
       "data": [
        [
         999.0
        ],
        [
         299.9
        ],
        [
         269.99
        ],
        [
         249.0
        ],
        [
         199.99
        ]
       ],
       "datasetInfos": [],
       "dbfsResultPath": null,
       "isJsonSchema": true,
       "metadata": {},
       "overflow": false,
       "plotOptions": {
        "customPlotOptions": {},
        "displayType": "table",
        "pivotAggregation": null,
        "pivotColumns": null,
        "xColumns": null,
        "yColumns": null
       },
       "removedWidgets": [],
       "schema": [
        {
         "metadata": "{}",
         "name": "initialprice",
         "type": "\"double\""
        }
       ],
       "type": "table"
      }
     },
     "output_type": "display_data"
    }
   ],
   "source": [
    "display(price_df.select('initialprice').sort('initialprice', ascending=False).limit(5))"
   ]
  },
  {
   "cell_type": "code",
   "execution_count": 0,
   "metadata": {
    "application/vnd.databricks.v1+cell": {
     "cellMetadata": {
      "byteLimit": 2048000,
      "rowLimit": 10000
     },
     "inputWidgets": {},
     "nuid": "76ff42eb-6358-4856-8ef8-587f2123af65",
     "showTitle": false,
     "title": ""
    }
   },
   "outputs": [
    {
     "output_type": "display_data",
     "data": {
      "text/html": [
       "<style scoped>\n",
       "  .ansiout {\n",
       "    display: block;\n",
       "    unicode-bidi: embed;\n",
       "    white-space: pre-wrap;\n",
       "    word-wrap: break-word;\n",
       "    word-break: break-all;\n",
       "    font-family: \"Menlo\", \"Monaco\", \"Consolas\", \"Ubuntu Mono\", \"Source Code Pro\", monospace;\n",
       "    font-size: 13px;\n",
       "    color: #555;\n",
       "    margin-left: 4px;\n",
       "    line-height: 19px;\n",
       "  }\n",
       "</style>\n",
       "org.apache.spark.SparkException: Job aborted due to stage failure: Task 0 in stage 89.0 failed 1 times, most recent failure: Lost task 0.0 in stage 89.0 (TID 266) (ip-10-172-249-71.us-west-2.compute.internal executor driver): org.apache.spark.SparkException: [FAILED_EXECUTE_UDF] Failed to execute user defined function (Bucketizer$$Lambda$8777/1520516075: (double) => double).\n",
       "\tat org.apache.spark.sql.errors.QueryExecutionErrors$.failedExecuteUserDefinedFunctionError(QueryExecutionErrors.scala:246)\n",
       "\tat org.apache.spark.sql.errors.QueryExecutionErrors.failedExecuteUserDefinedFunctionError(QueryExecutionErrors.scala)\n",
       "\tat org.apache.spark.sql.catalyst.expressions.GeneratedClass$GeneratedIteratorForCodegenStage1.project_doConsume_0$(Unknown Source)\n",
       "\tat org.apache.spark.sql.catalyst.expressions.GeneratedClass$GeneratedIteratorForCodegenStage1.processNext(Unknown Source)\n",
       "\tat org.apache.spark.sql.execution.BufferedRowIterator.hasNext(BufferedRowIterator.java:43)\n",
       "\tat org.apache.spark.sql.execution.WholeStageCodegenExec$$anon$1.hasNext(WholeStageCodegenExec.scala:761)\n",
       "\tat org.apache.spark.sql.execution.collect.UnsafeRowBatchUtils$.encodeUnsafeRows(UnsafeRowBatchUtils.scala:82)\n",
       "\tat org.apache.spark.sql.execution.collect.Collector.$anonfun$processFunc$1(Collector.scala:208)\n",
       "\tat org.apache.spark.scheduler.ResultTask.$anonfun$runTask$3(ResultTask.scala:75)\n",
       "\tat com.databricks.spark.util.ExecutorFrameProfiler$.record(ExecutorFrameProfiler.scala:110)\n",
       "\tat org.apache.spark.scheduler.ResultTask.$anonfun$runTask$1(ResultTask.scala:75)\n",
       "\tat com.databricks.spark.util.ExecutorFrameProfiler$.record(ExecutorFrameProfiler.scala:110)\n",
       "\tat org.apache.spark.scheduler.ResultTask.runTask(ResultTask.scala:55)\n",
       "\tat org.apache.spark.scheduler.Task.doRunTask(Task.scala:179)\n",
       "\tat org.apache.spark.scheduler.Task.$anonfun$run$5(Task.scala:142)\n",
       "\tat com.databricks.unity.EmptyHandle$.runWithAndClose(UCSHandle.scala:126)\n",
       "\tat org.apache.spark.scheduler.Task.$anonfun$run$1(Task.scala:142)\n",
       "\tat com.databricks.spark.util.ExecutorFrameProfiler$.record(ExecutorFrameProfiler.scala:110)\n",
       "\tat org.apache.spark.scheduler.Task.run(Task.scala:97)\n",
       "\tat org.apache.spark.executor.Executor$TaskRunner.$anonfun$run$13(Executor.scala:904)\n",
       "\tat org.apache.spark.util.Utils$.tryWithSafeFinally(Utils.scala:1740)\n",
       "\tat org.apache.spark.executor.Executor$TaskRunner.$anonfun$run$4(Executor.scala:907)\n",
       "\tat scala.runtime.java8.JFunction0$mcV$sp.apply(JFunction0$mcV$sp.java:23)\n",
       "\tat com.databricks.spark.util.ExecutorFrameProfiler$.record(ExecutorFrameProfiler.scala:110)\n",
       "\tat org.apache.spark.executor.Executor$TaskRunner.run(Executor.scala:761)\n",
       "\tat java.util.concurrent.ThreadPoolExecutor.runWorker(ThreadPoolExecutor.java:1149)\n",
       "\tat java.util.concurrent.ThreadPoolExecutor$Worker.run(ThreadPoolExecutor.java:624)\n",
       "\tat java.lang.Thread.run(Thread.java:750)\n",
       "Caused by: org.apache.spark.SparkException: Feature value 199.99 out of Bucketizer bounds [0.0, 100.0]. Check your features, or loosen the lower/upper bound constraints.\n",
       "\tat org.apache.spark.ml.feature.Bucketizer$.binarySearchForBuckets(Bucketizer.scala:296)\n",
       "\tat org.apache.spark.ml.feature.Bucketizer.$anonfun$transform$2(Bucketizer.scala:170)\n",
       "\tat scala.runtime.java8.JFunction1$mcDD$sp.apply(JFunction1$mcDD$sp.java:23)\n",
       "\t... 26 more\n",
       "\n",
       "Driver stacktrace:\n",
       "\tat org.apache.spark.scheduler.DAGScheduler.failJobAndIndependentStages(DAGScheduler.scala:3470)\n",
       "\tat org.apache.spark.scheduler.DAGScheduler.$anonfun$abortStage$2(DAGScheduler.scala:3392)\n",
       "\tat org.apache.spark.scheduler.DAGScheduler.$anonfun$abortStage$2$adapted(DAGScheduler.scala:3381)\n",
       "\tat scala.collection.mutable.ResizableArray.foreach(ResizableArray.scala:62)\n",
       "\tat scala.collection.mutable.ResizableArray.foreach$(ResizableArray.scala:55)\n",
       "\tat scala.collection.mutable.ArrayBuffer.foreach(ArrayBuffer.scala:49)\n",
       "\tat org.apache.spark.scheduler.DAGScheduler.abortStage(DAGScheduler.scala:3381)\n",
       "\tat org.apache.spark.scheduler.DAGScheduler.$anonfun$handleTaskSetFailed$1(DAGScheduler.scala:1490)\n",
       "\tat org.apache.spark.scheduler.DAGScheduler.$anonfun$handleTaskSetFailed$1$adapted(DAGScheduler.scala:1490)\n",
       "\tat scala.Option.foreach(Option.scala:407)\n",
       "\tat org.apache.spark.scheduler.DAGScheduler.handleTaskSetFailed(DAGScheduler.scala:1490)\n",
       "\tat org.apache.spark.scheduler.DAGSchedulerEventProcessLoop.doOnReceive(DAGScheduler.scala:3681)\n",
       "\tat org.apache.spark.scheduler.DAGSchedulerEventProcessLoop.onReceive(DAGScheduler.scala:3619)\n",
       "\tat org.apache.spark.scheduler.DAGSchedulerEventProcessLoop.onReceive(DAGScheduler.scala:3607)\n",
       "\tat org.apache.spark.util.EventLoop$$anon$1.run(EventLoop.scala:51)\n",
       "\tat org.apache.spark.scheduler.DAGScheduler.$anonfun$runJob$1(DAGScheduler.scala:1239)\n",
       "\tat scala.runtime.java8.JFunction0$mcV$sp.apply(JFunction0$mcV$sp.java:23)\n",
       "\tat com.databricks.spark.util.FrameProfiler$.record(FrameProfiler.scala:80)\n",
       "\tat org.apache.spark.scheduler.DAGScheduler.runJob(DAGScheduler.scala:1227)\n",
       "\tat org.apache.spark.SparkContext.runJobInternal(SparkContext.scala:2758)\n",
       "\tat org.apache.spark.sql.execution.collect.Collector.$anonfun$runSparkJobs$1(Collector.scala:349)\n",
       "\tat scala.runtime.java8.JFunction0$mcV$sp.apply(JFunction0$mcV$sp.java:23)\n",
       "\tat com.databricks.spark.util.FrameProfiler$.record(FrameProfiler.scala:80)\n",
       "\tat org.apache.spark.sql.execution.collect.Collector.runSparkJobs(Collector.scala:293)\n",
       "\tat org.apache.spark.sql.execution.collect.Collector.collect(Collector.scala:377)\n",
       "\tat org.apache.spark.sql.execution.collect.Collector$.collect(Collector.scala:128)\n",
       "\tat org.apache.spark.sql.execution.collect.Collector$.collect(Collector.scala:135)\n",
       "\tat org.apache.spark.sql.execution.qrc.InternalRowFormat$.collect(cachedSparkResults.scala:122)\n",
       "\tat org.apache.spark.sql.execution.qrc.InternalRowFormat$.collect(cachedSparkResults.scala:110)\n",
       "\tat org.apache.spark.sql.execution.qrc.InternalRowFormat$.collect(cachedSparkResults.scala:92)\n",
       "\tat org.apache.spark.sql.execution.qrc.ResultCacheManager.$anonfun$computeResult$1(ResultCacheManager.scala:537)\n",
       "\tat com.databricks.spark.util.FrameProfiler$.record(FrameProfiler.scala:80)\n",
       "\tat org.apache.spark.sql.execution.qrc.ResultCacheManager.collectResult$1(ResultCacheManager.scala:529)\n",
       "\tat org.apache.spark.sql.execution.qrc.ResultCacheManager.computeResult(ResultCacheManager.scala:549)\n",
       "\tat org.apache.spark.sql.execution.qrc.ResultCacheManager.$anonfun$getOrComputeResultInternal$1(ResultCacheManager.scala:402)\n",
       "\tat scala.Option.getOrElse(Option.scala:189)\n",
       "\tat org.apache.spark.sql.execution.qrc.ResultCacheManager.getOrComputeResultInternal(ResultCacheManager.scala:395)\n",
       "\tat org.apache.spark.sql.execution.qrc.ResultCacheManager.getOrComputeResult(ResultCacheManager.scala:289)\n",
       "\tat org.apache.spark.sql.execution.SparkPlan.$anonfun$executeCollectResult$1(SparkPlan.scala:506)\n",
       "\tat com.databricks.spark.util.FrameProfiler$.record(FrameProfiler.scala:80)\n",
       "\tat org.apache.spark.sql.execution.SparkPlan.executeCollectResult(SparkPlan.scala:503)\n",
       "\tat org.apache.spark.sql.Dataset.collectResult(Dataset.scala:3458)\n",
       "\tat org.apache.spark.sql.Dataset.$anonfun$collectResult$1(Dataset.scala:3449)\n",
       "\tat org.apache.spark.sql.Dataset.$anonfun$withAction$3(Dataset.scala:4373)\n",
       "\tat org.apache.spark.sql.execution.QueryExecution$.withInternalError(QueryExecution.scala:841)\n",
       "\tat org.apache.spark.sql.Dataset.$anonfun$withAction$2(Dataset.scala:4371)\n",
       "\tat org.apache.spark.sql.execution.SQLExecution$.$anonfun$withCustomExecutionEnv$9(SQLExecution.scala:258)\n",
       "\tat org.apache.spark.sql.execution.SQLExecution$.withSQLConfPropagated(SQLExecution.scala:448)\n",
       "\tat org.apache.spark.sql.execution.SQLExecution$.$anonfun$withCustomExecutionEnv$1(SQLExecution.scala:203)\n",
       "\tat org.apache.spark.sql.SparkSession.withActive(SparkSession.scala:1073)\n",
       "\tat org.apache.spark.sql.execution.SQLExecution$.withCustomExecutionEnv(SQLExecution.scala:131)\n",
       "\tat org.apache.spark.sql.execution.SQLExecution$.withNewExecutionId(SQLExecution.scala:398)\n",
       "\tat org.apache.spark.sql.Dataset.withAction(Dataset.scala:4371)\n",
       "\tat org.apache.spark.sql.Dataset.collectResult(Dataset.scala:3448)\n",
       "\tat com.databricks.backend.daemon.driver.OutputAggregator$.withOutputAggregation0(OutputAggregator.scala:267)\n",
       "\tat com.databricks.backend.daemon.driver.OutputAggregator$.withOutputAggregation(OutputAggregator.scala:101)\n",
       "\tat com.databricks.backend.daemon.driver.PythonDriverLocalBase.generateTableResult(PythonDriverLocalBase.scala:723)\n",
       "\tat com.databricks.backend.daemon.driver.JupyterDriverLocal.computeListResultsItem(JupyterDriverLocal.scala:887)\n",
       "\tat com.databricks.backend.daemon.driver.JupyterDriverLocal$JupyterEntryPoint.addCustomDisplayData(JupyterDriverLocal.scala:286)\n",
       "\tat sun.reflect.GeneratedMethodAccessor706.invoke(Unknown Source)\n",
       "\tat sun.reflect.DelegatingMethodAccessorImpl.invoke(DelegatingMethodAccessorImpl.java:43)\n",
       "\tat java.lang.reflect.Method.invoke(Method.java:498)\n",
       "\tat py4j.reflection.MethodInvoker.invoke(MethodInvoker.java:244)\n",
       "\tat py4j.reflection.ReflectionEngine.invoke(ReflectionEngine.java:380)\n",
       "\tat py4j.Gateway.invoke(Gateway.java:306)\n",
       "\tat py4j.commands.AbstractCommand.invokeMethod(AbstractCommand.java:132)\n",
       "\tat py4j.commands.CallCommand.execute(CallCommand.java:79)\n",
       "\tat py4j.ClientServerConnection.waitForCommands(ClientServerConnection.java:195)\n",
       "\tat py4j.ClientServerConnection.run(ClientServerConnection.java:115)\n",
       "\tat java.lang.Thread.run(Thread.java:750)\n",
       "Caused by: org.apache.spark.SparkException: [FAILED_EXECUTE_UDF] Failed to execute user defined function (Bucketizer$$Lambda$8777/1520516075: (double) => double).\n",
       "\tat org.apache.spark.sql.errors.QueryExecutionErrors$.failedExecuteUserDefinedFunctionError(QueryExecutionErrors.scala:246)\n",
       "\tat org.apache.spark.sql.errors.QueryExecutionErrors.failedExecuteUserDefinedFunctionError(QueryExecutionErrors.scala)\n",
       "\tat org.apache.spark.sql.catalyst.expressions.GeneratedClass$GeneratedIteratorForCodegenStage1.project_doConsume_0$(Unknown Source)\n",
       "\tat org.apache.spark.sql.catalyst.expressions.GeneratedClass$GeneratedIteratorForCodegenStage1.processNext(Unknown Source)\n",
       "\tat org.apache.spark.sql.execution.BufferedRowIterator.hasNext(BufferedRowIterator.java:43)\n",
       "\tat org.apache.spark.sql.execution.WholeStageCodegenExec$$anon$1.hasNext(WholeStageCodegenExec.scala:761)\n",
       "\tat org.apache.spark.sql.execution.collect.UnsafeRowBatchUtils$.encodeUnsafeRows(UnsafeRowBatchUtils.scala:82)\n",
       "\tat org.apache.spark.sql.execution.collect.Collector.$anonfun$processFunc$1(Collector.scala:208)\n",
       "\tat org.apache.spark.scheduler.ResultTask.$anonfun$runTask$3(ResultTask.scala:75)\n",
       "\tat com.databricks.spark.util.ExecutorFrameProfiler$.record(ExecutorFrameProfiler.scala:110)\n",
       "\tat org.apache.spark.scheduler.ResultTask.$anonfun$runTask$1(ResultTask.scala:75)\n",
       "\tat com.databricks.spark.util.ExecutorFrameProfiler$.record(ExecutorFrameProfiler.scala:110)\n",
       "\tat org.apache.spark.scheduler.ResultTask.runTask(ResultTask.scala:55)\n",
       "\tat org.apache.spark.scheduler.Task.doRunTask(Task.scala:179)\n",
       "\tat org.apache.spark.scheduler.Task.$anonfun$run$5(Task.scala:142)\n",
       "\tat com.databricks.unity.EmptyHandle$.runWithAndClose(UCSHandle.scala:126)\n",
       "\tat org.apache.spark.scheduler.Task.$anonfun$run$1(Task.scala:142)\n",
       "\tat com.databricks.spark.util.ExecutorFrameProfiler$.record(ExecutorFrameProfiler.scala:110)\n",
       "\tat org.apache.spark.scheduler.Task.run(Task.scala:97)\n",
       "\tat org.apache.spark.executor.Executor$TaskRunner.$anonfun$run$13(Executor.scala:904)\n",
       "\tat org.apache.spark.util.Utils$.tryWithSafeFinally(Utils.scala:1740)\n",
       "\tat org.apache.spark.executor.Executor$TaskRunner.$anonfun$run$4(Executor.scala:907)\n",
       "\tat scala.runtime.java8.JFunction0$mcV$sp.apply(JFunction0$mcV$sp.java:23)\n",
       "\tat com.databricks.spark.util.ExecutorFrameProfiler$.record(ExecutorFrameProfiler.scala:110)\n",
       "\tat org.apache.spark.executor.Executor$TaskRunner.run(Executor.scala:761)\n",
       "\tat java.util.concurrent.ThreadPoolExecutor.runWorker(ThreadPoolExecutor.java:1149)\n",
       "\tat java.util.concurrent.ThreadPoolExecutor$Worker.run(ThreadPoolExecutor.java:624)\n",
       "\t... 1 more\n",
       "Caused by: org.apache.spark.SparkException: Feature value 199.99 out of Bucketizer bounds [0.0, 100.0]. Check your features, or loosen the lower/upper bound constraints.\n",
       "\tat org.apache.spark.ml.feature.Bucketizer$.binarySearchForBuckets(Bucketizer.scala:296)\n",
       "\tat org.apache.spark.ml.feature.Bucketizer.$anonfun$transform$2(Bucketizer.scala:170)\n",
       "\tat scala.runtime.java8.JFunction1$mcDD$sp.apply(JFunction1$mcDD$sp.java:23)\n",
       "\t... 26 more"
      ]
     },
     "metadata": {
      "application/vnd.databricks.v1+output": {
       "arguments": {},
       "data": "org.apache.spark.SparkException: Job aborted due to stage failure: Task 0 in stage 89.0 failed 1 times, most recent failure: Lost task 0.0 in stage 89.0 (TID 266) (ip-10-172-249-71.us-west-2.compute.internal executor driver): org.apache.spark.SparkException: [FAILED_EXECUTE_UDF] Failed to execute user defined function (Bucketizer$$Lambda$8777/1520516075: (double) => double).\n\tat org.apache.spark.sql.errors.QueryExecutionErrors$.failedExecuteUserDefinedFunctionError(QueryExecutionErrors.scala:246)\n\tat org.apache.spark.sql.errors.QueryExecutionErrors.failedExecuteUserDefinedFunctionError(QueryExecutionErrors.scala)\n\tat org.apache.spark.sql.catalyst.expressions.GeneratedClass$GeneratedIteratorForCodegenStage1.project_doConsume_0$(Unknown Source)\n\tat org.apache.spark.sql.catalyst.expressions.GeneratedClass$GeneratedIteratorForCodegenStage1.processNext(Unknown Source)\n\tat org.apache.spark.sql.execution.BufferedRowIterator.hasNext(BufferedRowIterator.java:43)\n\tat org.apache.spark.sql.execution.WholeStageCodegenExec$$anon$1.hasNext(WholeStageCodegenExec.scala:761)\n\tat org.apache.spark.sql.execution.collect.UnsafeRowBatchUtils$.encodeUnsafeRows(UnsafeRowBatchUtils.scala:82)\n\tat org.apache.spark.sql.execution.collect.Collector.$anonfun$processFunc$1(Collector.scala:208)\n\tat org.apache.spark.scheduler.ResultTask.$anonfun$runTask$3(ResultTask.scala:75)\n\tat com.databricks.spark.util.ExecutorFrameProfiler$.record(ExecutorFrameProfiler.scala:110)\n\tat org.apache.spark.scheduler.ResultTask.$anonfun$runTask$1(ResultTask.scala:75)\n\tat com.databricks.spark.util.ExecutorFrameProfiler$.record(ExecutorFrameProfiler.scala:110)\n\tat org.apache.spark.scheduler.ResultTask.runTask(ResultTask.scala:55)\n\tat org.apache.spark.scheduler.Task.doRunTask(Task.scala:179)\n\tat org.apache.spark.scheduler.Task.$anonfun$run$5(Task.scala:142)\n\tat com.databricks.unity.EmptyHandle$.runWithAndClose(UCSHandle.scala:126)\n\tat org.apache.spark.scheduler.Task.$anonfun$run$1(Task.scala:142)\n\tat com.databricks.spark.util.ExecutorFrameProfiler$.record(ExecutorFrameProfiler.scala:110)\n\tat org.apache.spark.scheduler.Task.run(Task.scala:97)\n\tat org.apache.spark.executor.Executor$TaskRunner.$anonfun$run$13(Executor.scala:904)\n\tat org.apache.spark.util.Utils$.tryWithSafeFinally(Utils.scala:1740)\n\tat org.apache.spark.executor.Executor$TaskRunner.$anonfun$run$4(Executor.scala:907)\n\tat scala.runtime.java8.JFunction0$mcV$sp.apply(JFunction0$mcV$sp.java:23)\n\tat com.databricks.spark.util.ExecutorFrameProfiler$.record(ExecutorFrameProfiler.scala:110)\n\tat org.apache.spark.executor.Executor$TaskRunner.run(Executor.scala:761)\n\tat java.util.concurrent.ThreadPoolExecutor.runWorker(ThreadPoolExecutor.java:1149)\n\tat java.util.concurrent.ThreadPoolExecutor$Worker.run(ThreadPoolExecutor.java:624)\n\tat java.lang.Thread.run(Thread.java:750)\nCaused by: org.apache.spark.SparkException: Feature value 199.99 out of Bucketizer bounds [0.0, 100.0]. Check your features, or loosen the lower/upper bound constraints.\n\tat org.apache.spark.ml.feature.Bucketizer$.binarySearchForBuckets(Bucketizer.scala:296)\n\tat org.apache.spark.ml.feature.Bucketizer.$anonfun$transform$2(Bucketizer.scala:170)\n\tat scala.runtime.java8.JFunction1$mcDD$sp.apply(JFunction1$mcDD$sp.java:23)\n\t... 26 more\n\nDriver stacktrace:\n\tat org.apache.spark.scheduler.DAGScheduler.failJobAndIndependentStages(DAGScheduler.scala:3470)\n\tat org.apache.spark.scheduler.DAGScheduler.$anonfun$abortStage$2(DAGScheduler.scala:3392)\n\tat org.apache.spark.scheduler.DAGScheduler.$anonfun$abortStage$2$adapted(DAGScheduler.scala:3381)\n\tat scala.collection.mutable.ResizableArray.foreach(ResizableArray.scala:62)\n\tat scala.collection.mutable.ResizableArray.foreach$(ResizableArray.scala:55)\n\tat scala.collection.mutable.ArrayBuffer.foreach(ArrayBuffer.scala:49)\n\tat org.apache.spark.scheduler.DAGScheduler.abortStage(DAGScheduler.scala:3381)\n\tat org.apache.spark.scheduler.DAGScheduler.$anonfun$handleTaskSetFailed$1(DAGScheduler.scala:1490)\n\tat org.apache.spark.scheduler.DAGScheduler.$anonfun$handleTaskSetFailed$1$adapted(DAGScheduler.scala:1490)\n\tat scala.Option.foreach(Option.scala:407)\n\tat org.apache.spark.scheduler.DAGScheduler.handleTaskSetFailed(DAGScheduler.scala:1490)\n\tat org.apache.spark.scheduler.DAGSchedulerEventProcessLoop.doOnReceive(DAGScheduler.scala:3681)\n\tat org.apache.spark.scheduler.DAGSchedulerEventProcessLoop.onReceive(DAGScheduler.scala:3619)\n\tat org.apache.spark.scheduler.DAGSchedulerEventProcessLoop.onReceive(DAGScheduler.scala:3607)\n\tat org.apache.spark.util.EventLoop$$anon$1.run(EventLoop.scala:51)\n\tat org.apache.spark.scheduler.DAGScheduler.$anonfun$runJob$1(DAGScheduler.scala:1239)\n\tat scala.runtime.java8.JFunction0$mcV$sp.apply(JFunction0$mcV$sp.java:23)\n\tat com.databricks.spark.util.FrameProfiler$.record(FrameProfiler.scala:80)\n\tat org.apache.spark.scheduler.DAGScheduler.runJob(DAGScheduler.scala:1227)\n\tat org.apache.spark.SparkContext.runJobInternal(SparkContext.scala:2758)\n\tat org.apache.spark.sql.execution.collect.Collector.$anonfun$runSparkJobs$1(Collector.scala:349)\n\tat scala.runtime.java8.JFunction0$mcV$sp.apply(JFunction0$mcV$sp.java:23)\n\tat com.databricks.spark.util.FrameProfiler$.record(FrameProfiler.scala:80)\n\tat org.apache.spark.sql.execution.collect.Collector.runSparkJobs(Collector.scala:293)\n\tat org.apache.spark.sql.execution.collect.Collector.collect(Collector.scala:377)\n\tat org.apache.spark.sql.execution.collect.Collector$.collect(Collector.scala:128)\n\tat org.apache.spark.sql.execution.collect.Collector$.collect(Collector.scala:135)\n\tat org.apache.spark.sql.execution.qrc.InternalRowFormat$.collect(cachedSparkResults.scala:122)\n\tat org.apache.spark.sql.execution.qrc.InternalRowFormat$.collect(cachedSparkResults.scala:110)\n\tat org.apache.spark.sql.execution.qrc.InternalRowFormat$.collect(cachedSparkResults.scala:92)\n\tat org.apache.spark.sql.execution.qrc.ResultCacheManager.$anonfun$computeResult$1(ResultCacheManager.scala:537)\n\tat com.databricks.spark.util.FrameProfiler$.record(FrameProfiler.scala:80)\n\tat org.apache.spark.sql.execution.qrc.ResultCacheManager.collectResult$1(ResultCacheManager.scala:529)\n\tat org.apache.spark.sql.execution.qrc.ResultCacheManager.computeResult(ResultCacheManager.scala:549)\n\tat org.apache.spark.sql.execution.qrc.ResultCacheManager.$anonfun$getOrComputeResultInternal$1(ResultCacheManager.scala:402)\n\tat scala.Option.getOrElse(Option.scala:189)\n\tat org.apache.spark.sql.execution.qrc.ResultCacheManager.getOrComputeResultInternal(ResultCacheManager.scala:395)\n\tat org.apache.spark.sql.execution.qrc.ResultCacheManager.getOrComputeResult(ResultCacheManager.scala:289)\n\tat org.apache.spark.sql.execution.SparkPlan.$anonfun$executeCollectResult$1(SparkPlan.scala:506)\n\tat com.databricks.spark.util.FrameProfiler$.record(FrameProfiler.scala:80)\n\tat org.apache.spark.sql.execution.SparkPlan.executeCollectResult(SparkPlan.scala:503)\n\tat org.apache.spark.sql.Dataset.collectResult(Dataset.scala:3458)\n\tat org.apache.spark.sql.Dataset.$anonfun$collectResult$1(Dataset.scala:3449)\n\tat org.apache.spark.sql.Dataset.$anonfun$withAction$3(Dataset.scala:4373)\n\tat org.apache.spark.sql.execution.QueryExecution$.withInternalError(QueryExecution.scala:841)\n\tat org.apache.spark.sql.Dataset.$anonfun$withAction$2(Dataset.scala:4371)\n\tat org.apache.spark.sql.execution.SQLExecution$.$anonfun$withCustomExecutionEnv$9(SQLExecution.scala:258)\n\tat org.apache.spark.sql.execution.SQLExecution$.withSQLConfPropagated(SQLExecution.scala:448)\n\tat org.apache.spark.sql.execution.SQLExecution$.$anonfun$withCustomExecutionEnv$1(SQLExecution.scala:203)\n\tat org.apache.spark.sql.SparkSession.withActive(SparkSession.scala:1073)\n\tat org.apache.spark.sql.execution.SQLExecution$.withCustomExecutionEnv(SQLExecution.scala:131)\n\tat org.apache.spark.sql.execution.SQLExecution$.withNewExecutionId(SQLExecution.scala:398)\n\tat org.apache.spark.sql.Dataset.withAction(Dataset.scala:4371)\n\tat org.apache.spark.sql.Dataset.collectResult(Dataset.scala:3448)\n\tat com.databricks.backend.daemon.driver.OutputAggregator$.withOutputAggregation0(OutputAggregator.scala:267)\n\tat com.databricks.backend.daemon.driver.OutputAggregator$.withOutputAggregation(OutputAggregator.scala:101)\n\tat com.databricks.backend.daemon.driver.PythonDriverLocalBase.generateTableResult(PythonDriverLocalBase.scala:723)\n\tat com.databricks.backend.daemon.driver.JupyterDriverLocal.computeListResultsItem(JupyterDriverLocal.scala:887)\n\tat com.databricks.backend.daemon.driver.JupyterDriverLocal$JupyterEntryPoint.addCustomDisplayData(JupyterDriverLocal.scala:286)\n\tat sun.reflect.GeneratedMethodAccessor706.invoke(Unknown Source)\n\tat sun.reflect.DelegatingMethodAccessorImpl.invoke(DelegatingMethodAccessorImpl.java:43)\n\tat java.lang.reflect.Method.invoke(Method.java:498)\n\tat py4j.reflection.MethodInvoker.invoke(MethodInvoker.java:244)\n\tat py4j.reflection.ReflectionEngine.invoke(ReflectionEngine.java:380)\n\tat py4j.Gateway.invoke(Gateway.java:306)\n\tat py4j.commands.AbstractCommand.invokeMethod(AbstractCommand.java:132)\n\tat py4j.commands.CallCommand.execute(CallCommand.java:79)\n\tat py4j.ClientServerConnection.waitForCommands(ClientServerConnection.java:195)\n\tat py4j.ClientServerConnection.run(ClientServerConnection.java:115)\n\tat java.lang.Thread.run(Thread.java:750)\nCaused by: org.apache.spark.SparkException: [FAILED_EXECUTE_UDF] Failed to execute user defined function (Bucketizer$$Lambda$8777/1520516075: (double) => double).\n\tat org.apache.spark.sql.errors.QueryExecutionErrors$.failedExecuteUserDefinedFunctionError(QueryExecutionErrors.scala:246)\n\tat org.apache.spark.sql.errors.QueryExecutionErrors.failedExecuteUserDefinedFunctionError(QueryExecutionErrors.scala)\n\tat org.apache.spark.sql.catalyst.expressions.GeneratedClass$GeneratedIteratorForCodegenStage1.project_doConsume_0$(Unknown Source)\n\tat org.apache.spark.sql.catalyst.expressions.GeneratedClass$GeneratedIteratorForCodegenStage1.processNext(Unknown Source)\n\tat org.apache.spark.sql.execution.BufferedRowIterator.hasNext(BufferedRowIterator.java:43)\n\tat org.apache.spark.sql.execution.WholeStageCodegenExec$$anon$1.hasNext(WholeStageCodegenExec.scala:761)\n\tat org.apache.spark.sql.execution.collect.UnsafeRowBatchUtils$.encodeUnsafeRows(UnsafeRowBatchUtils.scala:82)\n\tat org.apache.spark.sql.execution.collect.Collector.$anonfun$processFunc$1(Collector.scala:208)\n\tat org.apache.spark.scheduler.ResultTask.$anonfun$runTask$3(ResultTask.scala:75)\n\tat com.databricks.spark.util.ExecutorFrameProfiler$.record(ExecutorFrameProfiler.scala:110)\n\tat org.apache.spark.scheduler.ResultTask.$anonfun$runTask$1(ResultTask.scala:75)\n\tat com.databricks.spark.util.ExecutorFrameProfiler$.record(ExecutorFrameProfiler.scala:110)\n\tat org.apache.spark.scheduler.ResultTask.runTask(ResultTask.scala:55)\n\tat org.apache.spark.scheduler.Task.doRunTask(Task.scala:179)\n\tat org.apache.spark.scheduler.Task.$anonfun$run$5(Task.scala:142)\n\tat com.databricks.unity.EmptyHandle$.runWithAndClose(UCSHandle.scala:126)\n\tat org.apache.spark.scheduler.Task.$anonfun$run$1(Task.scala:142)\n\tat com.databricks.spark.util.ExecutorFrameProfiler$.record(ExecutorFrameProfiler.scala:110)\n\tat org.apache.spark.scheduler.Task.run(Task.scala:97)\n\tat org.apache.spark.executor.Executor$TaskRunner.$anonfun$run$13(Executor.scala:904)\n\tat org.apache.spark.util.Utils$.tryWithSafeFinally(Utils.scala:1740)\n\tat org.apache.spark.executor.Executor$TaskRunner.$anonfun$run$4(Executor.scala:907)\n\tat scala.runtime.java8.JFunction0$mcV$sp.apply(JFunction0$mcV$sp.java:23)\n\tat com.databricks.spark.util.ExecutorFrameProfiler$.record(ExecutorFrameProfiler.scala:110)\n\tat org.apache.spark.executor.Executor$TaskRunner.run(Executor.scala:761)\n\tat java.util.concurrent.ThreadPoolExecutor.runWorker(ThreadPoolExecutor.java:1149)\n\tat java.util.concurrent.ThreadPoolExecutor$Worker.run(ThreadPoolExecutor.java:624)\n\t... 1 more\nCaused by: org.apache.spark.SparkException: Feature value 199.99 out of Bucketizer bounds [0.0, 100.0]. Check your features, or loosen the lower/upper bound constraints.\n\tat org.apache.spark.ml.feature.Bucketizer$.binarySearchForBuckets(Bucketizer.scala:296)\n\tat org.apache.spark.ml.feature.Bucketizer.$anonfun$transform$2(Bucketizer.scala:170)\n\tat scala.runtime.java8.JFunction1$mcDD$sp.apply(JFunction1$mcDD$sp.java:23)\n\t... 26 more\n",
       "errorSummary": "SparkException: [FAILED_EXECUTE_UDF] Failed to execute user defined function (Bucketizer$$Lambda$8777/1520516075: (double) => double).\nCaused by: SparkException: Feature value 199.99 out of Bucketizer bounds [0.0, 100.0]. Check your features, or loosen the lower/upper bound constraints.",
       "errorTraceType": "html",
       "metadata": {},
       "type": "ipynbError"
      }
     },
     "output_type": "display_data"
    }
   ],
   "source": [
    "from pyspark.ml.feature import Bucketizer\n",
    "\n",
    "my_bucket = Bucketizer()\n",
    "my_bucket.setSplitsArray([[x for x in range(0, 110, 10)], [x for x in range(0, 110, 10)]])   # classes de prix de 10 en 10 entre 0 et 100 euros\n",
    " \n",
    "\n",
    "price_df = flat_df.withColumn('initialprice', flat_df.initialprice / 100)\\\n",
    "                  .withColumn('price', flat_df.price / 100)\n",
    "\n",
    "my_bucket.setInputCols(['initialprice', 'price'])\n",
    "my_bucket.setOutputCols(['init_price_bucket', 'price_bucket'])\n",
    "\n",
    "price_df2 = my_bucket.transform(price_df)\n",
    "display(price_df2.select('initialprice', 'price', 'init_price_bucket', 'price_bucket'))"
   ]
  },
  {
   "cell_type": "markdown",
   "metadata": {
    "application/vnd.databricks.v1+cell": {
     "cellMetadata": {
      "byteLimit": 2048000,
      "rowLimit": 10000
     },
     "inputWidgets": {},
     "nuid": "c29741d6-d51e-4fdf-8a46-756d9377d369",
     "showTitle": false,
     "title": ""
    }
   },
   "source": [
    "### Question 5 : Quelles langues sont les plus représentées ?"
   ]
  },
  {
   "cell_type": "code",
   "execution_count": 0,
   "metadata": {
    "application/vnd.databricks.v1+cell": {
     "cellMetadata": {
      "byteLimit": 2048000,
      "rowLimit": 10000
     },
     "inputWidgets": {},
     "nuid": "aa00faca-e58b-46e3-a7e3-5354b92b7315",
     "showTitle": false,
     "title": ""
    }
   },
   "outputs": [
    {
     "output_type": "display_data",
     "data": {
      "text/html": [
       "<div>\n",
       "<style scoped>\n",
       "    .dataframe tbody tr th:only-of-type {\n",
       "        vertical-align: middle;\n",
       "    }\n",
       "\n",
       "    .dataframe tbody tr th {\n",
       "        vertical-align: top;\n",
       "    }\n",
       "\n",
       "    .dataframe thead th {\n",
       "        text-align: right;\n",
       "    }\n",
       "</style>\n",
       "<table border=\"1\" class=\"dataframe\">\n",
       "  <thead>\n",
       "    <tr style=\"text-align: right;\">\n",
       "      <th></th>\n",
       "      <th>languages_splited</th>\n",
       "      <th>count</th>\n",
       "    </tr>\n",
       "  </thead>\n",
       "  <tbody>\n",
       "    <tr>\n",
       "      <th>0</th>\n",
       "      <td>English</td>\n",
       "      <td>55116</td>\n",
       "    </tr>\n",
       "    <tr>\n",
       "      <th>1</th>\n",
       "      <td>German</td>\n",
       "      <td>14019</td>\n",
       "    </tr>\n",
       "    <tr>\n",
       "      <th>2</th>\n",
       "      <td>French</td>\n",
       "      <td>13426</td>\n",
       "    </tr>\n",
       "    <tr>\n",
       "      <th>3</th>\n",
       "      <td>Russian</td>\n",
       "      <td>12922</td>\n",
       "    </tr>\n",
       "    <tr>\n",
       "      <th>4</th>\n",
       "      <td>Simplified Chinese</td>\n",
       "      <td>12782</td>\n",
       "    </tr>\n",
       "  </tbody>\n",
       "</table>\n",
       "</div>"
      ]
     },
     "metadata": {
      "application/vnd.databricks.v1+output": {
       "addedWidgets": {},
       "arguments": {},
       "data": "<div>\n<style scoped>\n    .dataframe tbody tr th:only-of-type {\n        vertical-align: middle;\n    }\n\n    .dataframe tbody tr th {\n        vertical-align: top;\n    }\n\n    .dataframe thead th {\n        text-align: right;\n    }\n</style>\n<table border=\"1\" class=\"dataframe\">\n  <thead>\n    <tr style=\"text-align: right;\">\n      <th></th>\n      <th>languages_splited</th>\n      <th>count</th>\n    </tr>\n  </thead>\n  <tbody>\n    <tr>\n      <th>0</th>\n      <td>English</td>\n      <td>55116</td>\n    </tr>\n    <tr>\n      <th>1</th>\n      <td>German</td>\n      <td>14019</td>\n    </tr>\n    <tr>\n      <th>2</th>\n      <td>French</td>\n      <td>13426</td>\n    </tr>\n    <tr>\n      <th>3</th>\n      <td>Russian</td>\n      <td>12922</td>\n    </tr>\n    <tr>\n      <th>4</th>\n      <td>Simplified Chinese</td>\n      <td>12782</td>\n    </tr>\n  </tbody>\n</table>\n</div>",
       "datasetInfos": [],
       "metadata": {},
       "removedWidgets": [],
       "textData": null,
       "type": "htmlSandbox"
      }
     },
     "output_type": "display_data"
    }
   ],
   "source": [
    "result_lang = flat_df.withColumn('languages_splited', F.explode(F.split(flat_df['languages'], ', '))) \\\n",
    "    .groupBy('languages_splited') \\\n",
    "    .count() \\\n",
    "    .orderBy(F.desc('count'))\n",
    "    \n",
    "result_lang.limit(5).toPandas()"
   ]
  },
  {
   "cell_type": "markdown",
   "metadata": {
    "application/vnd.databricks.v1+cell": {
     "cellMetadata": {},
     "inputWidgets": {},
     "nuid": "b62a07d8-bb05-4cfa-813e-9954371ff1ff",
     "showTitle": false,
     "title": ""
    }
   },
   "source": [
    "### Question 6 : Y a-t-il beaucoup de jeux interdits aux moins de 18 ans ? au moins de 16 ans ?"
   ]
  },
  {
   "cell_type": "code",
   "execution_count": 0,
   "metadata": {
    "application/vnd.databricks.v1+cell": {
     "cellMetadata": {
      "byteLimit": 2048000,
      "rowLimit": 10000
     },
     "inputWidgets": {},
     "nuid": "2a991095-b537-46e2-8b8b-a9e4e01ffeef",
     "showTitle": false,
     "title": ""
    }
   },
   "outputs": [
    {
     "output_type": "stream",
     "name": "stdout",
     "output_type": "stream",
     "text": [
      "<class 'str'>\n"
     ]
    }
   ],
   "source": [
    "from pyspark.sql.types import LongType\n",
    "\n",
    "def convert_str_to_int(df,str_col_name):\n",
    "    df = df.withColumn(str_col_name, df[str_col_name].cast(LongType()))\n",
    "    return df\n",
    "\n",
    "def check_type(df,str_col_name):\n",
    "    print(type(df.select(str_col_name).head()[str_col_name]))\n",
    "\n",
    "convert_str_to_int(flat_df,'required_age')\n",
    "check_type(flat_df,'required_age')"
   ]
  },
  {
   "cell_type": "code",
   "execution_count": 0,
   "metadata": {
    "application/vnd.databricks.v1+cell": {
     "cellMetadata": {
      "byteLimit": 2048000,
      "rowLimit": 10000
     },
     "inputWidgets": {},
     "nuid": "e252def4-d6a5-450d-8908-27105befc6be",
     "showTitle": false,
     "title": ""
    }
   },
   "outputs": [
    {
     "output_type": "display_data",
     "data": {
      "text/html": [
       "<style scoped>\n",
       "  .table-result-container {\n",
       "    max-height: 300px;\n",
       "    overflow: auto;\n",
       "  }\n",
       "  table, th, td {\n",
       "    border: 1px solid black;\n",
       "    border-collapse: collapse;\n",
       "  }\n",
       "  th, td {\n",
       "    padding: 5px;\n",
       "  }\n",
       "  th {\n",
       "    text-align: left;\n",
       "  }\n",
       "</style><div class='table-result-container'><table class='table-result'><thead style='background-color: white'><tr><th>required_age</th><th>count_by_required_age</th></tr></thead><tbody><tr><td>9</td><td>1</td></tr><tr><td>8</td><td>3</td></tr><tr><td>7</td><td>2</td></tr><tr><td>6</td><td>4</td></tr><tr><td>5</td><td>1</td></tr><tr><td>35</td><td>1</td></tr><tr><td>3</td><td>3</td></tr><tr><td>20</td><td>1</td></tr><tr><td>18</td><td>223</td></tr><tr><td>17</td><td>38</td></tr><tr><td>16</td><td>38</td></tr><tr><td>15</td><td>264</td></tr><tr><td>14</td><td>10</td></tr><tr><td>13</td><td>26</td></tr><tr><td>12</td><td>32</td></tr><tr><td>10</td><td>7</td></tr><tr><td>0</td><td>55030</td></tr></tbody></table></div>"
      ]
     },
     "metadata": {
      "application/vnd.databricks.v1+output": {
       "addedWidgets": {},
       "aggData": [],
       "aggError": "",
       "aggOverflow": false,
       "aggSchema": [],
       "aggSeriesLimitReached": false,
       "aggType": "",
       "arguments": {},
       "columnCustomDisplayInfos": {},
       "data": [
        [
         "9",
         1
        ],
        [
         "8",
         3
        ],
        [
         "7",
         2
        ],
        [
         "6",
         4
        ],
        [
         "5",
         1
        ],
        [
         "35",
         1
        ],
        [
         "3",
         3
        ],
        [
         "20",
         1
        ],
        [
         "18",
         223
        ],
        [
         "17",
         38
        ],
        [
         "16",
         38
        ],
        [
         "15",
         264
        ],
        [
         "14",
         10
        ],
        [
         "13",
         26
        ],
        [
         "12",
         32
        ],
        [
         "10",
         7
        ],
        [
         "0",
         55030
        ]
       ],
       "datasetInfos": [],
       "dbfsResultPath": null,
       "isJsonSchema": true,
       "metadata": {},
       "overflow": false,
       "plotOptions": {
        "customPlotOptions": {},
        "displayType": "table",
        "pivotAggregation": null,
        "pivotColumns": null,
        "xColumns": null,
        "yColumns": null
       },
       "removedWidgets": [],
       "schema": [
        {
         "metadata": "{}",
         "name": "required_age",
         "type": "\"string\""
        },
        {
         "metadata": "{}",
         "name": "count_by_required_age",
         "type": "\"long\""
        }
       ],
       "type": "table"
      }
     },
     "output_type": "display_data"
    }
   ],
   "source": [
    "def distribution(df,select_list_col,groupby_col,order_by_col):\n",
    "    result_df = df.select(*select_list_col) \\\n",
    "        .groupBy(*groupby_col) \\\n",
    "        .count() \\\n",
    "        .withColumnRenamed('count', f'count_by_{groupby_col[0]}') \\\n",
    "        .orderBy(F.col(*order_by_col).desc())\n",
    "    return result_df\n",
    "\n",
    "distribution_age = distribution(flat_df,['required_age'],['required_age'],['required_age'])"
   ]
  },
  {
   "cell_type": "code",
   "execution_count": 0,
   "metadata": {
    "application/vnd.databricks.v1+cell": {
     "cellMetadata": {
      "byteLimit": 2048000,
      "rowLimit": 10000
     },
     "inputWidgets": {},
     "nuid": "18ca17f7-8a20-4286-9dea-43dcb6518064",
     "showTitle": false,
     "title": ""
    }
   },
   "outputs": [
    {
     "output_type": "display_data",
     "data": {
      "text/html": [
       "<style scoped>\n",
       "  .table-result-container {\n",
       "    max-height: 300px;\n",
       "    overflow: auto;\n",
       "  }\n",
       "  table, th, td {\n",
       "    border: 1px solid black;\n",
       "    border-collapse: collapse;\n",
       "  }\n",
       "  th, td {\n",
       "    padding: 5px;\n",
       "  }\n",
       "  th {\n",
       "    text-align: left;\n",
       "  }\n",
       "</style><div class='table-result-container'><table class='table-result'><thead style='background-color: white'><tr><th>required_age</th><th>count_by_required_age</th></tr></thead><tbody><tr><td>0</td><td>55030</td></tr><tr><td>10</td><td>7</td></tr><tr><td>12</td><td>32</td></tr><tr><td>13</td><td>26</td></tr><tr><td>14</td><td>10</td></tr><tr><td>15</td><td>264</td></tr><tr><td>16</td><td>38</td></tr><tr><td>17</td><td>38</td></tr><tr><td>18</td><td>223</td></tr><tr><td>20</td><td>1</td></tr><tr><td>3</td><td>3</td></tr><tr><td>35</td><td>1</td></tr><tr><td>5</td><td>1</td></tr><tr><td>6</td><td>4</td></tr><tr><td>7</td><td>2</td></tr><tr><td>8</td><td>3</td></tr><tr><td>9</td><td>1</td></tr></tbody></table></div>"
      ]
     },
     "metadata": {
      "application/vnd.databricks.v1+output": {
       "addedWidgets": {},
       "aggData": [],
       "aggError": "",
       "aggOverflow": false,
       "aggSchema": [],
       "aggSeriesLimitReached": false,
       "aggType": "",
       "arguments": {},
       "columnCustomDisplayInfos": {},
       "data": [
        [
         "0",
         55030
        ],
        [
         "10",
         7
        ],
        [
         "12",
         32
        ],
        [
         "13",
         26
        ],
        [
         "14",
         10
        ],
        [
         "15",
         264
        ],
        [
         "16",
         38
        ],
        [
         "17",
         38
        ],
        [
         "18",
         223
        ],
        [
         "20",
         1
        ],
        [
         "3",
         3
        ],
        [
         "35",
         1
        ],
        [
         "5",
         1
        ],
        [
         "6",
         4
        ],
        [
         "7",
         2
        ],
        [
         "8",
         3
        ],
        [
         "9",
         1
        ]
       ],
       "datasetInfos": [],
       "dbfsResultPath": null,
       "isJsonSchema": true,
       "metadata": {},
       "overflow": false,
       "plotOptions": {
        "customPlotOptions": {},
        "displayType": "table",
        "pivotAggregation": null,
        "pivotColumns": null,
        "xColumns": null,
        "yColumns": null
       },
       "removedWidgets": [],
       "schema": [
        {
         "metadata": "{}",
         "name": "required_age",
         "type": "\"string\""
        },
        {
         "metadata": "{}",
         "name": "count_by_required_age",
         "type": "\"long\""
        }
       ],
       "type": "table"
      }
     },
     "output_type": "display_data"
    }
   ],
   "source": [
    "display(distribution_age.filter(F.col('required_age')<99).sort('required_age'))"
   ]
  },
  {
   "cell_type": "markdown",
   "metadata": {
    "application/vnd.databricks.v1+cell": {
     "cellMetadata": {},
     "inputWidgets": {},
     "nuid": "37fa2940-0b85-4f73-a422-6fc82d0e0c5c",
     "showTitle": false,
     "title": ""
    }
   },
   "source": [
    "### Autres questions pertinentes"
   ]
  },
  {
   "cell_type": "markdown",
   "metadata": {
    "application/vnd.databricks.v1+cell": {
     "cellMetadata": {},
     "inputWidgets": {},
     "nuid": "d71ed933-47b2-4920-a95e-cdae9b0df628",
     "showTitle": false,
     "title": ""
    }
   },
   "source": [
    "### Question 7 : Quels genres sont les plus représentés ?"
   ]
  },
  {
   "cell_type": "code",
   "execution_count": 0,
   "metadata": {
    "application/vnd.databricks.v1+cell": {
     "cellMetadata": {
      "byteLimit": 2048000,
      "rowLimit": 10000
     },
     "inputWidgets": {},
     "nuid": "918cae46-7adb-463d-b3e9-338e177f0350",
     "showTitle": false,
     "title": ""
    }
   },
   "outputs": [
    {
     "output_type": "display_data",
     "data": {
      "text/html": [
       "<style scoped>\n",
       "  .table-result-container {\n",
       "    max-height: 300px;\n",
       "    overflow: auto;\n",
       "  }\n",
       "  table, th, td {\n",
       "    border: 1px solid black;\n",
       "    border-collapse: collapse;\n",
       "  }\n",
       "  th, td {\n",
       "    padding: 5px;\n",
       "  }\n",
       "  th {\n",
       "    text-align: left;\n",
       "  }\n",
       "</style><div class='table-result-container'><table class='table-result'><thead style='background-color: white'><tr><th>genres_exploded</th><th>genre_count</th></tr></thead><tbody><tr><td>Indie</td><td>39681</td></tr><tr><td>Action</td><td>23759</td></tr><tr><td>Casual</td><td>22086</td></tr><tr><td>Adventure</td><td>21431</td></tr><tr><td>Strategy</td><td>10895</td></tr></tbody></table></div>"
      ]
     },
     "metadata": {
      "application/vnd.databricks.v1+output": {
       "addedWidgets": {},
       "aggData": [],
       "aggError": "",
       "aggOverflow": false,
       "aggSchema": [],
       "aggSeriesLimitReached": false,
       "aggType": "",
       "arguments": {},
       "columnCustomDisplayInfos": {},
       "data": [
        [
         "Indie",
         39681
        ],
        [
         "Action",
         23759
        ],
        [
         "Casual",
         22086
        ],
        [
         "Adventure",
         21431
        ],
        [
         "Strategy",
         10895
        ]
       ],
       "datasetInfos": [],
       "dbfsResultPath": null,
       "isJsonSchema": true,
       "metadata": {},
       "overflow": false,
       "plotOptions": {
        "customPlotOptions": {},
        "displayType": "table",
        "pivotAggregation": null,
        "pivotColumns": null,
        "xColumns": null,
        "yColumns": null
       },
       "removedWidgets": [],
       "schema": [
        {
         "metadata": "{}",
         "name": "genres_exploded",
         "type": "\"string\""
        },
        {
         "metadata": "{}",
         "name": "genre_count",
         "type": "\"long\""
        }
       ],
       "type": "table"
      }
     },
     "output_type": "display_data"
    }
   ],
   "source": [
    "genre_df = flat_df.withColumn('genres_exploded', F.explode(F.split(flat_df['genre'], ', ')))\n",
    "\n",
    "genre_counts = genre_df.select('genres_exploded') \\\n",
    "    .groupBy('genres_exploded') \\\n",
    "    .count() \\\n",
    "    .withColumnRenamed('count', 'genre_count') \\\n",
    "    .orderBy(F.desc('genre_count'))\n",
    "\n",
    "display(genre_counts.limit(5)) #top5"
   ]
  },
  {
   "cell_type": "markdown",
   "metadata": {
    "application/vnd.databricks.v1+cell": {
     "cellMetadata": {},
     "inputWidgets": {},
     "nuid": "262ff079-dcc9-47b5-ac8c-a9d322803a8d",
     "showTitle": false,
     "title": ""
    }
   },
   "source": [
    "On s'aperçoit qu'il est difficile de conclure car il y a (logiquement) plus de jeux indépendants même si cette catégorie reste très vague."
   ]
  },
  {
   "cell_type": "markdown",
   "metadata": {
    "application/vnd.databricks.v1+cell": {
     "cellMetadata": {},
     "inputWidgets": {},
     "nuid": "c9f6d6f1-26ac-41c1-8570-e1a96d6f409c",
     "showTitle": false,
     "title": ""
    }
   },
   "source": [
    "### Quelle est la répartition des systèmes d'exploitation / plateformes ?"
   ]
  },
  {
   "cell_type": "code",
   "execution_count": 0,
   "metadata": {
    "application/vnd.databricks.v1+cell": {
     "cellMetadata": {
      "byteLimit": 2048000,
      "rowLimit": 10000
     },
     "inputWidgets": {},
     "nuid": "b1edb2b2-93a8-450f-9fdc-5c400d0252f0",
     "showTitle": false,
     "title": ""
    }
   },
   "outputs": [
    {
     "output_type": "stream",
     "name": "stdout",
     "output_type": "stream",
     "text": [
      "+-------------+---------+-----------+\n|total_windows|total_mac|total_linux|\n+-------------+---------+-----------+\n|        55676|    12770|       8458|\n+-------------+---------+-----------+\n\n"
     ]
    }
   ],
   "source": [
    "cols = ['windows','mac','linux']\n",
    "\n",
    "os_df = flat_df.select(\n",
    "    *(F.col(c).cast(\"integer\").alias(c) for c in cols)\n",
    ") \\\n",
    ".groupBy() \\\n",
    ".agg(\n",
    "    F.sum(F.col('windows')).alias('total_windows'),\n",
    "    F.sum(F.col('mac')).alias('total_mac'),\n",
    "    F.sum(F.col('linux')).alias('total_linux')\n",
    ")\n",
    "\n",
    "# Showing the result\n",
    "os_df.show()"
   ]
  },
  {
   "cell_type": "markdown",
   "metadata": {
    "application/vnd.databricks.v1+cell": {
     "cellMetadata": {},
     "inputWidgets": {},
     "nuid": "420344a0-63b9-42a2-8b9d-6b742358db4e",
     "showTitle": false,
     "title": ""
    }
   },
   "source": [
    "Sans surprise Windows domine largement le marché des jeux vidéo, même si on remarque qu'un nombre important de jeux sont disponibles sous Mac ou Linux (notamment via l'influence de Proton et aujourd'hui du SteamDeck)"
   ]
  }
 ],
 "metadata": {
  "application/vnd.databricks.v1+notebook": {
   "dashboards": [],
   "environmentMetadata": null,
   "language": "python",
   "notebookMetadata": {
    "pythonIndentUnit": 4
   },
   "notebookName": "Steam Project - Part 1",
   "widgets": {}
  }
 },
 "nbformat": 4,
 "nbformat_minor": 0
}
